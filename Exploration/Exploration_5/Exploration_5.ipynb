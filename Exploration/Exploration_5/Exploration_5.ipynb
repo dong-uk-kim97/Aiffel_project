{
  "nbformat": 4,
  "nbformat_minor": 0,
  "metadata": {
    "colab": {
      "name": "Exploration_5.ipynb",
      "provenance": [],
      "collapsed_sections": [],
      "mount_file_id": "1a5YKXycoLP7gkckfAEBAIBAZitCHf8A9",
      "authorship_tag": "ABX9TyObr8uQdKLwwE5SO8fCpPkx",
      "include_colab_link": true
    },
    "kernelspec": {
      "name": "python3",
      "display_name": "Python 3"
    },
    "language_info": {
      "name": "python"
    },
    "accelerator": "GPU",
    "gpuClass": "standard"
  },
  "cells": [
    {
      "cell_type": "markdown",
      "metadata": {
        "id": "view-in-github",
        "colab_type": "text"
      },
      "source": [
        "<a href=\"https://colab.research.google.com/github/dong-uk-kim97/Exploration/blob/main/Exploration_5.ipynb\" target=\"_parent\"><img src=\"https://colab.research.google.com/assets/colab-badge.svg\" alt=\"Open In Colab\"/></a>"
      ]
    },
    {
      "cell_type": "markdown",
      "source": [
        "# 인공지능과 가위바위보"
      ],
      "metadata": {
        "id": "G9t03BzPsBbY"
      }
    },
    {
      "cell_type": "markdown",
      "source": [
        "이미지 사이즈 바꾸는 함수 생성 및 적용"
      ],
      "metadata": {
        "id": "nfmK0rPWsF8G"
      }
    },
    {
      "cell_type": "code",
      "execution_count": 1,
      "metadata": {
        "id": "AjiOzvmf34YZ",
        "colab": {
          "base_uri": "https://localhost:8080/"
        },
        "outputId": "b2664c84-2dea-4625-8c50-e66a9eea2447"
      },
      "outputs": [
        {
          "output_type": "stream",
          "name": "stdout",
          "text": [
            "100 images to be resized.\n",
            "100 images resized\n",
            "100 images to be resized.\n",
            "100 images resized\n",
            "100 images to be resized.\n",
            "100 images resized\n"
          ]
        }
      ],
      "source": [
        "from PIL import Image\n",
        "import  glob\n",
        "import numpy as np\n",
        "import matplotlib.pyplot as plt\n",
        "\n",
        "\n",
        "def resize_images(img_path):\n",
        "    images = glob.glob(img_path + '/*.jpg')\n",
        "    \n",
        "    print(len(images), 'images to be resized.')\n",
        "    \n",
        "    # 파일마다 모두 28*28 사이즈로 바꾸어 저장\n",
        "    target_size = (28,28)\n",
        "    for img in images:\n",
        "        old_img = Image.open(img)\n",
        "        new_img = old_img.resize(target_size, Image.ANTIALIAS)\n",
        "        new_img.save(img, 'JPEG')\n",
        "        \n",
        "    print(len(images), 'images resized')\n",
        "    \n",
        "# 가위 이미지가 저장된 디렉토리 아래의 모든 jpg 파일을 읽어들여서\n",
        "image_dir_path = \"/content/drive/MyDrive/rock_scissor_paper/scissor1\"\n",
        "resize_images(image_dir_path)\n",
        "\n",
        "# 바위 이미지\n",
        "image_dir_path = \"/content/drive/MyDrive/rock_scissor_paper/rock1\"\n",
        "resize_images(image_dir_path)\n",
        "\n",
        "# 보 이미지\n",
        "image_dir_path = \"/content/drive/MyDrive/rock_scissor_paper/paper1\"\n",
        "resize_images(image_dir_path)"
      ]
    },
    {
      "cell_type": "markdown",
      "source": [
        "이미지 사진 불러오기"
      ],
      "metadata": {
        "id": "4TvRquxVsLDt"
      }
    },
    {
      "cell_type": "code",
      "source": [
        "# 가위, 바위, 보 데이터를 읽을 수 있는 load_data 함수 만들기\n",
        "# 함수 입력으로 이미지 폴더 위치 받음\n",
        "# 3개의 클래스로 라벨링(가위:0, 바위:1, 보:2)import numpy as np\n",
        "\n",
        "def load_data(img_path, number_of_data=300):  # 가위바위보 이미지 개수 총합에 주의하세요.\n",
        "    # 가위 : 0, 바위 : 1, 보 : 2\n",
        "    img_size=28\n",
        "    color=3\n",
        "    #이미지 데이터와 라벨(가위 : 0, 바위 : 1, 보 : 2) 데이터를 담을 행렬(matrix) 영역을 생성합니다.\n",
        "    imgs=np.zeros(number_of_data*img_size*img_size*color,dtype=np.int32).reshape(number_of_data,img_size,img_size,color)\n",
        "    labels=np.zeros(number_of_data,dtype=np.int32)\n",
        "\n",
        "    idx=0\n",
        "    for file in glob.iglob(img_path+'/scissor1/*.jpg'):\n",
        "        img = np.array(Image.open(file),dtype=np.int32)\n",
        "        imgs[idx,:,:,:]=img    # 데이터 영역에 이미지 행렬을 복사\n",
        "        labels[idx]=0   # 가위 : 0\n",
        "        idx=idx+1\n",
        "\n",
        "    for file in glob.iglob(img_path+'/rock1/*.jpg'):\n",
        "        img = np.array(Image.open(file),dtype=np.int32)\n",
        "        imgs[idx,:,:,:]=img    # 데이터 영역에 이미지 행렬을 복사\n",
        "        labels[idx]=1   # 바위 : 1\n",
        "        idx=idx+1  \n",
        "    \n",
        "    for file in glob.iglob(img_path+'/paper1/*.jpg'):\n",
        "        img = np.array(Image.open(file),dtype=np.int32)\n",
        "        imgs[idx,:,:,:]=img    # 데이터 영역에 이미지 행렬을 복사\n",
        "        labels[idx]=2   # 보 : 2\n",
        "        idx=idx+1\n",
        "        \n",
        "    print(\"데이터의 이미지 개수는\", idx,\"입니다.\")\n",
        "    return imgs, labels"
      ],
      "metadata": {
        "id": "pLjzXc1GCnNX"
      },
      "execution_count": 2,
      "outputs": []
    },
    {
      "cell_type": "markdown",
      "source": [
        "train 데이터 표준화"
      ],
      "metadata": {
        "id": "ibg2QDO0sO0D"
      }
    },
    {
      "cell_type": "code",
      "source": [
        "# train data\n",
        "image_dir_path = \"/content/drive/MyDrive/rock_scissor_paper\"\n",
        "(x_train, y_train) = load_data(image_dir_path)\n",
        "\n",
        "# 입력 정규화(0~1)\n",
        "x_train_norm = x_train/255.0\n",
        "x_train_reshaped=x_train_norm.reshape(-1, 28, 28, 3) \n",
        "\n",
        "print(\"x_train.shape:{}\".format(x_train.shape))\n",
        "print(\"y_train.shape:{}\".format(y_train.shape))"
      ],
      "metadata": {
        "colab": {
          "base_uri": "https://localhost:8080/"
        },
        "id": "JHD60vP9DCWe",
        "outputId": "800c56dc-0733-4cd2-8f3c-f67b4eeee539"
      },
      "execution_count": 3,
      "outputs": [
        {
          "output_type": "stream",
          "name": "stdout",
          "text": [
            "데이터의 이미지 개수는 300 입니다.\n",
            "x_train.shape:(300, 28, 28, 3)\n",
            "y_train.shape:(300,)\n"
          ]
        }
      ]
    },
    {
      "cell_type": "markdown",
      "source": [
        "모델 생성 및 학습"
      ],
      "metadata": {
        "id": "SV7tMPvHsSBa"
      }
    },
    {
      "cell_type": "code",
      "source": [
        "import tensorflow as tf\n",
        "from tensorflow import keras\n",
        "import numpy as np\n",
        "\n",
        "model=keras.models.Sequential()\n",
        "model.add(keras.layers.Conv2D(32, (3,3), activation='relu', padding = 'same',  input_shape=(28,28,3)))\n",
        "model.add(keras.layers.MaxPool2D(2,2))\n",
        "model.add(keras.layers.Conv2D(64, (3,3), padding = 'same',  activation='relu')) # same padding을 사용하니 조금 더 향상된 점수를 얻을 수 있었다.\n",
        "model.add(keras.layers.MaxPooling2D((2,2)))\n",
        "model.add(keras.layers.MaxPooling2D((2,2)))\n",
        "model.add(keras.layers.Flatten())\n",
        "# model.add(keras.layers.Dropout(0.99)) # 0.1과 0.99와의 차이가 무의미해서 넣지 않는다.\n",
        "model.add(keras.layers.Dense(50, activation='relu'))\n",
        "model.add(keras.layers.Dense(3, activation='softmax')) # 우리가 원하는 값은 가위,바위,보 3가지이기 때문에 출력층을 3개로 하고 활성화함수로 'softmax'함수를 사용한다.\n",
        "\n",
        "model.summary()"
      ],
      "metadata": {
        "colab": {
          "base_uri": "https://localhost:8080/"
        },
        "id": "2zydA0jpDCsJ",
        "outputId": "564e458e-17b8-4fea-c056-65a446fd3e28"
      },
      "execution_count": 174,
      "outputs": [
        {
          "output_type": "stream",
          "name": "stdout",
          "text": [
            "Model: \"sequential_24\"\n",
            "_________________________________________________________________\n",
            " Layer (type)                Output Shape              Param #   \n",
            "=================================================================\n",
            " conv2d_48 (Conv2D)          (None, 28, 28, 32)        896       \n",
            "                                                                 \n",
            " max_pooling2d_68 (MaxPoolin  (None, 14, 14, 32)       0         \n",
            " g2D)                                                            \n",
            "                                                                 \n",
            " conv2d_49 (Conv2D)          (None, 14, 14, 64)        18496     \n",
            "                                                                 \n",
            " max_pooling2d_69 (MaxPoolin  (None, 7, 7, 64)         0         \n",
            " g2D)                                                            \n",
            "                                                                 \n",
            " max_pooling2d_70 (MaxPoolin  (None, 3, 3, 64)         0         \n",
            " g2D)                                                            \n",
            "                                                                 \n",
            " flatten_24 (Flatten)        (None, 576)               0         \n",
            "                                                                 \n",
            " dense_67 (Dense)            (None, 50)                28850     \n",
            "                                                                 \n",
            " dense_68 (Dense)            (None, 3)                 153       \n",
            "                                                                 \n",
            "=================================================================\n",
            "Total params: 48,395\n",
            "Trainable params: 48,395\n",
            "Non-trainable params: 0\n",
            "_________________________________________________________________\n"
          ]
        }
      ]
    },
    {
      "cell_type": "code",
      "source": [
        "model.compile(optimizer='adam',\n",
        "             loss='sparse_categorical_crossentropy',\n",
        "             metrics=['accuracy'])\n",
        "\n",
        "model.fit(x_train_reshaped, y_train, epochs=20)"
      ],
      "metadata": {
        "colab": {
          "base_uri": "https://localhost:8080/"
        },
        "id": "8riktzBLEL9p",
        "outputId": "38f00ddd-0266-4cdf-ca69-bd35ccc18cad"
      },
      "execution_count": 175,
      "outputs": [
        {
          "output_type": "stream",
          "name": "stdout",
          "text": [
            "Epoch 1/20\n",
            "10/10 [==============================] - 0s 3ms/step - loss: 1.1186 - accuracy: 0.2967\n",
            "Epoch 2/20\n",
            "10/10 [==============================] - 0s 3ms/step - loss: 1.0993 - accuracy: 0.3467\n",
            "Epoch 3/20\n",
            "10/10 [==============================] - 0s 3ms/step - loss: 1.0995 - accuracy: 0.3667\n",
            "Epoch 4/20\n",
            "10/10 [==============================] - 0s 3ms/step - loss: 1.0945 - accuracy: 0.3267\n",
            "Epoch 5/20\n",
            "10/10 [==============================] - 0s 3ms/step - loss: 1.0990 - accuracy: 0.3333\n",
            "Epoch 6/20\n",
            "10/10 [==============================] - 0s 3ms/step - loss: 1.1002 - accuracy: 0.3200\n",
            "Epoch 7/20\n",
            "10/10 [==============================] - 0s 3ms/step - loss: 1.0967 - accuracy: 0.3133\n",
            "Epoch 8/20\n",
            "10/10 [==============================] - 0s 3ms/step - loss: 1.0910 - accuracy: 0.3567\n",
            "Epoch 9/20\n",
            "10/10 [==============================] - 0s 4ms/step - loss: 1.0879 - accuracy: 0.3300\n",
            "Epoch 10/20\n",
            "10/10 [==============================] - 0s 3ms/step - loss: 1.0768 - accuracy: 0.5400\n",
            "Epoch 11/20\n",
            "10/10 [==============================] - 0s 3ms/step - loss: 1.0654 - accuracy: 0.6067\n",
            "Epoch 12/20\n",
            "10/10 [==============================] - 0s 4ms/step - loss: 1.0553 - accuracy: 0.6067\n",
            "Epoch 13/20\n",
            "10/10 [==============================] - 0s 3ms/step - loss: 1.0367 - accuracy: 0.5700\n",
            "Epoch 14/20\n",
            "10/10 [==============================] - 0s 3ms/step - loss: 0.9910 - accuracy: 0.7733\n",
            "Epoch 15/20\n",
            "10/10 [==============================] - 0s 3ms/step - loss: 0.9481 - accuracy: 0.7900\n",
            "Epoch 16/20\n",
            "10/10 [==============================] - 0s 3ms/step - loss: 0.8722 - accuracy: 0.8100\n",
            "Epoch 17/20\n",
            "10/10 [==============================] - 0s 3ms/step - loss: 0.7838 - accuracy: 0.7600\n",
            "Epoch 18/20\n",
            "10/10 [==============================] - 0s 3ms/step - loss: 0.6905 - accuracy: 0.7933\n",
            "Epoch 19/20\n",
            "10/10 [==============================] - 0s 3ms/step - loss: 0.6156 - accuracy: 0.8067\n",
            "Epoch 20/20\n",
            "10/10 [==============================] - 0s 3ms/step - loss: 0.5410 - accuracy: 0.8367\n"
          ]
        },
        {
          "output_type": "execute_result",
          "data": {
            "text/plain": [
              "<keras.callbacks.History at 0x7fc5ad56a7d0>"
            ]
          },
          "metadata": {},
          "execution_count": 175
        }
      ]
    },
    {
      "cell_type": "code",
      "source": [
        "def resize_image(img_path):\n",
        "    images = glob.glob(img_path + '/*.jpg')\n",
        "    \n",
        "    print(len(images), 'images to be resized.')\n",
        "    \n",
        "    # 파일마다 모두 28*28 사이즈로 바꾸어 저장\n",
        "    target_size = (28,28)\n",
        "    for img in images:\n",
        "        old_img = Image.open(img)\n",
        "        new_img = old_img.resize(target_size, Image.ANTIALIAS)\n",
        "        new_img.save(img, 'JPEG')\n",
        "        \n",
        "    print(len(images), 'images resized')\n",
        "    \n",
        "# 가위 이미지가 저장된 디렉토리 아래의 모든 jpg 파일을 읽어들여서\n",
        "image_dir_path = \"/content/drive/MyDrive/rock_scissor_paper/test/scissor\"\n",
        "resize_image(image_dir_path)\n",
        "\n",
        "# 바위 이미지\n",
        "image_dir_path = \"/content/drive/MyDrive/rock_scissor_paper/test/rock\"\n",
        "resize_image(image_dir_path)\n",
        "\n",
        "# 보 이미지\n",
        "image_dir_path = \"/content/drive/MyDrive/rock_scissor_paper/test/paper\"\n",
        "resize_image(image_dir_path)"
      ],
      "metadata": {
        "colab": {
          "base_uri": "https://localhost:8080/"
        },
        "id": "tEIMG6eO9DHv",
        "outputId": "14e30baf-a0b1-42a3-df46-3e0b2a13d321"
      },
      "execution_count": 176,
      "outputs": [
        {
          "output_type": "stream",
          "name": "stdout",
          "text": [
            "100 images to be resized.\n",
            "100 images resized\n",
            "100 images to be resized.\n",
            "100 images resized\n",
            "100 images to be resized.\n",
            "100 images resized\n"
          ]
        }
      ]
    },
    {
      "cell_type": "code",
      "source": [
        "def load_datas(img_path, number_of_data=300):  # 가위바위보 이미지 개수 총합에 주의하세요.\n",
        "    # 가위 : 0, 바위 : 1, 보 : 2\n",
        "    img_size=28\n",
        "    color=3\n",
        "    #이미지 데이터와 라벨(가위 : 0, 바위 : 1, 보 : 2) 데이터를 담을 행렬(matrix) 영역을 생성합니다.\n",
        "    imgs=np.zeros(number_of_data*img_size*img_size*color,dtype=np.int32).reshape(number_of_data,img_size,img_size,color)\n",
        "    labels=np.zeros(number_of_data,dtype=np.int32)\n",
        "\n",
        "    idx=0\n",
        "    for file in glob.iglob(img_path+'/scissor/*.jpg'):\n",
        "        img = np.array(Image.open(file),dtype=np.int32)\n",
        "        imgs[idx,:,:,:]=img    # 데이터 영역에 이미지 행렬을 복사\n",
        "        labels[idx]=0   # 가위 : 0\n",
        "        idx=idx+1\n",
        "\n",
        "    for file in glob.iglob(img_path+'/rock/*.jpg'):\n",
        "        img = np.array(Image.open(file),dtype=np.int32)\n",
        "        imgs[idx,:,:,:]=img    # 데이터 영역에 이미지 행렬을 복사\n",
        "        labels[idx]=1   # 바위 : 1\n",
        "        idx=idx+1  \n",
        "    \n",
        "    for file in glob.iglob(img_path+'/paper/*.jpg'):\n",
        "        img = np.array(Image.open(file),dtype=np.int32)\n",
        "        imgs[idx,:,:,:]=img    # 데이터 영역에 이미지 행렬을 복사\n",
        "        labels[idx]=2   # 보 : 2\n",
        "        idx=idx+1\n",
        "        \n",
        "    print(\"데이터의 이미지 개수는\", idx,\"입니다.\")\n",
        "    return imgs, labels"
      ],
      "metadata": {
        "id": "-U8rNEJ18ga3"
      },
      "execution_count": 177,
      "outputs": []
    },
    {
      "cell_type": "code",
      "source": [
        "img_dir_path = \"/content/drive/MyDrive/rock_scissor_paper/test\"\n",
        "(x_test, y_test) = load_datas(img_dir_path)\n",
        "x_test_norm = x_test/255.0\n",
        "x_test_reshaped=x_test_norm.reshape(-1, 28, 28, 3)\n",
        "\n",
        "\n",
        "print('x_test.shape :{}'.format(x_test_norm.shape))\n",
        "print('y_test.shape :{}'.format(y_test.shape))"
      ],
      "metadata": {
        "id": "4lceYWvmET1S",
        "colab": {
          "base_uri": "https://localhost:8080/"
        },
        "outputId": "7b1f81c6-d5e5-4153-a2ef-f8cdd0969ce7"
      },
      "execution_count": 178,
      "outputs": [
        {
          "output_type": "stream",
          "name": "stdout",
          "text": [
            "데이터의 이미지 개수는 300 입니다.\n",
            "x_test.shape :(300, 28, 28, 3)\n",
            "y_test.shape :(300,)\n"
          ]
        }
      ]
    },
    {
      "cell_type": "code",
      "source": [
        "test_loss, test_accuracy = model.evaluate(x_test_reshaped, y_test, verbose=2)\n",
        "\n",
        "print('test_loss :{}'.format(test_loss))\n",
        "print('test_accuracy :{}'.format(test_accuracy))"
      ],
      "metadata": {
        "colab": {
          "base_uri": "https://localhost:8080/"
        },
        "id": "nAdUu5fmHZbg",
        "outputId": "5d72c9db-3cca-4be9-bacc-559f4751fd10"
      },
      "execution_count": 179,
      "outputs": [
        {
          "output_type": "stream",
          "name": "stdout",
          "text": [
            "10/10 - 0s - loss: 0.7766 - accuracy: 0.7333 - 129ms/epoch - 13ms/step\n",
            "test_loss :0.7765754461288452\n",
            "test_accuracy :0.7333333492279053\n"
          ]
        }
      ]
    },
    {
      "cell_type": "markdown",
      "source": [
        "# 회고"
      ],
      "metadata": {
        "id": "YaJckO_-tZGl"
      }
    },
    {
      "cell_type": "markdown",
      "source": [
        "길고 긴 싸움이었다. 정확도가 돌릴 때마다 요동쳐서 이거에 대한 원인 분석이 시급한 것 같다. 그래도 결과물은 있었다. same padding을 사용함으로써 정확도를 조금 올렸던 것 같고, maxpooling을 두 번 했더니 값이 더 괜찮게 나왔다. 조금 더 공부해서 이 부분에 대한 분석을 해야겠다. 그리고 같은 데이터로 남들과는 좋지 못한 정확도가 나와서 당황스러웠다. 아마도 모델 설계를 잘못한 거 같은데 이를 분석하는게 나의 과제로 남아있다."
      ],
      "metadata": {
        "id": "3TVmIBaSt4h8"
      }
    }
  ]
}