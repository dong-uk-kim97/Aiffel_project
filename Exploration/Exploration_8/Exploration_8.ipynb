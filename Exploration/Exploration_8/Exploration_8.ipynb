{
  "nbformat": 4,
  "nbformat_minor": 0,
  "metadata": {
    "colab": {
      "name": "Exploration_8.ipynb",
      "provenance": [],
      "collapsed_sections": [],
      "mount_file_id": "1KjWVKfQz6XSG6hiPS0-7mz6K4kWxb0H8",
      "authorship_tag": "ABX9TyP52DiDRmn2jH5RzBS5CwBC",
      "include_colab_link": true
    },
    "kernelspec": {
      "name": "python3",
      "display_name": "Python 3"
    },
    "language_info": {
      "name": "python"
    },
    "accelerator": "GPU",
    "gpuClass": "standard"
  },
  "cells": [
    {
      "cell_type": "markdown",
      "metadata": {
        "id": "view-in-github",
        "colab_type": "text"
      },
      "source": [
        "<a href=\"https://colab.research.google.com/github/dong-uk-kim97/Exploration/blob/main/Exploration_8.ipynb\" target=\"_parent\"><img src=\"https://colab.research.google.com/assets/colab-badge.svg\" alt=\"Open In Colab\"/></a>"
      ]
    },
    {
      "cell_type": "markdown",
      "source": [
        "# 0. konlpy 설치 및 라이브러리 불러오기"
      ],
      "metadata": {
        "id": "pdlHDms7_pcV"
      }
    },
    {
      "cell_type": "code",
      "source": [
        "# !apt-get update\n",
        "# !apt-get install g++ openjdk-8-jdk \n",
        "# !pip install konlpy JPype1-py3\n",
        "# !bash <(curl -s https://raw.githubusercontent.com/konlpy/konlpy/master/scripts/mecab.sh)"
      ],
      "metadata": {
        "id": "cWFUr7ag_jfk"
      },
      "execution_count": 1,
      "outputs": []
    },
    {
      "cell_type": "code",
      "execution_count": 2,
      "metadata": {
        "id": "KaIFFn7z7XYP"
      },
      "outputs": [],
      "source": [
        "import pandas as pd\n",
        "%matplotlib inline\n",
        "import matplotlib.pyplot as plt\n",
        "import re\n",
        "from konlpy.tag import Okt\n",
        "from tensorflow import keras\n",
        "from tensorflow.keras.preprocessing.text import Tokenizer\n",
        "import numpy as np\n",
        "from tensorflow.keras.preprocessing.sequence import pad_sequences # 케라스 전처리 도구로 패딩\n",
        "from collections import Counter\n",
        "import os\n",
        "from konlpy.tag import Mecab # Mecab 형태소 분석기\n",
        "import gensim\n",
        "from gensim.models import KeyedVectors\n",
        "from gensim.models import Word2Vec\n",
        "from gensim.models.keyedvectors import Word2VecKeyedVectors\n",
        "from tensorflow.keras.initializers import Constant"
      ]
    },
    {
      "cell_type": "markdown",
      "source": [
        "# 1. 데이터 준비와 확인"
      ],
      "metadata": {
        "id": "LpXJuYxu-UAS"
      }
    },
    {
      "cell_type": "code",
      "source": [
        "train_data = pd.read_table('/content/drive/MyDrive/sentiment_classification/ratings_train.txt')\n",
        "test_data = pd.read_table('/content/drive/MyDrive/sentiment_classification/ratings_test.txt')\n",
        "train_data.head()"
      ],
      "metadata": {
        "id": "C56PIwXc-IEb",
        "colab": {
          "base_uri": "https://localhost:8080/",
          "height": 206
        },
        "outputId": "fa50bb19-b607-48ef-96e4-6dc6442a2ea1"
      },
      "execution_count": 27,
      "outputs": [
        {
          "output_type": "execute_result",
          "data": {
            "text/plain": [
              "         id                                           document  label\n",
              "0   9976970                                아 더빙.. 진짜 짜증나네요 목소리      0\n",
              "1   3819312                  흠...포스터보고 초딩영화줄....오버연기조차 가볍지 않구나      1\n",
              "2  10265843                                  너무재밓었다그래서보는것을추천한다      0\n",
              "3   9045019                      교도소 이야기구먼 ..솔직히 재미는 없다..평점 조정      0\n",
              "4   6483659  사이몬페그의 익살스런 연기가 돋보였던 영화!스파이더맨에서 늙어보이기만 했던 커스틴 ...      1"
            ],
            "text/html": [
              "\n",
              "  <div id=\"df-63d14671-b509-4cc6-bc34-f0e018758db4\">\n",
              "    <div class=\"colab-df-container\">\n",
              "      <div>\n",
              "<style scoped>\n",
              "    .dataframe tbody tr th:only-of-type {\n",
              "        vertical-align: middle;\n",
              "    }\n",
              "\n",
              "    .dataframe tbody tr th {\n",
              "        vertical-align: top;\n",
              "    }\n",
              "\n",
              "    .dataframe thead th {\n",
              "        text-align: right;\n",
              "    }\n",
              "</style>\n",
              "<table border=\"1\" class=\"dataframe\">\n",
              "  <thead>\n",
              "    <tr style=\"text-align: right;\">\n",
              "      <th></th>\n",
              "      <th>id</th>\n",
              "      <th>document</th>\n",
              "      <th>label</th>\n",
              "    </tr>\n",
              "  </thead>\n",
              "  <tbody>\n",
              "    <tr>\n",
              "      <th>0</th>\n",
              "      <td>9976970</td>\n",
              "      <td>아 더빙.. 진짜 짜증나네요 목소리</td>\n",
              "      <td>0</td>\n",
              "    </tr>\n",
              "    <tr>\n",
              "      <th>1</th>\n",
              "      <td>3819312</td>\n",
              "      <td>흠...포스터보고 초딩영화줄....오버연기조차 가볍지 않구나</td>\n",
              "      <td>1</td>\n",
              "    </tr>\n",
              "    <tr>\n",
              "      <th>2</th>\n",
              "      <td>10265843</td>\n",
              "      <td>너무재밓었다그래서보는것을추천한다</td>\n",
              "      <td>0</td>\n",
              "    </tr>\n",
              "    <tr>\n",
              "      <th>3</th>\n",
              "      <td>9045019</td>\n",
              "      <td>교도소 이야기구먼 ..솔직히 재미는 없다..평점 조정</td>\n",
              "      <td>0</td>\n",
              "    </tr>\n",
              "    <tr>\n",
              "      <th>4</th>\n",
              "      <td>6483659</td>\n",
              "      <td>사이몬페그의 익살스런 연기가 돋보였던 영화!스파이더맨에서 늙어보이기만 했던 커스틴 ...</td>\n",
              "      <td>1</td>\n",
              "    </tr>\n",
              "  </tbody>\n",
              "</table>\n",
              "</div>\n",
              "      <button class=\"colab-df-convert\" onclick=\"convertToInteractive('df-63d14671-b509-4cc6-bc34-f0e018758db4')\"\n",
              "              title=\"Convert this dataframe to an interactive table.\"\n",
              "              style=\"display:none;\">\n",
              "        \n",
              "  <svg xmlns=\"http://www.w3.org/2000/svg\" height=\"24px\"viewBox=\"0 0 24 24\"\n",
              "       width=\"24px\">\n",
              "    <path d=\"M0 0h24v24H0V0z\" fill=\"none\"/>\n",
              "    <path d=\"M18.56 5.44l.94 2.06.94-2.06 2.06-.94-2.06-.94-.94-2.06-.94 2.06-2.06.94zm-11 1L8.5 8.5l.94-2.06 2.06-.94-2.06-.94L8.5 2.5l-.94 2.06-2.06.94zm10 10l.94 2.06.94-2.06 2.06-.94-2.06-.94-.94-2.06-.94 2.06-2.06.94z\"/><path d=\"M17.41 7.96l-1.37-1.37c-.4-.4-.92-.59-1.43-.59-.52 0-1.04.2-1.43.59L10.3 9.45l-7.72 7.72c-.78.78-.78 2.05 0 2.83L4 21.41c.39.39.9.59 1.41.59.51 0 1.02-.2 1.41-.59l7.78-7.78 2.81-2.81c.8-.78.8-2.07 0-2.86zM5.41 20L4 18.59l7.72-7.72 1.47 1.35L5.41 20z\"/>\n",
              "  </svg>\n",
              "      </button>\n",
              "      \n",
              "  <style>\n",
              "    .colab-df-container {\n",
              "      display:flex;\n",
              "      flex-wrap:wrap;\n",
              "      gap: 12px;\n",
              "    }\n",
              "\n",
              "    .colab-df-convert {\n",
              "      background-color: #E8F0FE;\n",
              "      border: none;\n",
              "      border-radius: 50%;\n",
              "      cursor: pointer;\n",
              "      display: none;\n",
              "      fill: #1967D2;\n",
              "      height: 32px;\n",
              "      padding: 0 0 0 0;\n",
              "      width: 32px;\n",
              "    }\n",
              "\n",
              "    .colab-df-convert:hover {\n",
              "      background-color: #E2EBFA;\n",
              "      box-shadow: 0px 1px 2px rgba(60, 64, 67, 0.3), 0px 1px 3px 1px rgba(60, 64, 67, 0.15);\n",
              "      fill: #174EA6;\n",
              "    }\n",
              "\n",
              "    [theme=dark] .colab-df-convert {\n",
              "      background-color: #3B4455;\n",
              "      fill: #D2E3FC;\n",
              "    }\n",
              "\n",
              "    [theme=dark] .colab-df-convert:hover {\n",
              "      background-color: #434B5C;\n",
              "      box-shadow: 0px 1px 3px 1px rgba(0, 0, 0, 0.15);\n",
              "      filter: drop-shadow(0px 1px 2px rgba(0, 0, 0, 0.3));\n",
              "      fill: #FFFFFF;\n",
              "    }\n",
              "  </style>\n",
              "\n",
              "      <script>\n",
              "        const buttonEl =\n",
              "          document.querySelector('#df-63d14671-b509-4cc6-bc34-f0e018758db4 button.colab-df-convert');\n",
              "        buttonEl.style.display =\n",
              "          google.colab.kernel.accessAllowed ? 'block' : 'none';\n",
              "\n",
              "        async function convertToInteractive(key) {\n",
              "          const element = document.querySelector('#df-63d14671-b509-4cc6-bc34-f0e018758db4');\n",
              "          const dataTable =\n",
              "            await google.colab.kernel.invokeFunction('convertToInteractive',\n",
              "                                                     [key], {});\n",
              "          if (!dataTable) return;\n",
              "\n",
              "          const docLinkHtml = 'Like what you see? Visit the ' +\n",
              "            '<a target=\"_blank\" href=https://colab.research.google.com/notebooks/data_table.ipynb>data table notebook</a>'\n",
              "            + ' to learn more about interactive tables.';\n",
              "          element.innerHTML = '';\n",
              "          dataTable['output_type'] = 'display_data';\n",
              "          await google.colab.output.renderOutput(dataTable, element);\n",
              "          const docLink = document.createElement('div');\n",
              "          docLink.innerHTML = docLinkHtml;\n",
              "          element.appendChild(docLink);\n",
              "        }\n",
              "      </script>\n",
              "    </div>\n",
              "  </div>\n",
              "  "
            ]
          },
          "metadata": {},
          "execution_count": 27
        }
      ]
    },
    {
      "cell_type": "markdown",
      "source": [
        "# 2. 데이터로더 구성"
      ],
      "metadata": {
        "id": "xgUlYdcIAvBy"
      }
    },
    {
      "cell_type": "code",
      "source": [
        "tokenizer = Mecab()\n",
        "stopwords = ['의','가','이','은','들','는','좀','잘','걍','과','도','를','으로','자','에','와','한','하다']\n",
        "\n",
        "def load_data(train_data, test_data, num_words=10000):\n",
        "    train_data.drop_duplicates(subset=['document'], inplace=True)\n",
        "    train_data = train_data.dropna(how = 'any') \n",
        "    test_data.drop_duplicates(subset=['document'], inplace=True)\n",
        "    test_data = test_data.dropna(how = 'any') \n",
        "    \n",
        "    X_train = []\n",
        "    for sentence in train_data['document']:\n",
        "        temp_X = tokenizer.morphs(sentence) # 토큰화\n",
        "        temp_X = [word for word in temp_X if not word in stopwords] # 불용어 제거\n",
        "        X_train.append(temp_X)\n",
        "\n",
        "    X_test = []\n",
        "    for sentence in test_data['document']:\n",
        "        temp_X = tokenizer.morphs(sentence) # 토큰화\n",
        "        temp_X = [word for word in temp_X if not word in stopwords] # 불용어 제거\n",
        "        X_test.append(temp_X)\n",
        "    \n",
        "    words = np.concatenate(X_train).tolist()\n",
        "    counter = Counter(words)\n",
        "    counter = counter.most_common(10000-4)\n",
        "    vocab = ['<PAD>', '<BOS>', '<UNK>', '<UNUSED>'] + [key for key , _  in counter]\n",
        "    word_to_index = {word:index for index, word in enumerate(vocab)}\n",
        "        \n",
        "    def wordlist_to_indexlist(wordlist):\n",
        "        return [word_to_index[word] if word in word_to_index else word_to_index['<UNK>'] for word in wordlist]\n",
        "        \n",
        "    X_train = list(map(wordlist_to_indexlist, X_train))\n",
        "    X_test = list(map(wordlist_to_indexlist, X_test))\n",
        "        \n",
        "    return X_train, np.array(list(train_data['label'])), X_test, np.array(list(test_data['label'])), word_to_index\n",
        "    \n",
        "X_train, y_train, X_test, y_test, word_to_index = load_data(train_data, test_data)"
      ],
      "metadata": {
        "id": "C0Z58gMQ-tgh"
      },
      "execution_count": 4,
      "outputs": []
    },
    {
      "cell_type": "code",
      "source": [
        "index_to_word = {index:word for word, index in word_to_index.items()}"
      ],
      "metadata": {
        "id": "i9vtMv5pAi2_"
      },
      "execution_count": 5,
      "outputs": []
    },
    {
      "cell_type": "code",
      "source": [
        "# 문장 1개를 활용할 딕셔너리와 함께 주면, 단어 인덱스 리스트 벡터로 변환해 주는 함수입니다. \n",
        "# 단, 모든 문장은 <BOS>로 시작하는 것으로 합니다. \n",
        "def get_encoded_sentence(sentence, word_to_index):\n",
        "    return [word_to_index['<BOS>']]+[word_to_index[word] if word in word_to_index else word_to_index['<UNK>'] for word in sentence.split()]\n",
        "\n",
        "# 여러 개의 문장 리스트를 한꺼번에 단어 인덱스 리스트 벡터로 encode해 주는 함수입니다. \n",
        "def get_encoded_sentences(sentences, word_to_index):\n",
        "    return [get_encoded_sentence(sentence, word_to_index) for sentence in sentences]\n",
        "\n",
        "# 숫자 벡터로 encode된 문장을 원래대로 decode하는 함수입니다. \n",
        "def get_decoded_sentence(encoded_sentence, index_to_word):\n",
        "    return ' '.join(index_to_word[index] if index in index_to_word else '<UNK>' for index in encoded_sentence[1:])  #[1:]를 통해 <BOS>를 제외\n",
        "\n",
        "# 여러 개의 숫자 벡터로 encode된 문장을 한꺼번에 원래대로 decode하는 함수입니다. \n",
        "def get_decoded_sentences(encoded_sentences, index_to_word):\n",
        "    return [get_decoded_sentence(encoded_sentence, index_to_word) for encoded_sentence in encoded_sentences]"
      ],
      "metadata": {
        "id": "Etju_5h_AluT"
      },
      "execution_count": 6,
      "outputs": []
    },
    {
      "cell_type": "markdown",
      "source": [
        "# 3. 모델 구성을 위한 데이터 분석과 가공"
      ],
      "metadata": {
        "id": "dDAShpdRAyOi"
      }
    },
    {
      "cell_type": "markdown",
      "source": [
        "- 데이터셋 내 문장 길이 분포 \n",
        "- 적절한 최대 문장 길이 지정\n",
        "- keras.preprocessing.sequence.pad_sequences를 활용한 패딩 추가\n"
      ],
      "metadata": {
        "id": "JmK_0RHBC0MA"
      }
    },
    {
      "cell_type": "code",
      "source": [
        "total_data_text = list(X_train) + list(X_test)\n",
        "\n",
        "num_tokens = [len(tokens) for tokens in total_data_text]\n",
        "num_tokens = np.array(num_tokens)\n",
        "\n",
        "print('문장길이 평균 : ', np.mean(num_tokens))\n",
        "print('문장길이 최대 : ', np.max(num_tokens))\n",
        "print('문장길이 표준편차 : ', np.std(num_tokens))\n",
        "\n",
        "max_tokens = np.mean(num_tokens) + 2 * np.std(num_tokens)\n",
        "maxlen = int(max_tokens) # 최대 길이\n",
        "print('pad_sequences maxlen : ', maxlen)\n",
        "print('전체 문장의 {}%가 maxlen 설정값 이내에 포함됩니다. '.format(np.sum(num_tokens < max_tokens) / len(num_tokens)))\n",
        "\n",
        "# 패딩 추가\n",
        "# 가장 마지막 위치의 단어가 state에 가장 많은 영향을 미치므로 padding은 pre로 지정.\n",
        "X_train = keras.preprocessing.sequence.pad_sequences(X_train,\n",
        "                                                        value=word_to_index[\"<PAD>\"],\n",
        "                                                        padding='pre',\n",
        "                                                        maxlen=maxlen)\n",
        "\n",
        "X_test = keras.preprocessing.sequence.pad_sequences(X_test,\n",
        "                                                       value=word_to_index[\"<PAD>\"],\n",
        "                                                       padding='pre',\n",
        "                                                       maxlen=maxlen)"
      ],
      "metadata": {
        "colab": {
          "base_uri": "https://localhost:8080/"
        },
        "id": "Q1sjJ-lcDFjs",
        "outputId": "a3895cc2-6e0e-44de-a87d-d1777d2591c3"
      },
      "execution_count": 7,
      "outputs": [
        {
          "output_type": "stream",
          "name": "stdout",
          "text": [
            "문장길이 평균 :  15.96940191154864\n",
            "문장길이 최대 :  116\n",
            "문장길이 표준편차 :  12.843571191092\n",
            "pad_sequences maxlen :  41\n",
            "전체 문장의 0.9342988343341575%가 maxlen 설정값 이내에 포함됩니다. \n"
          ]
        }
      ]
    },
    {
      "cell_type": "markdown",
      "source": [
        "# 4. 모델 구성 및 validation set 구성"
      ],
      "metadata": {
        "id": "Vy94Dqg8A3dW"
      }
    },
    {
      "cell_type": "code",
      "source": [
        "# 학습 데이터 중 20000개를 validation set으로 사용\n",
        "X_val = X_train[:20000]   \n",
        "y_val = y_train[:20000]\n",
        "\n",
        "partial_X_train = X_train[20000:]  \n",
        "partial_y_train = y_train[20000:]\n",
        "\n",
        "print(partial_X_train.shape)\n",
        "print(partial_y_train.shape)"
      ],
      "metadata": {
        "colab": {
          "base_uri": "https://localhost:8080/"
        },
        "id": "LvCv_kkGEk54",
        "outputId": "c81dd7dd-4d35-4075-dca3-ea55a174a090"
      },
      "execution_count": 8,
      "outputs": [
        {
          "output_type": "stream",
          "name": "stdout",
          "text": [
            "(126182, 41)\n",
            "(126182,)\n"
          ]
        }
      ]
    },
    {
      "cell_type": "code",
      "source": [
        "vocab_size = 10000\n",
        "word_vector_dim = 100\n",
        "\n",
        "# LSTM\n",
        "lstm = keras.Sequential()\n",
        "lstm.add(keras.layers.Embedding(vocab_size, word_vector_dim, input_shape=(None,)))\n",
        "lstm.add(keras.layers.LSTM(8))\n",
        "lstm.add(keras.layers.Dense(8, activation='relu'))\n",
        "lstm.add(keras.layers.Dense(1, activation='sigmoid'))\n",
        "\n",
        "lstm.summary()"
      ],
      "metadata": {
        "colab": {
          "base_uri": "https://localhost:8080/"
        },
        "id": "DO0Dr-EtE5IJ",
        "outputId": "cc2ba7da-ba9e-45d3-9540-464737e9ce7b"
      },
      "execution_count": 9,
      "outputs": [
        {
          "output_type": "stream",
          "name": "stdout",
          "text": [
            "Model: \"sequential\"\n",
            "_________________________________________________________________\n",
            " Layer (type)                Output Shape              Param #   \n",
            "=================================================================\n",
            " embedding (Embedding)       (None, None, 100)         1000000   \n",
            "                                                                 \n",
            " lstm (LSTM)                 (None, 8)                 3488      \n",
            "                                                                 \n",
            " dense (Dense)               (None, 8)                 72        \n",
            "                                                                 \n",
            " dense_1 (Dense)             (None, 1)                 9         \n",
            "                                                                 \n",
            "=================================================================\n",
            "Total params: 1,003,569\n",
            "Trainable params: 1,003,569\n",
            "Non-trainable params: 0\n",
            "_________________________________________________________________\n"
          ]
        }
      ]
    },
    {
      "cell_type": "code",
      "source": [
        "vocab_size = 10000\n",
        "word_vector_dim = 100\n",
        "\n",
        "# 1-D CNN\n",
        "cnn = keras.Sequential()\n",
        "cnn.add(keras.layers.Embedding(vocab_size, word_vector_dim, input_shape=(None,))) \n",
        "cnn.add(keras.layers.Conv1D(16, 7, activation='relu'))\n",
        "cnn.add(keras.layers.MaxPooling1D(5))\n",
        "cnn.add(keras.layers.Conv1D(16, 7, activation='relu'))\n",
        "cnn.add(keras.layers.GlobalMaxPooling1D())\n",
        "cnn.add(keras.layers.Dense(16, activation='relu'))\n",
        "cnn.add(keras.layers.Dense(1, activation='sigmoid'))\n",
        "\n",
        "cnn.summary()"
      ],
      "metadata": {
        "colab": {
          "base_uri": "https://localhost:8080/"
        },
        "id": "KKmTLrUmGzmd",
        "outputId": "06fcc254-6986-4092-9bd5-72ef89212957"
      },
      "execution_count": 10,
      "outputs": [
        {
          "output_type": "stream",
          "name": "stdout",
          "text": [
            "Model: \"sequential_1\"\n",
            "_________________________________________________________________\n",
            " Layer (type)                Output Shape              Param #   \n",
            "=================================================================\n",
            " embedding_1 (Embedding)     (None, None, 100)         1000000   \n",
            "                                                                 \n",
            " conv1d (Conv1D)             (None, None, 16)          11216     \n",
            "                                                                 \n",
            " max_pooling1d (MaxPooling1D  (None, None, 16)         0         \n",
            " )                                                               \n",
            "                                                                 \n",
            " conv1d_1 (Conv1D)           (None, None, 16)          1808      \n",
            "                                                                 \n",
            " global_max_pooling1d (Globa  (None, 16)               0         \n",
            " lMaxPooling1D)                                                  \n",
            "                                                                 \n",
            " dense_2 (Dense)             (None, 16)                272       \n",
            "                                                                 \n",
            " dense_3 (Dense)             (None, 1)                 17        \n",
            "                                                                 \n",
            "=================================================================\n",
            "Total params: 1,013,313\n",
            "Trainable params: 1,013,313\n",
            "Non-trainable params: 0\n",
            "_________________________________________________________________\n"
          ]
        }
      ]
    },
    {
      "cell_type": "code",
      "source": [
        "vocab_size = 10000\n",
        "word_vector_dim = 100\n",
        "\n",
        "# one GlobalAveragePooling layer\n",
        "simple = keras.Sequential()\n",
        "simple.add(keras.layers.Embedding(vocab_size, word_vector_dim, input_shape=(None,)))\n",
        "simple.add(keras.layers.GlobalAveragePooling1D())\n",
        "simple.add(keras.layers.Dense(8, activation='relu'))\n",
        "simple.add(keras.layers.Dense(1, activation='sigmoid'))\n",
        "\n",
        "simple.summary()"
      ],
      "metadata": {
        "colab": {
          "base_uri": "https://localhost:8080/"
        },
        "id": "23B0MxZEG3gR",
        "outputId": "a88c0db5-6074-463e-ca9d-e21a71e86633"
      },
      "execution_count": 11,
      "outputs": [
        {
          "output_type": "stream",
          "name": "stdout",
          "text": [
            "Model: \"sequential_2\"\n",
            "_________________________________________________________________\n",
            " Layer (type)                Output Shape              Param #   \n",
            "=================================================================\n",
            " embedding_2 (Embedding)     (None, None, 100)         1000000   \n",
            "                                                                 \n",
            " global_average_pooling1d (G  (None, 100)              0         \n",
            " lobalAveragePooling1D)                                          \n",
            "                                                                 \n",
            " dense_4 (Dense)             (None, 8)                 808       \n",
            "                                                                 \n",
            " dense_5 (Dense)             (None, 1)                 9         \n",
            "                                                                 \n",
            "=================================================================\n",
            "Total params: 1,000,817\n",
            "Trainable params: 1,000,817\n",
            "Non-trainable params: 0\n",
            "_________________________________________________________________\n"
          ]
        }
      ]
    },
    {
      "cell_type": "markdown",
      "source": [
        "# 5. 모델 훈련 개시"
      ],
      "metadata": {
        "id": "_CF0iHyvA7jJ"
      }
    },
    {
      "cell_type": "code",
      "source": [
        "# lstm\n",
        "epochs = 5\n",
        "\n",
        "lstm.compile(optimizer='adam',\n",
        "              loss='binary_crossentropy',\n",
        "              metrics=['accuracy'])\n",
        "\n",
        "history_lstm = lstm.fit(partial_X_train,\n",
        "                    partial_y_train,\n",
        "                    epochs=epochs,\n",
        "                    batch_size=512,\n",
        "                    validation_data=(X_val, y_val),\n",
        "                    verbose=1)"
      ],
      "metadata": {
        "colab": {
          "base_uri": "https://localhost:8080/"
        },
        "id": "CUTwxgCvFAZ9",
        "outputId": "8c6e82fb-f083-46ba-ea23-171145a6e268"
      },
      "execution_count": 12,
      "outputs": [
        {
          "output_type": "stream",
          "name": "stdout",
          "text": [
            "Epoch 1/5\n",
            "247/247 [==============================] - 5s 9ms/step - loss: 0.4691 - accuracy: 0.7963 - val_loss: 0.3598 - val_accuracy: 0.8482\n",
            "Epoch 2/5\n",
            "247/247 [==============================] - 2s 7ms/step - loss: 0.3323 - accuracy: 0.8619 - val_loss: 0.3425 - val_accuracy: 0.8514\n",
            "Epoch 3/5\n",
            "247/247 [==============================] - 2s 7ms/step - loss: 0.3039 - accuracy: 0.8740 - val_loss: 0.3403 - val_accuracy: 0.8520\n",
            "Epoch 4/5\n",
            "247/247 [==============================] - 2s 7ms/step - loss: 0.2828 - accuracy: 0.8831 - val_loss: 0.3429 - val_accuracy: 0.8523\n",
            "Epoch 5/5\n",
            "247/247 [==============================] - 2s 7ms/step - loss: 0.2642 - accuracy: 0.8916 - val_loss: 0.3482 - val_accuracy: 0.8546\n"
          ]
        }
      ]
    },
    {
      "cell_type": "code",
      "source": [
        "# 1-D CNN\n",
        "epochs = 3\n",
        "\n",
        "cnn.compile(optimizer='adam',\n",
        "              loss='binary_crossentropy',\n",
        "              metrics=['accuracy'])\n",
        "\n",
        "\n",
        "history_cnn = cnn.fit(partial_X_train,\n",
        "                    partial_y_train,\n",
        "                    epochs=epochs,\n",
        "                    batch_size=512,\n",
        "                    validation_data=(X_val, y_val),\n",
        "                    verbose=1)"
      ],
      "metadata": {
        "colab": {
          "base_uri": "https://localhost:8080/"
        },
        "id": "VC2gmkL9FQEb",
        "outputId": "5b016f20-9cba-43bc-ac83-1481ec587962"
      },
      "execution_count": 13,
      "outputs": [
        {
          "output_type": "stream",
          "name": "stdout",
          "text": [
            "Epoch 1/3\n",
            "247/247 [==============================] - 3s 7ms/step - loss: 0.4421 - accuracy: 0.7889 - val_loss: 0.3506 - val_accuracy: 0.8450\n",
            "Epoch 2/3\n",
            "247/247 [==============================] - 2s 6ms/step - loss: 0.3023 - accuracy: 0.8727 - val_loss: 0.3315 - val_accuracy: 0.8571\n",
            "Epoch 3/3\n",
            "247/247 [==============================] - 2s 6ms/step - loss: 0.2442 - accuracy: 0.9030 - val_loss: 0.3369 - val_accuracy: 0.8551\n"
          ]
        }
      ]
    },
    {
      "cell_type": "code",
      "source": [
        "# one GlobalAveragePooling layer\n",
        "simple.compile(optimizer='adam',\n",
        "              loss='binary_crossentropy',\n",
        "              metrics=['accuracy'])\n",
        "\n",
        "history_simple = simple.fit(partial_X_train,\n",
        "                    partial_y_train,\n",
        "                    epochs=epochs,\n",
        "                    batch_size=512,\n",
        "                    validation_data=(X_val, y_val),\n",
        "                    verbose=1)"
      ],
      "metadata": {
        "colab": {
          "base_uri": "https://localhost:8080/"
        },
        "id": "rjwcGEBDFS8t",
        "outputId": "33e94398-6517-404a-98c3-55fcf70272e7"
      },
      "execution_count": 14,
      "outputs": [
        {
          "output_type": "stream",
          "name": "stdout",
          "text": [
            "Epoch 1/3\n",
            "247/247 [==============================] - 2s 5ms/step - loss: 0.5680 - accuracy: 0.7492 - val_loss: 0.4186 - val_accuracy: 0.8274\n",
            "Epoch 2/3\n",
            "247/247 [==============================] - 1s 5ms/step - loss: 0.3771 - accuracy: 0.8419 - val_loss: 0.3606 - val_accuracy: 0.8462\n",
            "Epoch 3/3\n",
            "247/247 [==============================] - 1s 5ms/step - loss: 0.3415 - accuracy: 0.8567 - val_loss: 0.3526 - val_accuracy: 0.8497\n"
          ]
        }
      ]
    },
    {
      "cell_type": "markdown",
      "source": [
        "모델 평가"
      ],
      "metadata": {
        "id": "JKoT5VzAFJu_"
      }
    },
    {
      "cell_type": "code",
      "source": [
        "# LSTM\n",
        "print(\"LSTM\")\n",
        "results_lstm = lstm.evaluate(X_test, y_test, verbose=2)\n",
        "print(results_lstm)\n",
        "print(\"-------------------------------------------------------------------------\")\n",
        "\n",
        "# 1-D CNN\n",
        "print(\"1-D CNN\")\n",
        "results_cnn = cnn.evaluate(X_test, y_test, verbose=2)\n",
        "print(results_cnn)\n",
        "print(\"-------------------------------------------------------------------------\")\n",
        "\n",
        "# GlobalAveragePooling1D\n",
        "print(\"GlobalAveragePooling1D layer\")\n",
        "results_simple = simple.evaluate(X_test, y_test, verbose=2)\n",
        "print(results_simple)"
      ],
      "metadata": {
        "colab": {
          "base_uri": "https://localhost:8080/"
        },
        "id": "8CHxW4ThHNx7",
        "outputId": "deeb93de-b60c-46d3-967b-0c3b30dbd681"
      },
      "execution_count": 15,
      "outputs": [
        {
          "output_type": "stream",
          "name": "stdout",
          "text": [
            "LSTM\n",
            "1537/1537 - 4s - loss: 0.3620 - accuracy: 0.8471 - 4s/epoch - 2ms/step\n",
            "[0.36204200983047485, 0.8470614552497864]\n",
            "-------------------------------------------------------------------------\n",
            "1-D CNN\n",
            "1537/1537 - 3s - loss: 0.3455 - accuracy: 0.8525 - 3s/epoch - 2ms/step\n",
            "[0.34553223848342896, 0.8525133728981018]\n",
            "-------------------------------------------------------------------------\n",
            "GlobalAveragePooling1D layer\n",
            "1537/1537 - 2s - loss: 0.3624 - accuracy: 0.8456 - 2s/epoch - 2ms/step\n",
            "[0.36242032051086426, 0.8455967903137207]\n"
          ]
        }
      ]
    },
    {
      "cell_type": "markdown",
      "source": [
        "# 6.Loss, Accuracy 시각화"
      ],
      "metadata": {
        "id": "OS67TPDxA-qw"
      }
    },
    {
      "cell_type": "markdown",
      "source": [
        "그래프 시각화 - LSTM"
      ],
      "metadata": {
        "id": "UPWqIlbOIT5d"
      }
    },
    {
      "cell_type": "code",
      "source": [
        "history_dict = history_lstm.history\n",
        "\n",
        "acc = history_dict['accuracy']\n",
        "val_acc = history_dict['val_accuracy']\n",
        "loss = history_dict['loss']\n",
        "val_loss = history_dict['val_loss']\n",
        "\n",
        "epochs = range(1, len(acc) + 1)\n",
        "\n",
        "plt.plot(epochs, loss, 'bo', label='Training loss')\n",
        "plt.plot(epochs, val_loss, 'b', label='Validation loss')\n",
        "\n",
        "plt.title('Training and validation loss')\n",
        "plt.xlabel('Epochs')\n",
        "plt.ylabel('Loss')\n",
        "plt.legend()\n",
        "\n",
        "plt.show()\n",
        "\n",
        "# 그림을 초기화\n",
        "plt.clf()\n",
        "\n",
        "plt.plot(epochs, acc, 'bo', label='Training acc')\n",
        "plt.plot(epochs, val_acc, 'b', label='Validation acc')\n",
        "plt.title('Training and validation accuracy')\n",
        "plt.xlabel('Epochs')\n",
        "plt.ylabel('Accuracy')\n",
        "plt.legend()\n",
        "\n",
        "plt.show()"
      ],
      "metadata": {
        "colab": {
          "base_uri": "https://localhost:8080/",
          "height": 573
        },
        "id": "0JczVA7_H0wQ",
        "outputId": "4e04a383-d234-4a79-8780-314594316ba3"
      },
      "execution_count": 16,
      "outputs": [
        {
          "output_type": "display_data",
          "data": {
            "text/plain": [
              "<Figure size 432x288 with 1 Axes>"
            ],
            "image/png": "[encoded data removed]"
          },
          "metadata": {
            "needs_background": "light"
          }
        },
        {
          "output_type": "display_data",
          "data": {
            "text/plain": [
              "<Figure size 432x288 with 1 Axes>"
            ],
            "image/png": "[encoded data removed]"
          },
          "metadata": {
            "needs_background": "light"
          }
        }
      ]
    },
    {
      "cell_type": "markdown",
      "source": [
        "그래프 시각화 - 1-D CNN"
      ],
      "metadata": {
        "id": "62EYEqJfIYXC"
      }
    },
    {
      "cell_type": "code",
      "source": [
        "history_dict = history_cnn.history\n",
        "\n",
        "acc = history_dict['accuracy']\n",
        "val_acc = history_dict['val_accuracy']\n",
        "loss = history_dict['loss']\n",
        "val_loss = history_dict['val_loss']\n",
        "\n",
        "epochs = range(1, len(acc) + 1)\n",
        "\n",
        "plt.plot(epochs, loss, 'bo', label='Training loss')\n",
        "plt.plot(epochs, val_loss, 'b', label='Validation loss')\n",
        "\n",
        "plt.title('Training and validation loss')\n",
        "plt.xlabel('Epochs')\n",
        "plt.ylabel('Loss')\n",
        "plt.legend()\n",
        "\n",
        "plt.show()\n",
        "\n",
        "plt.clf()\n",
        "\n",
        "plt.plot(epochs, acc, 'bo', label='Training acc')\n",
        "plt.plot(epochs, val_acc, 'b', label='Validation acc')\n",
        "plt.title('Training and validation accuracy')\n",
        "plt.xlabel('Epochs')\n",
        "plt.ylabel('Accuracy')\n",
        "plt.legend()\n",
        "\n",
        "plt.show()"
      ],
      "metadata": {
        "colab": {
          "base_uri": "https://localhost:8080/",
          "height": 573
        },
        "id": "D-uVo8LfIfMS",
        "outputId": "c46a415d-3b8a-4f74-c724-341b128f0370"
      },
      "execution_count": 17,
      "outputs": [
        {
          "output_type": "display_data",
          "data": {
            "text/plain": [
              "<Figure size 432x288 with 1 Axes>"
            ],
            "image/png": "[encoded data removed]"
          },
          "metadata": {
            "needs_background": "light"
          }
        },
        {
          "output_type": "display_data",
          "data": {
            "text/plain": [
              "<Figure size 432x288 with 1 Axes>"
            ],
            "image/png": "[encoded data removed]"
          },
          "metadata": {
            "needs_background": "light"
          }
        }
      ]
    },
    {
      "cell_type": "markdown",
      "source": [
        "그래프 시각화 - GlobalAveragePooling1D layer"
      ],
      "metadata": {
        "id": "SL3LMOZoIg99"
      }
    },
    {
      "cell_type": "code",
      "source": [
        "history_dict = history_simple.history\n",
        "\n",
        "acc = history_dict['accuracy']\n",
        "val_acc = history_dict['val_accuracy']\n",
        "loss = history_dict['loss']\n",
        "val_loss = history_dict['val_loss']\n",
        "\n",
        "epochs = range(1, len(acc) + 1)\n",
        "\n",
        "plt.plot(epochs, loss, 'bo', label='Training loss')\n",
        "plt.plot(epochs, val_loss, 'b', label='Validation loss')\n",
        "\n",
        "plt.title('Training and validation loss')\n",
        "plt.xlabel('Epochs')\n",
        "plt.ylabel('Loss')\n",
        "plt.legend()\n",
        "\n",
        "plt.show()\n",
        "\n",
        "plt.clf()\n",
        "\n",
        "plt.plot(epochs, acc, 'bo', label='Training acc')\n",
        "plt.plot(epochs, val_acc, 'b', label='Validation acc')\n",
        "plt.title('Training and validation accuracy')\n",
        "plt.xlabel('Epochs')\n",
        "plt.ylabel('Accuracy')\n",
        "plt.legend()\n",
        "\n",
        "plt.show()"
      ],
      "metadata": {
        "colab": {
          "base_uri": "https://localhost:8080/",
          "height": 573
        },
        "id": "f0l6_5q0IlUv",
        "outputId": "40648a47-8c0c-455a-e743-c39a00f814f2"
      },
      "execution_count": 18,
      "outputs": [
        {
          "output_type": "display_data",
          "data": {
            "text/plain": [
              "<Figure size 432x288 with 1 Axes>"
            ],
            "image/png": "[encoded data removed]"
          },
          "metadata": {
            "needs_background": "light"
          }
        },
        {
          "output_type": "display_data",
          "data": {
            "text/plain": [
              "<Figure size 432x288 with 1 Axes>"
            ],
            "image/png": "[encoded data removed]"
          },
          "metadata": {
            "needs_background": "light"
          }
        }
      ]
    },
    {
      "cell_type": "markdown",
      "source": [
        "# 7. 학습된 Embedding 레이어 분석"
      ],
      "metadata": {
        "id": "tqY5OR5uBEgR"
      }
    },
    {
      "cell_type": "code",
      "source": [
        "embedding_lstm = lstm.layers[0]\n",
        "weights_lstm = embedding_lstm.get_weights()[0]\n",
        "\n",
        "embedding_cnn = cnn.layers[0]\n",
        "weights_cnn = embedding_cnn.get_weights()[0]\n",
        "\n",
        "embedding_simple = simple.layers[0]\n",
        "weights_simple = embedding_simple.get_weights()[0]\n",
        "\n",
        "word2vec_file_path_lstm = '/content/drive/MyDrive/sentiment_classification/word2vec_lstm.txt'\n",
        "f = open(word2vec_file_path_lstm, 'w')\n",
        "f.write('{} {}\\n'.format(vocab_size-4, word_vector_dim))\n",
        "\n",
        "vectors = lstm.get_weights()[0]\n",
        "for i in range(4,vocab_size):\n",
        "    f.write('{} {}\\n'.format(index_to_word[i], ' '.join(map(str, list(vectors[i, :])))))\n",
        "f.close()\n",
        "\n",
        "word2vec_file_path_cnn = '/content/drive/MyDrive/sentiment_classification/word2vec_cnn.txt'\n",
        "f = open(word2vec_file_path_cnn, 'w')\n",
        "f.write('{} {}\\n'.format(vocab_size-4, word_vector_dim))\n",
        "\n",
        "vectors = cnn.get_weights()[0]\n",
        "for i in range(4,vocab_size):\n",
        "    f.write('{} {}\\n'.format(index_to_word[i], ' '.join(map(str, list(vectors[i, :])))))\n",
        "f.close()\n",
        "\n",
        "word2vec_file_path_simple = '/content/drive/MyDrive/sentiment_classification/word2vec_simple.txt'\n",
        "f = open(word2vec_file_path_simple, 'w')\n",
        "f.write('{} {}\\n'.format(vocab_size-4, word_vector_dim))\n",
        "\n",
        "vectors = simple.get_weights()[0]\n",
        "for i in range(4,vocab_size):\n",
        "    f.write('{} {}\\n'.format(index_to_word[i], ' '.join(map(str, list(vectors[i, :])))))\n",
        "f.close()\n",
        "\n",
        "word_vectors_lstm = Word2VecKeyedVectors.load_word2vec_format(word2vec_file_path_lstm, binary=False)\n",
        "\n",
        "word_vectors_cnn = Word2VecKeyedVectors.load_word2vec_format(word2vec_file_path_cnn, binary=False)\n",
        "\n",
        "word_vectors_simple = Word2VecKeyedVectors.load_word2vec_format(word2vec_file_path_simple, binary=False)"
      ],
      "metadata": {
        "id": "zEcyFILaIwuV"
      },
      "execution_count": 19,
      "outputs": []
    },
    {
      "cell_type": "code",
      "source": [
        "from gensim.models.keyedvectors import Word2VecKeyedVectors\n",
        "\n",
        "word_vectors = Word2VecKeyedVectors.load_word2vec_format(word2vec_file_path_lstm, binary=False)\n",
        "vector = word_vectors['재미']\n",
        "vector"
      ],
      "metadata": {
        "colab": {
          "base_uri": "https://localhost:8080/"
        },
        "id": "BBr77uSpLcgs",
        "outputId": "b161f371-532e-4d35-83a8-cc8f54bf8b1d"
      },
      "execution_count": 35,
      "outputs": [
        {
          "output_type": "execute_result",
          "data": {
            "text/plain": [
              "array([ 0.00531096,  0.02135717,  0.06036973, -0.05611754, -0.03388058,\n",
              "        0.04766459,  0.09751822,  0.01969919,  0.10673527,  0.00553961,\n",
              "       -0.06393624,  0.05882081, -0.02737525, -0.02963301, -0.0361198 ,\n",
              "        0.08635226, -0.00505785, -0.04903755, -0.02611034, -0.14444138,\n",
              "        0.04017559, -0.01926279,  0.03396042, -0.01537915, -0.06385084,\n",
              "        0.00471526,  0.07850073,  0.03936682,  0.00527933, -0.0231904 ,\n",
              "       -0.0099586 , -0.03006392,  0.02307251,  0.03414249, -0.00613718,\n",
              "       -0.04375296,  0.00881475, -0.01521217,  0.0270629 ,  0.07326045,\n",
              "       -0.10055137,  0.05220232,  0.06660135,  0.03578389,  0.04663274,\n",
              "        0.03096722, -0.03223411,  0.04832842,  0.01929047, -0.00876016,\n",
              "       -0.01077865, -0.01085798,  0.0329261 ,  0.04467646, -0.19933386,\n",
              "        0.14545378,  0.09780562,  0.06697103,  0.10209822, -0.049952  ,\n",
              "       -0.05713513, -0.02958745,  0.0242043 , -0.07026041,  0.01987545,\n",
              "        0.0127962 ,  0.15418111,  0.01628734, -0.03361598,  0.04106017,\n",
              "        0.02589083, -0.00556017,  0.01779284, -0.01822679, -0.01887789,\n",
              "        0.02696671,  0.02492051,  0.02219622, -0.19857831, -0.09398409,\n",
              "        0.07760026, -0.04131986,  0.02783879, -0.06330051, -0.02311963,\n",
              "        0.01755128,  0.07384383,  0.01598511, -0.0044775 ,  0.04509525,\n",
              "       -0.08983876, -0.0017203 , -0.00914815,  0.21346067,  0.03973213,\n",
              "       -0.04209228,  0.01407138, -0.05654713,  0.05260415, -0.06822109],\n",
              "      dtype=float32)"
            ]
          },
          "metadata": {},
          "execution_count": 35
        }
      ]
    },
    {
      "cell_type": "code",
      "source": [
        "word_vectors.similar_by_word(\"재미\")"
      ],
      "metadata": {
        "colab": {
          "base_uri": "https://localhost:8080/"
        },
        "id": "AxxkbkwOMAkL",
        "outputId": "00ab169c-1ec5-4fbd-bf5a-30ed4bb5c5d1"
      },
      "execution_count": 36,
      "outputs": [
        {
          "output_type": "execute_result",
          "data": {
            "text/plain": [
              "[('너무', 0.6356413960456848),\n",
              " ('가치', 0.6093034744262695),\n",
              " ('최대', 0.5828654170036316),\n",
              " ('그냥', 0.5796778202056885),\n",
              " ('완전', 0.5762255787849426),\n",
              " ('이렇게', 0.5647052526473999),\n",
              " ('빼', 0.563108503818512),\n",
              " ('정말', 0.5604767203330994),\n",
              " ('레이', 0.5480203032493591),\n",
              " ('넘', 0.5420159101486206)]"
            ]
          },
          "metadata": {},
          "execution_count": 36
        }
      ]
    },
    {
      "cell_type": "code",
      "source": [
        "from gensim.models.keyedvectors import Word2VecKeyedVectors\n",
        "\n",
        "word_vectors = Word2VecKeyedVectors.load_word2vec_format(word2vec_file_path_cnn, binary=False)\n",
        "vector = word_vectors['재미']\n",
        "vector"
      ],
      "metadata": {
        "colab": {
          "base_uri": "https://localhost:8080/"
        },
        "id": "xgJDKUjMME2k",
        "outputId": "5fd7ef6e-7960-4bf0-c6b4-c7b618326593"
      },
      "execution_count": 37,
      "outputs": [
        {
          "output_type": "execute_result",
          "data": {
            "text/plain": [
              "array([-3.56533825e-02,  8.21857750e-02, -4.26928774e-02, -5.48555851e-02,\n",
              "        4.23825346e-02, -1.01158269e-01,  8.03352073e-02, -2.54795682e-02,\n",
              "       -9.07088295e-02, -6.86131120e-02,  2.26571187e-02,  3.12554613e-02,\n",
              "       -6.11566268e-02,  5.38873561e-02, -5.36697321e-02, -6.67239539e-04,\n",
              "       -8.16882402e-02, -5.82717638e-03,  3.63946110e-02, -3.21140476e-02,\n",
              "        1.70629453e-02,  1.21380091e-01, -4.39551547e-02,  9.70781874e-03,\n",
              "       -3.47234942e-02,  1.70244165e-02, -1.15523912e-01,  2.36896798e-02,\n",
              "        3.58846784e-02,  6.38255442e-05, -4.07677218e-02, -3.40257958e-02,\n",
              "       -8.94649606e-03, -1.47858942e-02, -1.44892469e-01,  8.99335369e-02,\n",
              "        9.29727778e-02,  3.35599855e-02,  4.05855244e-03,  3.76610532e-02,\n",
              "       -3.02533079e-02, -2.78825797e-02,  7.53981546e-02, -9.20695718e-03,\n",
              "        4.04153727e-02, -1.02066167e-01,  8.31923336e-02, -5.15182056e-02,\n",
              "       -3.26002799e-02, -1.14546595e-02,  2.17293971e-03, -1.15465127e-01,\n",
              "       -8.92373174e-03, -4.41825204e-02,  8.38045031e-02, -1.16549134e-01,\n",
              "       -5.29886298e-02,  1.35708213e-01,  4.84925583e-02, -7.50950351e-02,\n",
              "       -1.57752149e-02,  1.37770578e-01, -3.86303477e-02, -2.38552149e-02,\n",
              "       -3.67626525e-03, -1.48430867e-02,  3.08661293e-02,  6.28115833e-02,\n",
              "       -4.57037278e-02,  1.34423748e-01,  5.09054139e-02, -4.35540229e-02,\n",
              "       -1.28719732e-01,  5.67871798e-03,  1.15317062e-01,  1.98741369e-02,\n",
              "        5.47630303e-02,  7.07883621e-03,  1.02818329e-02,  9.94277820e-02,\n",
              "       -6.33455887e-02,  1.15018077e-01,  8.28444585e-03, -5.61971925e-02,\n",
              "        8.62562656e-02, -5.63506782e-02,  2.39040665e-02,  2.12991592e-02,\n",
              "       -3.37543823e-02, -1.99860074e-02, -1.21778725e-02,  8.59709270e-03,\n",
              "       -8.23080912e-03,  7.26715103e-02, -1.01039730e-01, -4.03438769e-02,\n",
              "       -1.38459513e-02,  2.67114560e-03,  6.68735132e-02,  4.73704003e-02],\n",
              "      dtype=float32)"
            ]
          },
          "metadata": {},
          "execution_count": 37
        }
      ]
    },
    {
      "cell_type": "code",
      "source": [
        "word_vectors.similar_by_word(\"재미\")"
      ],
      "metadata": {
        "colab": {
          "base_uri": "https://localhost:8080/"
        },
        "id": "bXXBC_kIMfXh",
        "outputId": "07271fd7-1c9f-410e-fbc7-4097914b37cf"
      },
      "execution_count": 38,
      "outputs": [
        {
          "output_type": "execute_result",
          "data": {
            "text/plain": [
              "[('라인', 0.628969669342041),\n",
              " ('당장', 0.6007945537567139),\n",
              " ('녹', 0.597942590713501),\n",
              " ('턱없이', 0.5709643363952637),\n",
              " ('제미', 0.5703440308570862),\n",
              " ('송', 0.5702739953994751),\n",
              " ('부모', 0.5536139607429504),\n",
              " ('매우', 0.5530441999435425),\n",
              " ('앨런', 0.5412382483482361),\n",
              " ('볼거리', 0.5400121212005615)]"
            ]
          },
          "metadata": {},
          "execution_count": 38
        }
      ]
    },
    {
      "cell_type": "code",
      "source": [
        "from gensim.models.keyedvectors import Word2VecKeyedVectors\n",
        "\n",
        "word_vectors = Word2VecKeyedVectors.load_word2vec_format(word2vec_file_path_simple, binary=False)\n",
        "vector = word_vectors['재미']\n",
        "vector"
      ],
      "metadata": {
        "colab": {
          "base_uri": "https://localhost:8080/"
        },
        "id": "_rTzdhrDMmeU",
        "outputId": "a9f34ade-5005-46a7-d34b-63667d1d4524"
      },
      "execution_count": 39,
      "outputs": [
        {
          "output_type": "execute_result",
          "data": {
            "text/plain": [
              "array([-0.03923504,  0.1130901 ,  0.01876753,  0.0032308 ,  0.04775185,\n",
              "        0.04332221, -0.02619516,  0.03975026,  0.0487186 ,  0.01643897,\n",
              "       -0.0634067 ,  0.01101326, -0.10124979,  0.05271785, -0.04344707,\n",
              "        0.03770953,  0.07085124,  0.08346158, -0.03016632,  0.035007  ,\n",
              "        0.02991319,  0.0537154 ,  0.11391243, -0.01514698,  0.08707146,\n",
              "       -0.13706668,  0.07715339,  0.00125257,  0.00562147,  0.01907247,\n",
              "       -0.08165149,  0.024127  , -0.03964928,  0.02765276, -0.07182743,\n",
              "        0.11762605, -0.1806983 ,  0.10843413,  0.08611084,  0.07169566,\n",
              "        0.01028615, -0.06897793,  0.0774884 ,  0.04979206,  0.05076767,\n",
              "        0.15074876,  0.03066442, -0.05604044, -0.05035167,  0.10798031,\n",
              "       -0.08346434, -0.10063542,  0.09017699,  0.03338666,  0.08068294,\n",
              "        0.06265757,  0.13830262,  0.00554341, -0.31003988, -0.03498385,\n",
              "       -0.05401101,  0.01222307,  0.04228582,  0.04694744,  0.09972528,\n",
              "       -0.1146077 , -0.01187872, -0.02644362,  0.01183056,  0.01312882,\n",
              "       -0.04984631,  0.05974322, -0.01349315,  0.0504664 , -0.00907623,\n",
              "       -0.10700125,  0.06731182,  0.01568563,  0.0957827 , -0.01354758,\n",
              "       -0.03910296,  0.01419728,  0.02489156, -0.02562921, -0.09651768,\n",
              "       -0.13769373,  0.03314801,  0.03168873,  0.02587349,  0.04920605,\n",
              "        0.24936834, -0.07233445,  0.0220698 ,  0.08379977,  0.07877628,\n",
              "        0.0162575 ,  0.07529034, -0.00345665, -0.03240437,  0.03915092],\n",
              "      dtype=float32)"
            ]
          },
          "metadata": {},
          "execution_count": 39
        }
      ]
    },
    {
      "cell_type": "code",
      "source": [
        "word_vectors.similar_by_word(\"재미\")"
      ],
      "metadata": {
        "colab": {
          "base_uri": "https://localhost:8080/"
        },
        "id": "72Hr4wMTMrgD",
        "outputId": "ec49fb89-3509-4a25-87b1-1b0a8369933b"
      },
      "execution_count": 40,
      "outputs": [
        {
          "output_type": "execute_result",
          "data": {
            "text/plain": [
              "[('..', 0.8858311176300049),\n",
              " ('로', 0.8785592317581177),\n",
              " ('네', 0.8753498792648315),\n",
              " ('...', 0.8753357529640198),\n",
              " ('나오', 0.8589136600494385),\n",
              " ('이런', 0.8584960699081421),\n",
              " ('배우', 0.856569230556488),\n",
              " ('성', 0.8448890447616577),\n",
              " ('하', 0.8447354435920715),\n",
              " ('너무', 0.8435921669006348)]"
            ]
          },
          "metadata": {},
          "execution_count": 40
        }
      ]
    },
    {
      "cell_type": "markdown",
      "source": [
        "# 8. 한국어 Word2Vec 임베딩을 활용하여 성능 개선"
      ],
      "metadata": {
        "id": "dsM1TkBgBHFk"
      }
    },
    {
      "cell_type": "code",
      "source": [
        "import pprint\n",
        "\n",
        "path = '/content/drive/MyDrive/word2vec/word2vec_ko.model'\n",
        "ko_vec = Word2Vec.load(path)\n",
        "\n",
        "print(ko_vec.wv[\"배우\"]) # ko_vec[\"배우\"]방식은 deprecated라고 한다.\n",
        "pprint.pprint(ko_vec.wv.most_similar(\"재미\")) #마찬가지로 ko_vec.most_similar() 방식도 deprecated. 지양하자.\n",
        "\n",
        "ko_vec = ko_vec.wv # ko_vec.wv대신 ko_vec을 사용하면 아래에서도 deprecated 경고 발생   "
      ],
      "metadata": {
        "colab": {
          "base_uri": "https://localhost:8080/"
        },
        "id": "GXAgi5zokR0B",
        "outputId": "3933b231-b0c2-4c28-dc67-e623c73d810c"
      },
      "execution_count": 41,
      "outputs": [
        {
          "output_type": "stream",
          "name": "stdout",
          "text": [
            "[-0.58881295 -4.3877287  -3.4858546  -2.3084912   0.87703085  6.4445586\n",
            " -1.1062126  -2.2230182  -0.78621733  1.9408462  -1.1357461   1.0119969\n",
            " -0.30329964 -5.455517    2.6356647  -5.2909884  -1.744448    2.5409734\n",
            "  3.716852   -1.4752581  -1.1985137   3.5504315  -0.41522408 -0.2436183\n",
            "  1.5218438  -3.4603841   1.1120543   0.39729053 -2.707328    1.3680482\n",
            " -4.2843776   3.014664    2.6393197   0.9804478  -1.0825127   3.6201363\n",
            "  3.1546066   0.9634868   1.3677765   0.82937515  1.9380125  -2.6699877\n",
            " -0.41389105  2.7402463   3.415545   -0.37949705  4.4021254   1.2531414\n",
            "  2.504994    0.33631453 -2.0658643  -3.1885884   6.659477   -5.47897\n",
            "  3.1113489   1.6667893   2.8441331  -1.1597652  -0.19843072 -0.07214008\n",
            "  0.47545317  4.105001   -0.20690314 -4.399607   -0.32254001  2.030352\n",
            "  0.35149667 -4.0907154   1.12323    -1.873176    2.422429    1.9751279\n",
            " -0.9144355   4.34507    -1.0122209   3.4604955  -2.2505796  -5.2072535\n",
            "  1.4032923   0.7049264   2.6884458   0.11147156  1.4308741   0.03026572\n",
            " -2.052697    0.6662683   0.4130495   4.2908173   7.811309    0.06473196\n",
            "  1.5252742  -0.71593237 -2.8860767  -5.213696    0.40684175 -2.500051\n",
            " -4.5866146  -1.9781905   1.3422341   0.08727098]\n",
            "[('묘미', 0.6163142919540405),\n",
            " ('취미', 0.6034970283508301),\n",
            " ('흥미', 0.5939850807189941),\n",
            " ('유머', 0.5888698101043701),\n",
            " ('보람', 0.5689517259597778),\n",
            " ('즐거움', 0.5631207823753357),\n",
            " ('개그', 0.5552945137023926),\n",
            " ('이야기', 0.5536993741989136),\n",
            " ('연애', 0.5522936582565308),\n",
            " ('열의', 0.5464565753936768)]\n"
          ]
        }
      ]
    },
    {
      "cell_type": "code",
      "source": [
        "vocab_size_ko_vec = 10000\n",
        "word_vector_dim_ko_vec = 100\n",
        "\n",
        "embedding_matrix = np.random.rand(vocab_size_ko_vec, word_vector_dim_ko_vec)\n",
        "\n",
        "for i in range(4,vocab_size_ko_vec):\n",
        "    if index_to_word[i] in ko_vec:\n",
        "        embedding_matrix[i] = ko_vec[index_to_word[i]]"
      ],
      "metadata": {
        "id": "gduYezKOkZ4X"
      },
      "execution_count": 29,
      "outputs": []
    },
    {
      "cell_type": "code",
      "source": [
        "vocab_size = 10000\n",
        "word_vector_dim = 100\n",
        "\n",
        "# LSTM\n",
        "lstm = keras.Sequential()\n",
        "lstm.add(keras.layers.Embedding(vocab_size, \n",
        "                                 word_vector_dim, \n",
        "                                 embeddings_initializer=Constant(embedding_matrix),\n",
        "                                 input_length=maxlen, \n",
        "                                 trainable=True))\n",
        "lstm.add(keras.layers.LSTM(128))\n",
        "lstm.add(keras.layers.Dense(128, activation='relu'))\n",
        "lstm.add(keras.layers.Dense(1, activation='sigmoid'))\n",
        "\n",
        "lstm.summary()"
      ],
      "metadata": {
        "colab": {
          "base_uri": "https://localhost:8080/"
        },
        "id": "Gm9AqkVDkd3Y",
        "outputId": "88ab6aec-fbbc-41d7-b10f-2302b125d28e"
      },
      "execution_count": 30,
      "outputs": [
        {
          "output_type": "stream",
          "name": "stdout",
          "text": [
            "Model: \"sequential_5\"\n",
            "_________________________________________________________________\n",
            " Layer (type)                Output Shape              Param #   \n",
            "=================================================================\n",
            " embedding_5 (Embedding)     (None, 41, 100)           1000000   \n",
            "                                                                 \n",
            " lstm_2 (LSTM)               (None, 128)               117248    \n",
            "                                                                 \n",
            " dense_10 (Dense)            (None, 128)               16512     \n",
            "                                                                 \n",
            " dense_11 (Dense)            (None, 1)                 129       \n",
            "                                                                 \n",
            "=================================================================\n",
            "Total params: 1,133,889\n",
            "Trainable params: 1,133,889\n",
            "Non-trainable params: 0\n",
            "_________________________________________________________________\n"
          ]
        }
      ]
    },
    {
      "cell_type": "code",
      "source": [
        "# 1-D CNN\n",
        "cnn = keras.Sequential()\n",
        "cnn.add(keras.layers.Embedding(vocab_size, \n",
        "                                 word_vector_dim, \n",
        "                                 embeddings_initializer=Constant(embedding_matrix),\n",
        "                                 input_length=maxlen, \n",
        "                                 trainable=True))\n",
        "cnn.add(keras.layers.Dropout(0.5))\n",
        "cnn.add(keras.layers.Conv1D(512, 7, activation='relu'))\n",
        "cnn.add(keras.layers.MaxPooling1D(5))\n",
        "cnn.add(keras.layers.Conv1D(512, 7, activation='relu'))\n",
        "cnn.add(keras.layers.GlobalMaxPooling1D())\n",
        "cnn.add(keras.layers.Dense(256, activation='relu'))\n",
        "cnn.add(keras.layers.Dense(1, activation='sigmoid'))\n",
        "\n",
        "cnn.summary()"
      ],
      "metadata": {
        "colab": {
          "base_uri": "https://localhost:8080/"
        },
        "id": "_rmSmN-vrUUa",
        "outputId": "2df24578-b775-4fdb-9d66-b8ca3273961e"
      },
      "execution_count": 31,
      "outputs": [
        {
          "output_type": "stream",
          "name": "stdout",
          "text": [
            "Model: \"sequential_6\"\n",
            "_________________________________________________________________\n",
            " Layer (type)                Output Shape              Param #   \n",
            "=================================================================\n",
            " embedding_6 (Embedding)     (None, 41, 100)           1000000   \n",
            "                                                                 \n",
            " dropout_1 (Dropout)         (None, 41, 100)           0         \n",
            "                                                                 \n",
            " conv1d_4 (Conv1D)           (None, 35, 512)           358912    \n",
            "                                                                 \n",
            " max_pooling1d_2 (MaxPooling  (None, 7, 512)           0         \n",
            " 1D)                                                             \n",
            "                                                                 \n",
            " conv1d_5 (Conv1D)           (None, 1, 512)            1835520   \n",
            "                                                                 \n",
            " global_max_pooling1d_2 (Glo  (None, 512)              0         \n",
            " balMaxPooling1D)                                                \n",
            "                                                                 \n",
            " dense_12 (Dense)            (None, 256)               131328    \n",
            "                                                                 \n",
            " dense_13 (Dense)            (None, 1)                 257       \n",
            "                                                                 \n",
            "=================================================================\n",
            "Total params: 3,326,017\n",
            "Trainable params: 3,326,017\n",
            "Non-trainable params: 0\n",
            "_________________________________________________________________\n"
          ]
        }
      ]
    },
    {
      "cell_type": "code",
      "source": [
        "\n",
        "epochs = 4\n",
        "\n",
        "lstm.compile(optimizer='adam',\n",
        "              loss='binary_crossentropy',\n",
        "              metrics=['accuracy'])\n",
        "\n",
        "history_lstm = lstm.fit(partial_X_train,\n",
        "                    partial_y_train,\n",
        "                    epochs=epochs,\n",
        "                    batch_size=512,\n",
        "                    validation_data=(X_val, y_val),\n",
        "                    verbose=1)\n",
        "cnn.compile(optimizer='adam',\n",
        "              loss='binary_crossentropy',\n",
        "              metrics=['accuracy'])"
      ],
      "metadata": {
        "colab": {
          "base_uri": "https://localhost:8080/"
        },
        "id": "n-LFVM-FlepS",
        "outputId": "7db4b82c-a7aa-42fd-9b48-851649d9749f"
      },
      "execution_count": 32,
      "outputs": [
        {
          "output_type": "stream",
          "name": "stdout",
          "text": [
            "Epoch 1/4\n",
            "247/247 [==============================] - 5s 13ms/step - loss: 0.4702 - accuracy: 0.7718 - val_loss: 0.3945 - val_accuracy: 0.8201\n",
            "Epoch 2/4\n",
            "247/247 [==============================] - 3s 10ms/step - loss: 0.3507 - accuracy: 0.8444 - val_loss: 0.3356 - val_accuracy: 0.8528\n",
            "Epoch 3/4\n",
            "247/247 [==============================] - 3s 10ms/step - loss: 0.3015 - accuracy: 0.8707 - val_loss: 0.3208 - val_accuracy: 0.8597\n",
            "Epoch 4/4\n",
            "247/247 [==============================] - 3s 10ms/step - loss: 0.2703 - accuracy: 0.8869 - val_loss: 0.3232 - val_accuracy: 0.8637\n"
          ]
        }
      ]
    },
    {
      "cell_type": "code",
      "source": [
        "epochs = 10\n",
        "\n",
        "history_cnn = cnn.fit(partial_X_train,\n",
        "                    partial_y_train,\n",
        "                    epochs=epochs,\n",
        "                    batch_size=512,\n",
        "                    validation_data=(X_val, y_val),\n",
        "                    verbose=1)"
      ],
      "metadata": {
        "colab": {
          "base_uri": "https://localhost:8080/"
        },
        "id": "SH7DEhzbrLAz",
        "outputId": "045161af-0b63-46fd-f0a2-320ff895453d"
      },
      "execution_count": 33,
      "outputs": [
        {
          "output_type": "stream",
          "name": "stdout",
          "text": [
            "Epoch 1/10\n",
            "247/247 [==============================] - 6s 21ms/step - loss: 0.6322 - accuracy: 0.6705 - val_loss: 0.5103 - val_accuracy: 0.7599\n",
            "Epoch 2/10\n",
            "247/247 [==============================] - 5s 21ms/step - loss: 0.5006 - accuracy: 0.7558 - val_loss: 0.4462 - val_accuracy: 0.8013\n",
            "Epoch 3/10\n",
            "247/247 [==============================] - 6s 23ms/step - loss: 0.4481 - accuracy: 0.7895 - val_loss: 0.4167 - val_accuracy: 0.8080\n",
            "Epoch 4/10\n",
            "247/247 [==============================] - 6s 26ms/step - loss: 0.4156 - accuracy: 0.8084 - val_loss: 0.3756 - val_accuracy: 0.8359\n",
            "Epoch 5/10\n",
            "247/247 [==============================] - 5s 21ms/step - loss: 0.3891 - accuracy: 0.8221 - val_loss: 0.3674 - val_accuracy: 0.8349\n",
            "Epoch 6/10\n",
            "247/247 [==============================] - 5s 21ms/step - loss: 0.3705 - accuracy: 0.8326 - val_loss: 0.3589 - val_accuracy: 0.8425\n",
            "Epoch 7/10\n",
            "247/247 [==============================] - 5s 20ms/step - loss: 0.3547 - accuracy: 0.8410 - val_loss: 0.3507 - val_accuracy: 0.8465\n",
            "Epoch 8/10\n",
            "247/247 [==============================] - 5s 20ms/step - loss: 0.3434 - accuracy: 0.8474 - val_loss: 0.3470 - val_accuracy: 0.8469\n",
            "Epoch 9/10\n",
            "247/247 [==============================] - 5s 20ms/step - loss: 0.3298 - accuracy: 0.8544 - val_loss: 0.3396 - val_accuracy: 0.8484\n",
            "Epoch 10/10\n",
            "247/247 [==============================] - 5s 21ms/step - loss: 0.3192 - accuracy: 0.8599 - val_loss: 0.3381 - val_accuracy: 0.8533\n"
          ]
        }
      ]
    },
    {
      "cell_type": "code",
      "source": [
        "# LSTM\n",
        "results_lstm = lstm.evaluate(X_test, y_test, verbose=2)\n",
        "print(results_lstm)\n",
        "\n",
        "# 1-D CNN\n",
        "results_cnn = cnn.evaluate(X_test, y_test, verbose=2)\n",
        "print(results_cnn)"
      ],
      "metadata": {
        "colab": {
          "base_uri": "https://localhost:8080/"
        },
        "id": "gex8nD5RlhvP",
        "outputId": "3a94dd9b-598b-4bcb-95d3-44b26d97d944"
      },
      "execution_count": 34,
      "outputs": [
        {
          "output_type": "stream",
          "name": "stdout",
          "text": [
            "1537/1537 - 4s - loss: 0.3271 - accuracy: 0.8599 - 4s/epoch - 2ms/step\n",
            "[0.3271044194698334, 0.8598775267601013]\n",
            "1537/1537 - 4s - loss: 0.3435 - accuracy: 0.8515 - 4s/epoch - 2ms/step\n",
            "[0.3434513211250305, 0.8515165448188782]\n"
          ]
        }
      ]
    },
    {
      "cell_type": "markdown",
      "source": [
        "# 회고"
      ],
      "metadata": {
        "id": "ifFhWUcmOJNf"
      }
    },
    {
      "cell_type": "markdown",
      "source": [
        "NLP를 할 때 가장 중요한 것이 임베딩과 데이터 전처리라는 것을 깨달았다. 데이터 전처리를 하는 과정이 까다롭고 힘들다는 것을 깨달았다. NLP가 아닌 CV로 진로를 확정짓게 되는 노드였다."
      ],
      "metadata": {
        "id": "_whKgkgLOKcj"
      }
    },
    {
      "cell_type": "markdown",
      "source": [
        "# 출처"
      ],
      "metadata": {
        "id": "9pL6_5-Z_yRO"
      }
    },
    {
      "cell_type": "markdown",
      "source": [
        "konlpy 설치 https://biology-statistics-programming.tistory.com/32 \\\n",
        "전체 코드 참조 https://velog.io/@shoulmon/SSACAIFFEL-20210114-%EB%84%A4%EC%9D%B4%EB%B2%84-%EC%98%81%ED%99%94-%EB%A6%AC%EB%B7%B0-%EA%B0%90%EC%84%B1-%EB%B6%84%EC%84%9D%ED%95%98%EA%B8%B0-jvwzuadq \\"
      ],
      "metadata": {
        "id": "N2mJh_2m_0Zx"
      }
    }
  ]
}