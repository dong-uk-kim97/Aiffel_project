{
  "cells": [
    {
      "cell_type": "markdown",
      "metadata": {
        "id": "view-in-github",
        "colab_type": "text"
      },
      "source": [
        "<a href=\"https://colab.research.google.com/github/dong-uk-kim97/Exploration/blob/main/Exploration_12_attention.ipynb\" target=\"_parent\"><img src=\"https://colab.research.google.com/assets/colab-badge.svg\" alt=\"Open In Colab\"/></a>"
      ]
    },
    {
      "cell_type": "markdown",
      "source": [
        "# 0. 환경 구축하기"
      ],
      "metadata": {
        "id": "QJWCor5q66eM"
      }
    },
    {
      "cell_type": "code",
      "execution_count": 1,
      "metadata": {
        "id": "CCneVPcbz7Vv"
      },
      "outputs": [],
      "source": [
        "# ! pip uninstall tensroflow\n",
        "# ! pip uninstall keras"
      ]
    },
    {
      "cell_type": "code",
      "execution_count": 2,
      "metadata": {
        "id": "Lul0stTA0CHL"
      },
      "outputs": [],
      "source": [
        "# ! pip install tensorflow==2.6.0\n",
        "# ! pip install keras==2.6.0"
      ]
    },
    {
      "cell_type": "code",
      "execution_count": 3,
      "metadata": {
        "id": "zeNZvR8-1VI5"
      },
      "outputs": [],
      "source": [
        "# ! pip install summa"
      ]
    },
    {
      "cell_type": "markdown",
      "metadata": {
        "id": "8F6VlWsW6Oyc"
      },
      "source": [
        "# 1. 패키지 불러오기"
      ]
    },
    {
      "cell_type": "code",
      "execution_count": 4,
      "metadata": {
        "colab": {
          "base_uri": "https://localhost:8080/"
        },
        "id": "CjcCJOVX0PGZ",
        "outputId": "e29ff931-d022-461b-d4a9-ec194e2b894d"
      },
      "outputs": [
        {
          "output_type": "stream",
          "name": "stderr",
          "text": [
            "[nltk_data] Downloading package stopwords to /root/nltk_data...\n",
            "[nltk_data]   Package stopwords is already up-to-date!\n"
          ]
        },
        {
          "output_type": "stream",
          "name": "stdout",
          "text": [
            "3.7\n",
            "2.6.0\n"
          ]
        }
      ],
      "source": [
        "import importlib\n",
        "import tensorflow\n",
        "import summa\n",
        "import nltk\n",
        "nltk.download('stopwords')\n",
        "\n",
        "import numpy as np\n",
        "import pandas as pd\n",
        "import os\n",
        "import re\n",
        "import matplotlib.pyplot as plt\n",
        "from nltk.corpus import stopwords\n",
        "from bs4 import BeautifulSoup \n",
        "from tensorflow.keras.preprocessing.text import Tokenizer \n",
        "from tensorflow.keras.preprocessing.sequence import pad_sequences\n",
        "\n",
        "import warnings\n",
        "warnings.filterwarnings(\"ignore\", category=UserWarning, module='bs4')\n",
        "\n",
        "print(nltk.__version__)\n",
        "print(tensorflow.__version__)"
      ]
    },
    {
      "cell_type": "markdown",
      "metadata": {
        "id": "FV4-2tyd6YFt"
      },
      "source": [
        "# 1. 데이터 수집하기"
      ]
    },
    {
      "cell_type": "code",
      "execution_count": 5,
      "metadata": {
        "id": "m7flWdcE5lAm"
      },
      "outputs": [],
      "source": [
        "data=pd.read_csv('/content/drive/MyDrive/news_summary_more.csv')"
      ]
    },
    {
      "cell_type": "code",
      "execution_count": 6,
      "metadata": {
        "colab": {
          "base_uri": "https://localhost:8080/",
          "height": 363
        },
        "id": "-g0GOuTJ5_Sc",
        "outputId": "8a9af344-2ff2-4493-832a-dd07f39018f7"
      },
      "outputs": [
        {
          "output_type": "execute_result",
          "data": {
            "text/plain": [
              "                                               headlines  \\\n",
              "7496   Over 100-year-old bridge demolished in Maharas...   \n",
              "69038  Can slit my throat, but can't tell me what to ...   \n",
              "90231        France bans 'extremely thin' fashion models   \n",
              "66502  Will treat US troops like ISIS if blacklisted:...   \n",
              "97542  Hawking plans a space voyage on Branson's Virg...   \n",
              "78155                    Three top executives quit Snap    \n",
              "78047  Removing WhatsApp encryption will help terrori...   \n",
              "95055  Only â¹36K cr of â¹92K cr farmer loans waive...   \n",
              "25623  French players touched teammate's moustache to...   \n",
              "13348  There is no God or afterlife: Hawking months b...   \n",
              "\n",
              "                                                    text  \n",
              "7496   The Public Works Department in Maharashtra on ...  \n",
              "69038  Hours after the Calcutta High Court revoked Ch...  \n",
              "90231  A law banning excessively thin models has come...  \n",
              "66502  Chief Commander of Iran's Islamic Revolutionar...  \n",
              "97542  Talking about plans for a trip to space, Briti...  \n",
              "78155  According to the reports, several top executiv...  \n",
              "78047  In response to calls for ending Facebook-owned...  \n",
              "95055  Congress has said out of the total â¹92, 241 ...  \n",
              "25623  Several members of France's World Cup-winning ...  \n",
              "13348  Talking about God and afterlife months before ...  "
            ],
            "text/html": [
              "\n",
              "  <div id=\"df-4f05c04c-51ff-4557-b110-c2b0f2ca298c\">\n",
              "    <div class=\"colab-df-container\">\n",
              "      <div>\n",
              "<style scoped>\n",
              "    .dataframe tbody tr th:only-of-type {\n",
              "        vertical-align: middle;\n",
              "    }\n",
              "\n",
              "    .dataframe tbody tr th {\n",
              "        vertical-align: top;\n",
              "    }\n",
              "\n",
              "    .dataframe thead th {\n",
              "        text-align: right;\n",
              "    }\n",
              "</style>\n",
              "<table border=\"1\" class=\"dataframe\">\n",
              "  <thead>\n",
              "    <tr style=\"text-align: right;\">\n",
              "      <th></th>\n",
              "      <th>headlines</th>\n",
              "      <th>text</th>\n",
              "    </tr>\n",
              "  </thead>\n",
              "  <tbody>\n",
              "    <tr>\n",
              "      <th>7496</th>\n",
              "      <td>Over 100-year-old bridge demolished in Maharas...</td>\n",
              "      <td>The Public Works Department in Maharashtra on ...</td>\n",
              "    </tr>\n",
              "    <tr>\n",
              "      <th>69038</th>\n",
              "      <td>Can slit my throat, but can't tell me what to ...</td>\n",
              "      <td>Hours after the Calcutta High Court revoked Ch...</td>\n",
              "    </tr>\n",
              "    <tr>\n",
              "      <th>90231</th>\n",
              "      <td>France bans 'extremely thin' fashion models</td>\n",
              "      <td>A law banning excessively thin models has come...</td>\n",
              "    </tr>\n",
              "    <tr>\n",
              "      <th>66502</th>\n",
              "      <td>Will treat US troops like ISIS if blacklisted:...</td>\n",
              "      <td>Chief Commander of Iran's Islamic Revolutionar...</td>\n",
              "    </tr>\n",
              "    <tr>\n",
              "      <th>97542</th>\n",
              "      <td>Hawking plans a space voyage on Branson's Virg...</td>\n",
              "      <td>Talking about plans for a trip to space, Briti...</td>\n",
              "    </tr>\n",
              "    <tr>\n",
              "      <th>78155</th>\n",
              "      <td>Three top executives quit Snap</td>\n",
              "      <td>According to the reports, several top executiv...</td>\n",
              "    </tr>\n",
              "    <tr>\n",
              "      <th>78047</th>\n",
              "      <td>Removing WhatsApp encryption will help terrori...</td>\n",
              "      <td>In response to calls for ending Facebook-owned...</td>\n",
              "    </tr>\n",
              "    <tr>\n",
              "      <th>95055</th>\n",
              "      <td>Only â¹36K cr of â¹92K cr farmer loans waive...</td>\n",
              "      <td>Congress has said out of the total â¹92, 241 ...</td>\n",
              "    </tr>\n",
              "    <tr>\n",
              "      <th>25623</th>\n",
              "      <td>French players touched teammate's moustache to...</td>\n",
              "      <td>Several members of France's World Cup-winning ...</td>\n",
              "    </tr>\n",
              "    <tr>\n",
              "      <th>13348</th>\n",
              "      <td>There is no God or afterlife: Hawking months b...</td>\n",
              "      <td>Talking about God and afterlife months before ...</td>\n",
              "    </tr>\n",
              "  </tbody>\n",
              "</table>\n",
              "</div>\n",
              "      <button class=\"colab-df-convert\" onclick=\"convertToInteractive('df-4f05c04c-51ff-4557-b110-c2b0f2ca298c')\"\n",
              "              title=\"Convert this dataframe to an interactive table.\"\n",
              "              style=\"display:none;\">\n",
              "        \n",
              "  <svg xmlns=\"http://www.w3.org/2000/svg\" height=\"24px\"viewBox=\"0 0 24 24\"\n",
              "       width=\"24px\">\n",
              "    <path d=\"M0 0h24v24H0V0z\" fill=\"none\"/>\n",
              "    <path d=\"M18.56 5.44l.94 2.06.94-2.06 2.06-.94-2.06-.94-.94-2.06-.94 2.06-2.06.94zm-11 1L8.5 8.5l.94-2.06 2.06-.94-2.06-.94L8.5 2.5l-.94 2.06-2.06.94zm10 10l.94 2.06.94-2.06 2.06-.94-2.06-.94-.94-2.06-.94 2.06-2.06.94z\"/><path d=\"M17.41 7.96l-1.37-1.37c-.4-.4-.92-.59-1.43-.59-.52 0-1.04.2-1.43.59L10.3 9.45l-7.72 7.72c-.78.78-.78 2.05 0 2.83L4 21.41c.39.39.9.59 1.41.59.51 0 1.02-.2 1.41-.59l7.78-7.78 2.81-2.81c.8-.78.8-2.07 0-2.86zM5.41 20L4 18.59l7.72-7.72 1.47 1.35L5.41 20z\"/>\n",
              "  </svg>\n",
              "      </button>\n",
              "      \n",
              "  <style>\n",
              "    .colab-df-container {\n",
              "      display:flex;\n",
              "      flex-wrap:wrap;\n",
              "      gap: 12px;\n",
              "    }\n",
              "\n",
              "    .colab-df-convert {\n",
              "      background-color: #E8F0FE;\n",
              "      border: none;\n",
              "      border-radius: 50%;\n",
              "      cursor: pointer;\n",
              "      display: none;\n",
              "      fill: #1967D2;\n",
              "      height: 32px;\n",
              "      padding: 0 0 0 0;\n",
              "      width: 32px;\n",
              "    }\n",
              "\n",
              "    .colab-df-convert:hover {\n",
              "      background-color: #E2EBFA;\n",
              "      box-shadow: 0px 1px 2px rgba(60, 64, 67, 0.3), 0px 1px 3px 1px rgba(60, 64, 67, 0.15);\n",
              "      fill: #174EA6;\n",
              "    }\n",
              "\n",
              "    [theme=dark] .colab-df-convert {\n",
              "      background-color: #3B4455;\n",
              "      fill: #D2E3FC;\n",
              "    }\n",
              "\n",
              "    [theme=dark] .colab-df-convert:hover {\n",
              "      background-color: #434B5C;\n",
              "      box-shadow: 0px 1px 3px 1px rgba(0, 0, 0, 0.15);\n",
              "      filter: drop-shadow(0px 1px 2px rgba(0, 0, 0, 0.3));\n",
              "      fill: #FFFFFF;\n",
              "    }\n",
              "  </style>\n",
              "\n",
              "      <script>\n",
              "        const buttonEl =\n",
              "          document.querySelector('#df-4f05c04c-51ff-4557-b110-c2b0f2ca298c button.colab-df-convert');\n",
              "        buttonEl.style.display =\n",
              "          google.colab.kernel.accessAllowed ? 'block' : 'none';\n",
              "\n",
              "        async function convertToInteractive(key) {\n",
              "          const element = document.querySelector('#df-4f05c04c-51ff-4557-b110-c2b0f2ca298c');\n",
              "          const dataTable =\n",
              "            await google.colab.kernel.invokeFunction('convertToInteractive',\n",
              "                                                     [key], {});\n",
              "          if (!dataTable) return;\n",
              "\n",
              "          const docLinkHtml = 'Like what you see? Visit the ' +\n",
              "            '<a target=\"_blank\" href=https://colab.research.google.com/notebooks/data_table.ipynb>data table notebook</a>'\n",
              "            + ' to learn more about interactive tables.';\n",
              "          element.innerHTML = '';\n",
              "          dataTable['output_type'] = 'display_data';\n",
              "          await google.colab.output.renderOutput(dataTable, element);\n",
              "          const docLink = document.createElement('div');\n",
              "          docLink.innerHTML = docLinkHtml;\n",
              "          element.appendChild(docLink);\n",
              "        }\n",
              "      </script>\n",
              "    </div>\n",
              "  </div>\n",
              "  "
            ]
          },
          "metadata": {},
          "execution_count": 6
        }
      ],
      "source": [
        "data.sample(10)"
      ]
    },
    {
      "cell_type": "markdown",
      "source": [
        "추상적 요약"
      ],
      "metadata": {
        "id": "osI-aOew7JRF"
      }
    },
    {
      "cell_type": "markdown",
      "metadata": {
        "id": "Klr9V0fO6awy"
      },
      "source": [
        "# 2-1.데이터 전처리 하기 (추상적 요약)"
      ]
    },
    {
      "cell_type": "markdown",
      "metadata": {
        "id": "oSOueG8n7FFI"
      },
      "source": [
        "## 중복 샘플과 NULL값이 존재하는 샘플 제거"
      ]
    },
    {
      "cell_type": "code",
      "execution_count": 7,
      "metadata": {
        "colab": {
          "base_uri": "https://localhost:8080/"
        },
        "id": "A4kP3n2M6Fxt",
        "outputId": "14c746a2-801f-4173-9739-6bc550d66616"
      },
      "outputs": [
        {
          "output_type": "stream",
          "name": "stdout",
          "text": [
            "Text 열에서 중복을 배제한 유일한 샘플의 수 : 98360\n",
            "headlines 열에서 중복을 배제한 유일한 샘플의 수 : 98280\n"
          ]
        }
      ],
      "source": [
        "print('Text 열에서 중복을 배제한 유일한 샘플의 수 :', data['text'].nunique())\n",
        "print('headlines 열에서 중복을 배제한 유일한 샘플의 수 :', data['headlines'].nunique())"
      ]
    },
    {
      "cell_type": "code",
      "execution_count": 8,
      "metadata": {
        "colab": {
          "base_uri": "https://localhost:8080/"
        },
        "id": "InADaHEg6nDH",
        "outputId": "595408cc-daec-4cb0-a042-caea6685f256"
      },
      "outputs": [
        {
          "output_type": "stream",
          "name": "stdout",
          "text": [
            "전체 샘플수 : 98360\n"
          ]
        }
      ],
      "source": [
        "data.drop_duplicates(subset = ['text'], inplace=True)\n",
        "print('전체 샘플수 :', (len(data)))"
      ]
    },
    {
      "cell_type": "code",
      "execution_count": 9,
      "metadata": {
        "colab": {
          "base_uri": "https://localhost:8080/"
        },
        "id": "sidM9r9S6zQK",
        "outputId": "7246785a-4e4a-498c-8e6f-384e178ca46b"
      },
      "outputs": [
        {
          "output_type": "stream",
          "name": "stdout",
          "text": [
            "headlines    0\n",
            "text         0\n",
            "dtype: int64\n"
          ]
        }
      ],
      "source": [
        "print(data.isnull().sum())"
      ]
    },
    {
      "cell_type": "markdown",
      "metadata": {
        "id": "e5P5SahU7DRR"
      },
      "source": [
        "## 텍스트 정규화와 불용어 제거"
      ]
    },
    {
      "cell_type": "code",
      "execution_count": 10,
      "metadata": {
        "colab": {
          "base_uri": "https://localhost:8080/"
        },
        "id": "jwpWGUxG63au",
        "outputId": "b9528ae4-862a-437c-c18d-24d669dcf147"
      },
      "outputs": [
        {
          "output_type": "stream",
          "name": "stdout",
          "text": [
            "정규화 사전의 수:  120\n"
          ]
        }
      ],
      "source": [
        "contractions = {\"ain't\": \"is not\", \"aren't\": \"are not\",\"can't\": \"cannot\", \"'cause\": \"because\", \"could've\": \"could have\", \"couldn't\": \"could not\",\n",
        "                           \"didn't\": \"did not\",  \"doesn't\": \"does not\", \"don't\": \"do not\", \"hadn't\": \"had not\", \"hasn't\": \"has not\", \"haven't\": \"have not\",\n",
        "                           \"he'd\": \"he would\",\"he'll\": \"he will\", \"he's\": \"he is\", \"how'd\": \"how did\", \"how'd'y\": \"how do you\", \"how'll\": \"how will\", \"how's\": \"how is\",\n",
        "                           \"I'd\": \"I would\", \"I'd've\": \"I would have\", \"I'll\": \"I will\", \"I'll've\": \"I will have\",\"I'm\": \"I am\", \"I've\": \"I have\", \"i'd\": \"i would\",\n",
        "                           \"i'd've\": \"i would have\", \"i'll\": \"i will\",  \"i'll've\": \"i will have\",\"i'm\": \"i am\", \"i've\": \"i have\", \"isn't\": \"is not\", \"it'd\": \"it would\",\n",
        "                           \"it'd've\": \"it would have\", \"it'll\": \"it will\", \"it'll've\": \"it will have\",\"it's\": \"it is\", \"let's\": \"let us\", \"ma'am\": \"madam\",\n",
        "                           \"mayn't\": \"may not\", \"might've\": \"might have\",\"mightn't\": \"might not\",\"mightn't've\": \"might not have\", \"must've\": \"must have\",\n",
        "                           \"mustn't\": \"must not\", \"mustn't've\": \"must not have\", \"needn't\": \"need not\", \"needn't've\": \"need not have\",\"o'clock\": \"of the clock\",\n",
        "                           \"oughtn't\": \"ought not\", \"oughtn't've\": \"ought not have\", \"shan't\": \"shall not\", \"sha'n't\": \"shall not\", \"shan't've\": \"shall not have\",\n",
        "                           \"she'd\": \"she would\", \"she'd've\": \"she would have\", \"she'll\": \"she will\", \"she'll've\": \"she will have\", \"she's\": \"she is\",\n",
        "                           \"should've\": \"should have\", \"shouldn't\": \"should not\", \"shouldn't've\": \"should not have\", \"so've\": \"so have\",\"so's\": \"so as\",\n",
        "                           \"this's\": \"this is\",\"that'd\": \"that would\", \"that'd've\": \"that would have\", \"that's\": \"that is\", \"there'd\": \"there would\",\n",
        "                           \"there'd've\": \"there would have\", \"there's\": \"there is\", \"here's\": \"here is\",\"they'd\": \"they would\", \"they'd've\": \"they would have\",\n",
        "                           \"they'll\": \"they will\", \"they'll've\": \"they will have\", \"they're\": \"they are\", \"they've\": \"they have\", \"to've\": \"to have\",\n",
        "                           \"wasn't\": \"was not\", \"we'd\": \"we would\", \"we'd've\": \"we would have\", \"we'll\": \"we will\", \"we'll've\": \"we will have\", \"we're\": \"we are\",\n",
        "                           \"we've\": \"we have\", \"weren't\": \"were not\", \"what'll\": \"what will\", \"what'll've\": \"what will have\", \"what're\": \"what are\",\n",
        "                           \"what's\": \"what is\", \"what've\": \"what have\", \"when's\": \"when is\", \"when've\": \"when have\", \"where'd\": \"where did\", \"where's\": \"where is\",\n",
        "                           \"where've\": \"where have\", \"who'll\": \"who will\", \"who'll've\": \"who will have\", \"who's\": \"who is\", \"who've\": \"who have\",\n",
        "                           \"why's\": \"why is\", \"why've\": \"why have\", \"will've\": \"will have\", \"won't\": \"will not\", \"won't've\": \"will not have\",\n",
        "                           \"would've\": \"would have\", \"wouldn't\": \"would not\", \"wouldn't've\": \"would not have\", \"y'all\": \"you all\",\n",
        "                           \"y'all'd\": \"you all would\",\"y'all'd've\": \"you all would have\",\"y'all're\": \"you all are\",\"y'all've\": \"you all have\",\n",
        "                           \"you'd\": \"you would\", \"you'd've\": \"you would have\", \"you'll\": \"you will\", \"you'll've\": \"you will have\",\n",
        "                           \"you're\": \"you are\", \"you've\": \"you have\"}\n",
        "\n",
        "print(\"정규화 사전의 수: \", len(contractions))"
      ]
    },
    {
      "cell_type": "code",
      "execution_count": 11,
      "metadata": {
        "colab": {
          "base_uri": "https://localhost:8080/"
        },
        "id": "Ahe-zlRs7OJN",
        "outputId": "c7c5d203-bdbc-42f8-8505-f0cad69d7de9"
      },
      "outputs": [
        {
          "output_type": "stream",
          "name": "stdout",
          "text": [
            "불용어 개수 : 179\n",
            "['i', 'me', 'my', 'myself', 'we', 'our', 'ours', 'ourselves', 'you', \"you're\", \"you've\", \"you'll\", \"you'd\", 'your', 'yours', 'yourself', 'yourselves', 'he', 'him', 'his', 'himself', 'she', \"she's\", 'her', 'hers', 'herself', 'it', \"it's\", 'its', 'itself', 'they', 'them', 'their', 'theirs', 'themselves', 'what', 'which', 'who', 'whom', 'this', 'that', \"that'll\", 'these', 'those', 'am', 'is', 'are', 'was', 'were', 'be', 'been', 'being', 'have', 'has', 'had', 'having', 'do', 'does', 'did', 'doing', 'a', 'an', 'the', 'and', 'but', 'if', 'or', 'because', 'as', 'until', 'while', 'of', 'at', 'by', 'for', 'with', 'about', 'against', 'between', 'into', 'through', 'during', 'before', 'after', 'above', 'below', 'to', 'from', 'up', 'down', 'in', 'out', 'on', 'off', 'over', 'under', 'again', 'further', 'then', 'once', 'here', 'there', 'when', 'where', 'why', 'how', 'all', 'any', 'both', 'each', 'few', 'more', 'most', 'other', 'some', 'such', 'no', 'nor', 'not', 'only', 'own', 'same', 'so', 'than', 'too', 'very', 's', 't', 'can', 'will', 'just', 'don', \"don't\", 'should', \"should've\", 'now', 'd', 'll', 'm', 'o', 're', 've', 'y', 'ain', 'aren', \"aren't\", 'couldn', \"couldn't\", 'didn', \"didn't\", 'doesn', \"doesn't\", 'hadn', \"hadn't\", 'hasn', \"hasn't\", 'haven', \"haven't\", 'isn', \"isn't\", 'ma', 'mightn', \"mightn't\", 'mustn', \"mustn't\", 'needn', \"needn't\", 'shan', \"shan't\", 'shouldn', \"shouldn't\", 'wasn', \"wasn't\", 'weren', \"weren't\", 'won', \"won't\", 'wouldn', \"wouldn't\"]\n"
          ]
        }
      ],
      "source": [
        "print('불용어 개수 :', len(stopwords.words('english') ))\n",
        "print(stopwords.words('english'))"
      ]
    },
    {
      "cell_type": "markdown",
      "source": [
        "# 전처리 함수"
      ],
      "metadata": {
        "id": "QXGzURpv4UJm"
      }
    },
    {
      "cell_type": "code",
      "execution_count": 12,
      "metadata": {
        "id": "fcilrJEf7_pt"
      },
      "outputs": [],
      "source": [
        "# 데이터 전처리 함수\n",
        "def preprocess_sentence(sentence, remove_stopwords=True):\n",
        "    sentence = sentence.lower() # 텍스트 소문자화\n",
        "    sentence = BeautifulSoup(sentence, \"lxml\").text # <br />, <a href = ...> 등의 html 태그 제거\n",
        "    sentence = re.sub(r'\\([^)]*\\)', '', sentence) # 괄호로 닫힌 문자열 (...) 제거 Ex) my husband (and myself!) for => my husband for\n",
        "    sentence = re.sub('\"','', sentence) # 쌍따옴표 \" 제거\n",
        "    sentence = ' '.join([contractions[t] if t in contractions else t for t in sentence.split(\" \")]) # 약어 정규화\n",
        "    sentence = re.sub(r\"'s\\b\",\"\", sentence) # 소유격 제거. Ex) roland's -> roland\n",
        "    sentence = re.sub(\"[^a-zA-Z]\", \" \", sentence) # 영어 외 문자(숫자, 특수문자 등) 공백으로 변환\n",
        "    sentence = re.sub('[m]{2,}', 'mm', sentence) # m이 3개 이상이면 2개로 변경. Ex) ummmmmmm yeah -> umm yeah\n",
        "    \n",
        "    # 불용어 제거 (Text)\n",
        "    if remove_stopwords:\n",
        "        tokens = ' '.join(word for word in sentence.split() if not word in stopwords.words('english') if len(word) > 1)\n",
        "    # 불용어 미제거 (Headlines)\n",
        "    else:\n",
        "        tokens = ' '.join(word for word in sentence.split() if len(word) > 1)\n",
        "    return tokens"
      ]
    },
    {
      "cell_type": "code",
      "execution_count": 13,
      "metadata": {
        "colab": {
          "base_uri": "https://localhost:8080/"
        },
        "id": "h4PWBdxR8f-L",
        "outputId": "e3db1f73-9f41-41fe-a15b-2ad07bd5308c"
      },
      "outputs": [
        {
          "output_type": "stream",
          "name": "stdout",
          "text": [
            "text:  everything bought great infact ordered twice third ordered wasfor mother father\n",
            "headlines: great way to start the day\n"
          ]
        }
      ],
      "source": [
        "# 전처리 함수가 잘 작동하는지 확인\n",
        "temp_text = 'Everything I bought was great, infact I ordered twice and the third ordered was<br />for my mother and father.'\n",
        "temp_headlines = 'Great way to start (or finish) the day!!!'\n",
        "\n",
        "print(\"text: \", preprocess_sentence(temp_text))\n",
        "print(\"headlines:\", preprocess_sentence(temp_headlines, False))  # 불용어를 제거하지 않습니다."
      ]
    },
    {
      "cell_type": "code",
      "execution_count": 14,
      "metadata": {
        "colab": {
          "base_uri": "https://localhost:8080/"
        },
        "id": "H1mNjQa_8t0O",
        "outputId": "c6449329-b3da-4b0e-a47f-e2b8914a1de9"
      },
      "outputs": [
        {
          "output_type": "stream",
          "name": "stdout",
          "text": [
            "text 전처리 후 결과:  ['saurav kant alumnus upgrad iiit pg program machine learning artificial intelligence sr systems engineer infosys almost years work experience program upgrad degree career support helped transition data scientist tech mahindra salary hike upgrad online power learning powered lakh careers', 'kunal shah credit card bill payment platform cred gave users chance win free food swiggy one year pranav kaushik delhi techie bagged reward spending cred coins users get one cred coin per rupee bill paid used avail rewards brands like ixigo bookmyshow ubereats cult fit', 'new zealand defeated india wickets fourth odi hamilton thursday win first match five match odi series india lost international match rohit sharma captaincy consecutive victories dating back march match witnessed india getting seventh lowest total odi cricket history', 'aegon life iterm insurance plan customers enjoy tax benefits premiums paid save taxes plan provides life cover age years also customers options insure critical illnesses disability accidental death benefit rider life cover age years', 'speaking sexual harassment allegations rajkumar hirani sonam kapoor said known hirani many years true metoo movement get derailed metoo movement always believe woman case need reserve judgment added hirani accused assistant worked sanju']\n"
          ]
        }
      ],
      "source": [
        "# text열 전처리\n",
        "clean_text = []\n",
        "\n",
        "for s in data['text']:\n",
        "    clean_text.append(preprocess_sentence(s))\n",
        "\n",
        "# 전처리 후 출력\n",
        "print(\"text 전처리 후 결과: \", clean_text[:5])"
      ]
    },
    {
      "cell_type": "code",
      "execution_count": 15,
      "metadata": {
        "colab": {
          "base_uri": "https://localhost:8080/"
        },
        "id": "5jzE5Wec80QF",
        "outputId": "100ec2e2-a2f7-468b-b2c6-87c05e0521e5"
      },
      "outputs": [
        {
          "output_type": "stream",
          "name": "stdout",
          "text": [
            "headlines 전처리 후 결과:  ['upgrad learner switches to career in ml al with salary hike', 'delhi techie wins free food from swiggy for one year on cred', 'new zealand end rohit sharma led india match winning streak', 'aegon life iterm insurance plan helps customers save tax', 'have known hirani for yrs what if metoo claims are not true sonam']\n"
          ]
        }
      ],
      "source": [
        "# headline 전처리\n",
        "clean_headlines = []\n",
        "\n",
        "for s in data['headlines']:\n",
        "    clean_headlines.append(preprocess_sentence(s, False)) #False:불용어 제거를 수행하지 않는다는 의미\n",
        "\n",
        "print(\"headlines 전처리 후 결과: \", clean_headlines[:5])"
      ]
    },
    {
      "cell_type": "code",
      "execution_count": 16,
      "metadata": {
        "id": "_14rnm-f9CiL"
      },
      "outputs": [],
      "source": [
        "# 전처리한 data를 column으로 지정\n",
        "data['text'] = clean_text\n",
        "data['headlines'] = clean_headlines\n",
        "\n",
        "# 빈 값을 Null 값으로 변환\n",
        "data.replace('', np.nan, inplace=True)"
      ]
    },
    {
      "cell_type": "code",
      "execution_count": 17,
      "metadata": {
        "colab": {
          "base_uri": "https://localhost:8080/"
        },
        "id": "dKhcMSi69GvA",
        "outputId": "97e7ed6a-b24e-44f8-cdf7-479f88fb54e8"
      },
      "outputs": [
        {
          "output_type": "execute_result",
          "data": {
            "text/plain": [
              "headlines    0\n",
              "text         0\n",
              "dtype: int64"
            ]
          },
          "metadata": {},
          "execution_count": 17
        }
      ],
      "source": [
        "# 결측치 확인\n",
        "data.isnull().sum()"
      ]
    },
    {
      "cell_type": "code",
      "execution_count": 18,
      "metadata": {
        "colab": {
          "base_uri": "https://localhost:8080/"
        },
        "id": "Ih4X9BKY9MUv",
        "outputId": "1877b615-064a-4ceb-ca39-39333beae896"
      },
      "outputs": [
        {
          "output_type": "stream",
          "name": "stdout",
          "text": [
            "전체 샘플수 : 98360\n"
          ]
        }
      ],
      "source": [
        "# 결측치 제거\n",
        "data.dropna(axis=0, inplace=True)\n",
        "print('전체 샘플수 :', (len(data)))"
      ]
    },
    {
      "cell_type": "code",
      "execution_count": 19,
      "metadata": {
        "colab": {
          "base_uri": "https://localhost:8080/",
          "height": 962
        },
        "id": "6anwBbgL_PmW",
        "outputId": "604e20ec-e794-46c5-8c09-e46312e47caa"
      },
      "outputs": [
        {
          "output_type": "stream",
          "name": "stdout",
          "text": [
            "텍스트의 최소 길이 : 1\n",
            "텍스트의 최대 길이 : 60\n",
            "텍스트의 평균 길이 : 35.09968483123221\n",
            "요약의 최소 길이 : 1\n",
            "요약의 최대 길이 : 16\n",
            "요약의 평균 길이 : 9.299532330215534\n"
          ]
        },
        {
          "output_type": "display_data",
          "data": {
            "text/plain": [
              "<Figure size 432x288 with 2 Axes>"
            ],
            "image/png": "[encoded data removed]"
          },
          "metadata": {
            "needs_background": "light"
          }
        },
        {
          "output_type": "display_data",
          "data": {
            "text/plain": [
              "<Figure size 432x288 with 1 Axes>"
            ],
            "image/png": "[encoded data removed]"
          },
          "metadata": {
            "needs_background": "light"
          }
        },
        {
          "output_type": "display_data",
          "data": {
            "text/plain": [
              "<Figure size 432x288 with 1 Axes>"
            ],
            "image/png": "[encoded data removed]"
          },
          "metadata": {
            "needs_background": "light"
          }
        }
      ],
      "source": [
        "# column 별 길이 분포 확인\n",
        "text_len = [len(s.split()) for s in data['text']]\n",
        "headlines_len = [len(s.split()) for s in data['headlines']]\n",
        "\n",
        "print('텍스트의 최소 길이 : {}'.format(np.min(text_len)))\n",
        "print('텍스트의 최대 길이 : {}'.format(np.max(text_len)))\n",
        "print('텍스트의 평균 길이 : {}'.format(np.mean(text_len)))\n",
        "print('요약의 최소 길이 : {}'.format(np.min(headlines_len)))\n",
        "print('요약의 최대 길이 : {}'.format(np.max(headlines_len)))\n",
        "print('요약의 평균 길이 : {}'.format(np.mean(headlines_len)))\n",
        "\n",
        "plt.subplot(1,2,1)\n",
        "plt.boxplot(text_len)\n",
        "plt.title('text')\n",
        "plt.subplot(1,2,2)\n",
        "plt.boxplot(headlines_len)\n",
        "plt.title('headlines')\n",
        "plt.tight_layout()\n",
        "plt.show()\n",
        "\n",
        "plt.title('text')\n",
        "plt.hist(text_len, bins = 40)\n",
        "plt.xlabel('length of samples')\n",
        "plt.ylabel('number of samples')\n",
        "plt.show()\n",
        "\n",
        "plt.title('headlines')\n",
        "plt.hist(headlines_len, bins = 40)\n",
        "plt.xlabel('length of samples')\n",
        "plt.ylabel('number of samples')\n",
        "plt.show()"
      ]
    },
    {
      "cell_type": "markdown",
      "source": [
        "샘플의 최대 길이 정하기"
      ],
      "metadata": {
        "id": "Lu9Y7X1gCln6"
      }
    },
    {
      "cell_type": "code",
      "execution_count": 20,
      "metadata": {
        "id": "mWtG0MYmDmKF"
      },
      "outputs": [],
      "source": [
        "text_max_len = 40\n",
        "headlines_max_len = 12"
      ]
    },
    {
      "cell_type": "code",
      "execution_count": 21,
      "metadata": {
        "id": "Z9oF0BNjD3QH"
      },
      "outputs": [],
      "source": [
        "def below_threshold_len(max_len, nested_list):\n",
        "  cnt = 0\n",
        "  for s in nested_list:\n",
        "    if(len(s.split()) <= max_len):\n",
        "        cnt = cnt + 1\n",
        "  print('전체 샘플 중 길이가 %s 이하인 샘플의 비율: %s'%(max_len, (cnt / len(nested_list))))"
      ]
    },
    {
      "cell_type": "code",
      "execution_count": 22,
      "metadata": {
        "colab": {
          "base_uri": "https://localhost:8080/"
        },
        "id": "dEc4EwLLEEou",
        "outputId": "3fc12d01-cde7-459a-8d66-910e1b796fe4"
      },
      "outputs": [
        {
          "output_type": "stream",
          "name": "stdout",
          "text": [
            "전체 샘플 중 길이가 40 이하인 샘플의 비율: 0.9238714924766165\n",
            "전체 샘플 중 길이가 12 이하인 샘플의 비율: 0.9880337535583571\n"
          ]
        }
      ],
      "source": [
        "below_threshold_len(text_max_len, data['text'])\n",
        "below_threshold_len(headlines_max_len,  data['headlines'])"
      ]
    },
    {
      "cell_type": "code",
      "execution_count": 23,
      "metadata": {
        "colab": {
          "base_uri": "https://localhost:8080/"
        },
        "id": "-VnFujgnD5MM",
        "outputId": "5a0b469f-e9a5-43fe-ef2d-6b0b7fff5e94"
      },
      "outputs": [
        {
          "output_type": "stream",
          "name": "stdout",
          "text": [
            "전체 샘플수 : 89775\n"
          ]
        }
      ],
      "source": [
        "data = data[data['text'].apply(lambda x: len(x.split()) <= text_max_len)]\n",
        "data = data[data['headlines'].apply(lambda x: len(x.split()) <= headlines_max_len)]\n",
        "print('전체 샘플수 :', (len(data)))"
      ]
    },
    {
      "cell_type": "code",
      "execution_count": 24,
      "metadata": {
        "colab": {
          "base_uri": "https://localhost:8080/",
          "height": 206
        },
        "id": "NOs7gS2eD-Ro",
        "outputId": "75a6938a-fbed-4078-ac81-55da8ff040e1"
      },
      "outputs": [
        {
          "output_type": "execute_result",
          "data": {
            "text/plain": [
              "                                           headlines  \\\n",
              "0  upgrad learner switches to career in ml al wit...   \n",
              "2  new zealand end rohit sharma led india match w...   \n",
              "3  aegon life iterm insurance plan helps customer...   \n",
              "5  rahat fateh ali khan denies getting notice for...   \n",
              "6  india get all out for their lowest odi total i...   \n",
              "\n",
              "                                                text  \\\n",
              "0  saurav kant alumnus upgrad iiit pg program mac...   \n",
              "2  new zealand defeated india wickets fourth odi ...   \n",
              "3  aegon life iterm insurance plan customers enjo...   \n",
              "5  pakistani singer rahat fateh ali khan denied r...   \n",
              "6  india recorded lowest odi total new zealand ge...   \n",
              "\n",
              "                                       decoder_input  \\\n",
              "0  sostoken upgrad learner switches to career in ...   \n",
              "2  sostoken new zealand end rohit sharma led indi...   \n",
              "3  sostoken aegon life iterm insurance plan helps...   \n",
              "5  sostoken rahat fateh ali khan denies getting n...   \n",
              "6  sostoken india get all out for their lowest od...   \n",
              "\n",
              "                                      decoder_target  \n",
              "0  upgrad learner switches to career in ml al wit...  \n",
              "2  new zealand end rohit sharma led india match w...  \n",
              "3  aegon life iterm insurance plan helps customer...  \n",
              "5  rahat fateh ali khan denies getting notice for...  \n",
              "6  india get all out for their lowest odi total i...  "
            ],
            "text/html": [
              "\n",
              "  <div id=\"df-3dcd66b5-015b-46ab-a716-1d198bd7d78a\">\n",
              "    <div class=\"colab-df-container\">\n",
              "      <div>\n",
              "<style scoped>\n",
              "    .dataframe tbody tr th:only-of-type {\n",
              "        vertical-align: middle;\n",
              "    }\n",
              "\n",
              "    .dataframe tbody tr th {\n",
              "        vertical-align: top;\n",
              "    }\n",
              "\n",
              "    .dataframe thead th {\n",
              "        text-align: right;\n",
              "    }\n",
              "</style>\n",
              "<table border=\"1\" class=\"dataframe\">\n",
              "  <thead>\n",
              "    <tr style=\"text-align: right;\">\n",
              "      <th></th>\n",
              "      <th>headlines</th>\n",
              "      <th>text</th>\n",
              "      <th>decoder_input</th>\n",
              "      <th>decoder_target</th>\n",
              "    </tr>\n",
              "  </thead>\n",
              "  <tbody>\n",
              "    <tr>\n",
              "      <th>0</th>\n",
              "      <td>upgrad learner switches to career in ml al wit...</td>\n",
              "      <td>saurav kant alumnus upgrad iiit pg program mac...</td>\n",
              "      <td>sostoken upgrad learner switches to career in ...</td>\n",
              "      <td>upgrad learner switches to career in ml al wit...</td>\n",
              "    </tr>\n",
              "    <tr>\n",
              "      <th>2</th>\n",
              "      <td>new zealand end rohit sharma led india match w...</td>\n",
              "      <td>new zealand defeated india wickets fourth odi ...</td>\n",
              "      <td>sostoken new zealand end rohit sharma led indi...</td>\n",
              "      <td>new zealand end rohit sharma led india match w...</td>\n",
              "    </tr>\n",
              "    <tr>\n",
              "      <th>3</th>\n",
              "      <td>aegon life iterm insurance plan helps customer...</td>\n",
              "      <td>aegon life iterm insurance plan customers enjo...</td>\n",
              "      <td>sostoken aegon life iterm insurance plan helps...</td>\n",
              "      <td>aegon life iterm insurance plan helps customer...</td>\n",
              "    </tr>\n",
              "    <tr>\n",
              "      <th>5</th>\n",
              "      <td>rahat fateh ali khan denies getting notice for...</td>\n",
              "      <td>pakistani singer rahat fateh ali khan denied r...</td>\n",
              "      <td>sostoken rahat fateh ali khan denies getting n...</td>\n",
              "      <td>rahat fateh ali khan denies getting notice for...</td>\n",
              "    </tr>\n",
              "    <tr>\n",
              "      <th>6</th>\n",
              "      <td>india get all out for their lowest odi total i...</td>\n",
              "      <td>india recorded lowest odi total new zealand ge...</td>\n",
              "      <td>sostoken india get all out for their lowest od...</td>\n",
              "      <td>india get all out for their lowest odi total i...</td>\n",
              "    </tr>\n",
              "  </tbody>\n",
              "</table>\n",
              "</div>\n",
              "      <button class=\"colab-df-convert\" onclick=\"convertToInteractive('df-3dcd66b5-015b-46ab-a716-1d198bd7d78a')\"\n",
              "              title=\"Convert this dataframe to an interactive table.\"\n",
              "              style=\"display:none;\">\n",
              "        \n",
              "  <svg xmlns=\"http://www.w3.org/2000/svg\" height=\"24px\"viewBox=\"0 0 24 24\"\n",
              "       width=\"24px\">\n",
              "    <path d=\"M0 0h24v24H0V0z\" fill=\"none\"/>\n",
              "    <path d=\"M18.56 5.44l.94 2.06.94-2.06 2.06-.94-2.06-.94-.94-2.06-.94 2.06-2.06.94zm-11 1L8.5 8.5l.94-2.06 2.06-.94-2.06-.94L8.5 2.5l-.94 2.06-2.06.94zm10 10l.94 2.06.94-2.06 2.06-.94-2.06-.94-.94-2.06-.94 2.06-2.06.94z\"/><path d=\"M17.41 7.96l-1.37-1.37c-.4-.4-.92-.59-1.43-.59-.52 0-1.04.2-1.43.59L10.3 9.45l-7.72 7.72c-.78.78-.78 2.05 0 2.83L4 21.41c.39.39.9.59 1.41.59.51 0 1.02-.2 1.41-.59l7.78-7.78 2.81-2.81c.8-.78.8-2.07 0-2.86zM5.41 20L4 18.59l7.72-7.72 1.47 1.35L5.41 20z\"/>\n",
              "  </svg>\n",
              "      </button>\n",
              "      \n",
              "  <style>\n",
              "    .colab-df-container {\n",
              "      display:flex;\n",
              "      flex-wrap:wrap;\n",
              "      gap: 12px;\n",
              "    }\n",
              "\n",
              "    .colab-df-convert {\n",
              "      background-color: #E8F0FE;\n",
              "      border: none;\n",
              "      border-radius: 50%;\n",
              "      cursor: pointer;\n",
              "      display: none;\n",
              "      fill: #1967D2;\n",
              "      height: 32px;\n",
              "      padding: 0 0 0 0;\n",
              "      width: 32px;\n",
              "    }\n",
              "\n",
              "    .colab-df-convert:hover {\n",
              "      background-color: #E2EBFA;\n",
              "      box-shadow: 0px 1px 2px rgba(60, 64, 67, 0.3), 0px 1px 3px 1px rgba(60, 64, 67, 0.15);\n",
              "      fill: #174EA6;\n",
              "    }\n",
              "\n",
              "    [theme=dark] .colab-df-convert {\n",
              "      background-color: #3B4455;\n",
              "      fill: #D2E3FC;\n",
              "    }\n",
              "\n",
              "    [theme=dark] .colab-df-convert:hover {\n",
              "      background-color: #434B5C;\n",
              "      box-shadow: 0px 1px 3px 1px rgba(0, 0, 0, 0.15);\n",
              "      filter: drop-shadow(0px 1px 2px rgba(0, 0, 0, 0.3));\n",
              "      fill: #FFFFFF;\n",
              "    }\n",
              "  </style>\n",
              "\n",
              "      <script>\n",
              "        const buttonEl =\n",
              "          document.querySelector('#df-3dcd66b5-015b-46ab-a716-1d198bd7d78a button.colab-df-convert');\n",
              "        buttonEl.style.display =\n",
              "          google.colab.kernel.accessAllowed ? 'block' : 'none';\n",
              "\n",
              "        async function convertToInteractive(key) {\n",
              "          const element = document.querySelector('#df-3dcd66b5-015b-46ab-a716-1d198bd7d78a');\n",
              "          const dataTable =\n",
              "            await google.colab.kernel.invokeFunction('convertToInteractive',\n",
              "                                                     [key], {});\n",
              "          if (!dataTable) return;\n",
              "\n",
              "          const docLinkHtml = 'Like what you see? Visit the ' +\n",
              "            '<a target=\"_blank\" href=https://colab.research.google.com/notebooks/data_table.ipynb>data table notebook</a>'\n",
              "            + ' to learn more about interactive tables.';\n",
              "          element.innerHTML = '';\n",
              "          dataTable['output_type'] = 'display_data';\n",
              "          await google.colab.output.renderOutput(dataTable, element);\n",
              "          const docLink = document.createElement('div');\n",
              "          docLink.innerHTML = docLinkHtml;\n",
              "          element.appendChild(docLink);\n",
              "        }\n",
              "      </script>\n",
              "    </div>\n",
              "  </div>\n",
              "  "
            ]
          },
          "metadata": {},
          "execution_count": 24
        }
      ],
      "source": [
        "# 요약 데이터에는 시작 토큰과 종료 토큰을 추가한다.\n",
        "data['decoder_input'] = data['headlines'].apply(lambda x : 'sostoken '+ x)\n",
        "data['decoder_target'] = data['headlines'].apply(lambda x : x + ' eostoken')\n",
        "data.head()"
      ]
    },
    {
      "cell_type": "code",
      "execution_count": 25,
      "metadata": {
        "id": "htpNWHVmEhqM"
      },
      "outputs": [],
      "source": [
        "encoder_input = np.array(data['text']) # 인코더의 입력\n",
        "decoder_input = np.array(data['decoder_input']) # 디코더의 입력\n",
        "decoder_target = np.array(data['decoder_target']) # 디코더의 레이블"
      ]
    },
    {
      "cell_type": "code",
      "execution_count": 26,
      "metadata": {
        "colab": {
          "base_uri": "https://localhost:8080/"
        },
        "id": "lK_LtgkgEmN2",
        "outputId": "d898c14e-8cb3-4290-9f9b-a36f1a6b6232"
      },
      "outputs": [
        {
          "output_type": "stream",
          "name": "stdout",
          "text": [
            "[60666 73579 77771 ... 21453  6683 66973]\n"
          ]
        }
      ],
      "source": [
        "indices = np.arange(encoder_input.shape[0])\n",
        "np.random.shuffle(indices)\n",
        "print(indices)"
      ]
    },
    {
      "cell_type": "code",
      "execution_count": 27,
      "metadata": {
        "id": "vyVhRLOlEoKu"
      },
      "outputs": [],
      "source": [
        "encoder_input = encoder_input[indices]\n",
        "decoder_input = decoder_input[indices]\n",
        "decoder_target = decoder_target[indices]"
      ]
    },
    {
      "cell_type": "code",
      "execution_count": 28,
      "metadata": {
        "colab": {
          "base_uri": "https://localhost:8080/"
        },
        "id": "LyMX8t10EqCs",
        "outputId": "4a6b2cc1-c354-4f5f-f53a-1edb68753d19"
      },
      "outputs": [
        {
          "output_type": "stream",
          "name": "stdout",
          "text": [
            "테스트 데이터의 수 : 17955\n"
          ]
        }
      ],
      "source": [
        "n_of_val = int(len(encoder_input)*0.2)\n",
        "print('테스트 데이터의 수 :', n_of_val)"
      ]
    },
    {
      "cell_type": "code",
      "execution_count": 29,
      "metadata": {
        "colab": {
          "base_uri": "https://localhost:8080/"
        },
        "id": "UcoGkDC6Ersp",
        "outputId": "cea1fe6b-36f6-4495-b841-c30213cf5612"
      },
      "outputs": [
        {
          "output_type": "stream",
          "name": "stdout",
          "text": [
            "훈련 데이터의 개수 : 71820\n",
            "훈련 레이블의 개수 : 71820\n",
            "테스트 데이터의 개수 : 17955\n",
            "테스트 레이블의 개수 : 17955\n"
          ]
        }
      ],
      "source": [
        "encoder_input_train = encoder_input[:-n_of_val]\n",
        "decoder_input_train = decoder_input[:-n_of_val]\n",
        "decoder_target_train = decoder_target[:-n_of_val]\n",
        "\n",
        "encoder_input_test = encoder_input[-n_of_val:]\n",
        "decoder_input_test = decoder_input[-n_of_val:]\n",
        "decoder_target_test = decoder_target[-n_of_val:]\n",
        "\n",
        "print('훈련 데이터의 개수 :', len(encoder_input_train))\n",
        "print('훈련 레이블의 개수 :', len(decoder_input_train))\n",
        "print('테스트 데이터의 개수 :', len(encoder_input_test))\n",
        "print('테스트 레이블의 개수 :', len(decoder_input_test))"
      ]
    },
    {
      "cell_type": "markdown",
      "source": [
        "정수 인코딩"
      ],
      "metadata": {
        "id": "53ZRn1t5Cwpu"
      }
    },
    {
      "cell_type": "code",
      "execution_count": 30,
      "metadata": {
        "id": "30JGKshxEtmG"
      },
      "outputs": [],
      "source": [
        "src_tokenizer = Tokenizer() # 토크나이저 정의\n",
        "src_tokenizer.fit_on_texts(encoder_input_train) # 입력된 데이터로부터 단어 집합 생성"
      ]
    },
    {
      "cell_type": "code",
      "execution_count": 31,
      "metadata": {
        "colab": {
          "base_uri": "https://localhost:8080/"
        },
        "id": "ahhV_rOeEzID",
        "outputId": "d82689aa-9191-47e1-eac8-47b1a4c06d8b"
      },
      "outputs": [
        {
          "output_type": "stream",
          "name": "stdout",
          "text": [
            "단어 집합(vocabulary)의 크기 : 65604\n",
            "등장 빈도가 6번 이하인 희귀 단어의 수: 44679\n",
            "단어 집합에서 희귀 단어를 제외시킬 경우의 단어 집합의 크기 20925\n",
            "단어 집합에서 희귀 단어의 비율: 68.10407901957197\n",
            "전체 등장 빈도에서 희귀 단어 등장 빈도 비율: 3.671774296329637\n"
          ]
        }
      ],
      "source": [
        "threshold = 7\n",
        "total_cnt = len(src_tokenizer.word_index) # 단어의 수\n",
        "rare_cnt = 0 # 등장 빈도수가 threshold보다 작은 단어의 개수를 카운트\n",
        "total_freq = 0 # 훈련 데이터의 전체 단어 빈도수 총 합\n",
        "rare_freq = 0 # 등장 빈도수가 threshold보다 작은 단어의 등장 빈도수의 총 합\n",
        "\n",
        "# 단어와 빈도수의 쌍(pair)을 key와 value로 받는다.\n",
        "for key, value in src_tokenizer.word_counts.items():\n",
        "    total_freq = total_freq + value\n",
        "\n",
        "    # 단어의 등장 빈도수가 threshold보다 작으면\n",
        "    if(value < threshold):\n",
        "        rare_cnt = rare_cnt + 1\n",
        "        rare_freq = rare_freq + value\n",
        "\n",
        "print('단어 집합(vocabulary)의 크기 :', total_cnt)\n",
        "print('등장 빈도가 %s번 이하인 희귀 단어의 수: %s'%(threshold - 1, rare_cnt))\n",
        "print('단어 집합에서 희귀 단어를 제외시킬 경우의 단어 집합의 크기 %s'%(total_cnt - rare_cnt))\n",
        "print(\"단어 집합에서 희귀 단어의 비율:\", (rare_cnt / total_cnt)*100)\n",
        "print(\"전체 등장 빈도에서 희귀 단어 등장 빈도 비율:\", (rare_freq / total_freq)*100)"
      ]
    },
    {
      "cell_type": "code",
      "execution_count": 32,
      "metadata": {
        "id": "eXpIoWTkE4kZ"
      },
      "outputs": [],
      "source": [
        "src_vocab = 19000\n",
        "src_tokenizer = Tokenizer(num_words=src_vocab) # 단어 집합의 크기를 20,000으로 제한\n",
        "src_tokenizer.fit_on_texts(encoder_input_train) # 단어 집합 재생성"
      ]
    },
    {
      "cell_type": "code",
      "execution_count": 33,
      "metadata": {
        "colab": {
          "base_uri": "https://localhost:8080/"
        },
        "id": "f5S2q9SWFDpO",
        "outputId": "e1692c64-ad7a-468e-8de6-ddf6816e5fc6"
      },
      "outputs": [
        {
          "output_type": "stream",
          "name": "stdout",
          "text": [
            "[[117, 36, 138, 152, 56, 8, 1039, 100, 15756, 2982, 3141, 1672, 9410, 2106, 64, 49, 3060, 526, 1, 5856, 2181, 872, 1232, 145, 9, 5856, 20, 749, 826, 490, 3464, 12138, 3], [1352, 417, 85, 2093, 181, 6749, 97, 15757, 17389, 13942, 65, 238, 181, 16, 38, 64, 38, 64, 189, 97, 2093, 97, 189, 64, 13942, 1, 38, 2181, 2216, 516, 3581, 1097, 876, 3], [6037, 101, 356, 4374, 257, 7967, 12959, 823, 511, 587, 5023, 823, 1260, 1093, 4, 14511, 904, 210, 8268, 88, 2069, 356, 54, 404, 1191, 2880, 2301, 2145, 1484, 1440, 1, 496, 6037, 101]]\n"
          ]
        }
      ],
      "source": [
        "# 텍스트 시퀀스를 정수 시퀀스로 변환\n",
        "encoder_input_train = src_tokenizer.texts_to_sequences(encoder_input_train) \n",
        "encoder_input_test = src_tokenizer.texts_to_sequences(encoder_input_test)\n",
        "\n",
        "# 잘 진행되었는지 샘플 출력\n",
        "print(encoder_input_train[:3])"
      ]
    },
    {
      "cell_type": "code",
      "execution_count": 34,
      "metadata": {
        "id": "3yqSozXUFGFa"
      },
      "outputs": [],
      "source": [
        "tar_tokenizer = Tokenizer()\n",
        "tar_tokenizer.fit_on_texts(decoder_input_train)"
      ]
    },
    {
      "cell_type": "code",
      "execution_count": 35,
      "metadata": {
        "colab": {
          "base_uri": "https://localhost:8080/"
        },
        "id": "ihDCFzRcFI8f",
        "outputId": "28bee2f5-5921-488b-b255-0903b15bf755"
      },
      "outputs": [
        {
          "output_type": "stream",
          "name": "stdout",
          "text": [
            "단어 집합(vocabulary)의 크기 : 28851\n",
            "등장 빈도가 5번 이하인 희귀 단어의 수: 18904\n",
            "단어 집합에서 희귀 단어를 제외시킬 경우의 단어 집합의 크기 9947\n",
            "단어 집합에서 희귀 단어의 비율: 65.52285882638384\n",
            "전체 등장 빈도에서 희귀 단어 등장 빈도 비율: 4.917839100440002\n"
          ]
        }
      ],
      "source": [
        "threshold = 6\n",
        "total_cnt = len(tar_tokenizer.word_index) # 단어의 수\n",
        "rare_cnt = 0 # 등장 빈도수가 threshold보다 작은 단어의 개수를 카운트\n",
        "total_freq = 0 # 훈련 데이터의 전체 단어 빈도수 총 합\n",
        "rare_freq = 0 # 등장 빈도수가 threshold보다 작은 단어의 등장 빈도수의 총 합\n",
        "\n",
        "# 단어와 빈도수의 쌍(pair)을 key와 value로 받는다.\n",
        "for key, value in tar_tokenizer.word_counts.items():\n",
        "    total_freq = total_freq + value\n",
        "\n",
        "    # 단어의 등장 빈도수가 threshold보다 작으면\n",
        "    if(value < threshold):\n",
        "        rare_cnt = rare_cnt + 1\n",
        "        rare_freq = rare_freq + value\n",
        "\n",
        "print('단어 집합(vocabulary)의 크기 :', total_cnt)\n",
        "print('등장 빈도가 %s번 이하인 희귀 단어의 수: %s'%(threshold - 1, rare_cnt))\n",
        "print('단어 집합에서 희귀 단어를 제외시킬 경우의 단어 집합의 크기 %s'%(total_cnt - rare_cnt))\n",
        "print(\"단어 집합에서 희귀 단어의 비율:\", (rare_cnt / total_cnt)*100)\n",
        "print(\"전체 등장 빈도에서 희귀 단어 등장 빈도 비율:\", (rare_freq / total_freq)*100)"
      ]
    },
    {
      "cell_type": "code",
      "execution_count": 36,
      "metadata": {
        "colab": {
          "base_uri": "https://localhost:8080/"
        },
        "id": "tCv0rq8FFLIr",
        "outputId": "d8273626-1762-4fe5-cbd8-04c6ef88d868"
      },
      "outputs": [
        {
          "output_type": "stream",
          "name": "stdout",
          "text": [
            "input\n",
            "input  [[1, 1357, 1672, 373, 578, 3, 1253, 59, 1431, 889], [1, 1194, 390, 8364, 121, 125, 133, 113, 107], [1, 5554, 5, 478, 806, 5, 9, 641, 158], [1, 99, 2286, 7283, 4, 60, 8365], [1, 66, 924, 40, 1538, 14, 352, 447, 55, 35]]\n",
            "target\n",
            "decoder  [[1357, 1672, 373, 578, 3, 1253, 59, 1431, 889, 2], [1194, 390, 8364, 121, 125, 133, 113, 107, 2], [5554, 5, 478, 806, 5, 9, 641, 158, 2], [99, 2286, 7283, 4, 60, 8365, 2], [66, 924, 40, 1538, 14, 352, 447, 55, 35, 2]]\n"
          ]
        }
      ],
      "source": [
        "tar_vocab = 9000\n",
        "tar_tokenizer = Tokenizer(num_words=tar_vocab) \n",
        "tar_tokenizer.fit_on_texts(decoder_input_train)\n",
        "tar_tokenizer.fit_on_texts(decoder_target_train)\n",
        "\n",
        "# 텍스트 시퀀스를 정수 시퀀스로 변환\n",
        "decoder_input_train = tar_tokenizer.texts_to_sequences(decoder_input_train) \n",
        "decoder_target_train = tar_tokenizer.texts_to_sequences(decoder_target_train)\n",
        "decoder_input_test = tar_tokenizer.texts_to_sequences(decoder_input_test)\n",
        "decoder_target_test = tar_tokenizer.texts_to_sequences(decoder_target_test)\n",
        "\n",
        "# 잘 변환되었는지 확인\n",
        "print('input')\n",
        "print('input ',decoder_input_train[:5])\n",
        "print('target')\n",
        "print('decoder ',decoder_target_train[:5])"
      ]
    },
    {
      "cell_type": "code",
      "execution_count": 37,
      "metadata": {
        "colab": {
          "base_uri": "https://localhost:8080/"
        },
        "id": "YKZihlInFQuD",
        "outputId": "f26e2f95-9bfe-4d86-d63d-a3034a72d9cc"
      },
      "outputs": [
        {
          "output_type": "stream",
          "name": "stdout",
          "text": [
            "삭제할 훈련 데이터의 개수 : 0\n",
            "삭제할 테스트 데이터의 개수 : 0\n",
            "훈련 데이터의 개수 : 71820\n",
            "훈련 레이블의 개수 : 71820\n",
            "테스트 데이터의 개수 : 17955\n",
            "테스트 레이블의 개수 : 17955\n"
          ]
        }
      ],
      "source": [
        "drop_train = [index for index, sentence in enumerate(decoder_input_train) if len(sentence) == 1]\n",
        "drop_test = [index for index, sentence in enumerate(decoder_input_test) if len(sentence) == 1]\n",
        "\n",
        "print('삭제할 훈련 데이터의 개수 :', len(drop_train))\n",
        "print('삭제할 테스트 데이터의 개수 :', len(drop_test))\n",
        "\n",
        "encoder_input_train = [sentence for index, sentence in enumerate(encoder_input_train) if index not in drop_train]\n",
        "decoder_input_train = [sentence for index, sentence in enumerate(decoder_input_train) if index not in drop_train]\n",
        "decoder_target_train = [sentence for index, sentence in enumerate(decoder_target_train) if index not in drop_train]\n",
        "\n",
        "encoder_input_test = [sentence for index, sentence in enumerate(encoder_input_test) if index not in drop_test]\n",
        "decoder_input_test = [sentence for index, sentence in enumerate(decoder_input_test) if index not in drop_test]\n",
        "decoder_target_test = [sentence for index, sentence in enumerate(decoder_target_test) if index not in drop_test]\n",
        "\n",
        "print('훈련 데이터의 개수 :', len(encoder_input_train))\n",
        "print('훈련 레이블의 개수 :', len(decoder_input_train))\n",
        "print('테스트 데이터의 개수 :', len(encoder_input_test))\n",
        "print('테스트 레이블의 개수 :', len(decoder_input_test))"
      ]
    },
    {
      "cell_type": "code",
      "execution_count": 38,
      "metadata": {
        "colab": {
          "base_uri": "https://localhost:8080/"
        },
        "id": "IooGYCDjFWzq",
        "outputId": "89790a71-d783-4261-9c4c-0f376716596a"
      },
      "outputs": [
        {
          "output_type": "stream",
          "name": "stdout",
          "text": [
            "삭제할 훈련 데이터의 개수 : 0\n",
            "삭제할 테스트 데이터의 개수 : 0\n"
          ]
        }
      ],
      "source": [
        "drop_train = [index for index, sentence in enumerate(decoder_input_train) if len(sentence) == 1]\n",
        "drop_test = [index for index, sentence in enumerate(decoder_input_test) if len(sentence) == 1]\n",
        "\n",
        "print('삭제할 훈련 데이터의 개수 :', len(drop_train))\n",
        "print('삭제할 테스트 데이터의 개수 :', len(drop_test))\n",
        "\n",
        "encoder_input_train = pad_sequences(encoder_input_train, maxlen=text_max_len, padding='post')\n",
        "encoder_input_test = pad_sequences(encoder_input_test, maxlen=text_max_len, padding='post')\n",
        "decoder_input_train = pad_sequences(decoder_input_train, maxlen=headlines_max_len, padding='post')\n",
        "decoder_target_train = pad_sequences(decoder_target_train, maxlen=headlines_max_len, padding='post')\n",
        "decoder_input_test = pad_sequences(decoder_input_test, maxlen=headlines_max_len, padding='post')\n",
        "decoder_target_test = pad_sequences(decoder_target_test, maxlen=headlines_max_len, padding='post')"
      ]
    },
    {
      "cell_type": "markdown",
      "source": [
        "# 2-2. 어텐션 매커니즘 사용하기(추상적 요약)"
      ],
      "metadata": {
        "id": "EewjaGzg7UCo"
      }
    },
    {
      "cell_type": "code",
      "execution_count": 39,
      "metadata": {
        "colab": {
          "base_uri": "https://localhost:8080/"
        },
        "id": "T5FC20-UFZhZ",
        "outputId": "d3690375-82c2-4762-de14-582f8208bbfc"
      },
      "outputs": [
        {
          "output_type": "stream",
          "name": "stderr",
          "text": [
            "WARNING:tensorflow:Layer lstm will not use cuDNN kernels since it doesn't meet the criteria. It will use a generic GPU kernel as fallback when running on GPU.\n",
            "WARNING:tensorflow:Layer lstm_1 will not use cuDNN kernels since it doesn't meet the criteria. It will use a generic GPU kernel as fallback when running on GPU.\n",
            "WARNING:tensorflow:Layer lstm_2 will not use cuDNN kernels since it doesn't meet the criteria. It will use a generic GPU kernel as fallback when running on GPU.\n"
          ]
        }
      ],
      "source": [
        "from tensorflow.keras.layers import Input, LSTM, Embedding, Dense, Concatenate, TimeDistributed\n",
        "from tensorflow.keras.models import Model\n",
        "from tensorflow.keras.callbacks import EarlyStopping, ModelCheckpoint\n",
        "\n",
        "\n",
        "# 인코더 설계 시작\n",
        "embedding_dim = 128\n",
        "hidden_size = 256\n",
        "\n",
        "# 인코더\n",
        "encoder_inputs = Input(shape=(text_max_len,))\n",
        "\n",
        "# 인코더의 임베딩 층\n",
        "enc_emb = Embedding(src_vocab, embedding_dim)(encoder_inputs)\n",
        "\n",
        "# 인코더의 LSTM 1\n",
        "encoder_lstm1 = LSTM(hidden_size, return_sequences=True, return_state=True ,dropout = 0.4, recurrent_dropout = 0.4)\n",
        "encoder_output1, state_h1, state_c1 = encoder_lstm1(enc_emb)\n",
        "\n",
        "# 인코더의 LSTM 2\n",
        "encoder_lstm2 = LSTM(hidden_size, return_sequences=True, return_state=True, dropout=0.4, recurrent_dropout=0.4)\n",
        "encoder_output2, state_h2, state_c2 = encoder_lstm2(encoder_output1)\n",
        "\n",
        "# 인코더의 LSTM 3\n",
        "encoder_lstm3 = LSTM(hidden_size, return_state=True, return_sequences=True, dropout=0.4, recurrent_dropout=0.4)\n",
        "encoder_outputs, state_h, state_c= encoder_lstm3(encoder_output2)"
      ]
    },
    {
      "cell_type": "code",
      "execution_count": 40,
      "metadata": {
        "colab": {
          "base_uri": "https://localhost:8080/"
        },
        "id": "ZmofVyOHFtCE",
        "outputId": "826c84eb-edba-449e-904c-a94609050bf8"
      },
      "outputs": [
        {
          "output_type": "stream",
          "name": "stderr",
          "text": [
            "WARNING:tensorflow:Layer lstm_3 will not use cuDNN kernels since it doesn't meet the criteria. It will use a generic GPU kernel as fallback when running on GPU.\n"
          ]
        }
      ],
      "source": [
        "# 디코더 설계\n",
        "decoder_inputs = Input(shape=(None,))\n",
        "\n",
        "# 디코더의 임베딩 층\n",
        "dec_emb_layer = Embedding(tar_vocab, embedding_dim)\n",
        "dec_emb = dec_emb_layer(decoder_inputs)\n",
        "\n",
        "# 디코더의 LSTM\n",
        "decoder_lstm = LSTM(hidden_size, return_sequences=True, return_state=True, dropout=0.4, recurrent_dropout=0.2)\n",
        "decoder_outputs, _, _ = decoder_lstm(dec_emb, initial_state=[state_h, state_c])"
      ]
    },
    {
      "cell_type": "code",
      "execution_count": 41,
      "metadata": {
        "colab": {
          "base_uri": "https://localhost:8080/"
        },
        "id": "5gSinUK1Fvye",
        "outputId": "78e702c7-dcfd-4d73-b330-66262b98e103"
      },
      "outputs": [
        {
          "output_type": "stream",
          "name": "stdout",
          "text": [
            "Model: \"model\"\n",
            "__________________________________________________________________________________________________\n",
            "Layer (type)                    Output Shape         Param #     Connected to                     \n",
            "==================================================================================================\n",
            "input_1 (InputLayer)            [(None, 40)]         0                                            \n",
            "__________________________________________________________________________________________________\n",
            "embedding (Embedding)           (None, 40, 128)      2432000     input_1[0][0]                    \n",
            "__________________________________________________________________________________________________\n",
            "lstm (LSTM)                     [(None, 40, 256), (N 394240      embedding[0][0]                  \n",
            "__________________________________________________________________________________________________\n",
            "input_2 (InputLayer)            [(None, None)]       0                                            \n",
            "__________________________________________________________________________________________________\n",
            "lstm_1 (LSTM)                   [(None, 40, 256), (N 525312      lstm[0][0]                       \n",
            "__________________________________________________________________________________________________\n",
            "embedding_1 (Embedding)         (None, None, 128)    1152000     input_2[0][0]                    \n",
            "__________________________________________________________________________________________________\n",
            "lstm_2 (LSTM)                   [(None, 40, 256), (N 525312      lstm_1[0][0]                     \n",
            "__________________________________________________________________________________________________\n",
            "lstm_3 (LSTM)                   [(None, None, 256),  394240      embedding_1[0][0]                \n",
            "                                                                 lstm_2[0][1]                     \n",
            "                                                                 lstm_2[0][2]                     \n",
            "__________________________________________________________________________________________________\n",
            "dense (Dense)                   (None, None, 9000)   2313000     lstm_3[0][0]                     \n",
            "==================================================================================================\n",
            "Total params: 7,736,104\n",
            "Trainable params: 7,736,104\n",
            "Non-trainable params: 0\n",
            "__________________________________________________________________________________________________\n"
          ]
        }
      ],
      "source": [
        "# 디코더의 출력층\n",
        "decoder_softmax_layer = Dense(tar_vocab, activation='softmax')\n",
        "decoder_softmax_outputs = decoder_softmax_layer(decoder_outputs) \n",
        "\n",
        "# 모델 정의\n",
        "model = Model([encoder_inputs, decoder_inputs], decoder_softmax_outputs)\n",
        "model.summary()"
      ]
    },
    {
      "cell_type": "code",
      "execution_count": 42,
      "metadata": {
        "colab": {
          "base_uri": "https://localhost:8080/"
        },
        "id": "p2aufBHwFxhh",
        "outputId": "807b55e5-7295-4efa-81b6-a3eb04109f81"
      },
      "outputs": [
        {
          "output_type": "stream",
          "name": "stdout",
          "text": [
            "Model: \"model_1\"\n",
            "__________________________________________________________________________________________________\n",
            "Layer (type)                    Output Shape         Param #     Connected to                     \n",
            "==================================================================================================\n",
            "input_1 (InputLayer)            [(None, 40)]         0                                            \n",
            "__________________________________________________________________________________________________\n",
            "embedding (Embedding)           (None, 40, 128)      2432000     input_1[0][0]                    \n",
            "__________________________________________________________________________________________________\n",
            "lstm (LSTM)                     [(None, 40, 256), (N 394240      embedding[0][0]                  \n",
            "__________________________________________________________________________________________________\n",
            "input_2 (InputLayer)            [(None, None)]       0                                            \n",
            "__________________________________________________________________________________________________\n",
            "lstm_1 (LSTM)                   [(None, 40, 256), (N 525312      lstm[0][0]                       \n",
            "__________________________________________________________________________________________________\n",
            "embedding_1 (Embedding)         (None, None, 128)    1152000     input_2[0][0]                    \n",
            "__________________________________________________________________________________________________\n",
            "lstm_2 (LSTM)                   [(None, 40, 256), (N 525312      lstm_1[0][0]                     \n",
            "__________________________________________________________________________________________________\n",
            "lstm_3 (LSTM)                   [(None, None, 256),  394240      embedding_1[0][0]                \n",
            "                                                                 lstm_2[0][1]                     \n",
            "                                                                 lstm_2[0][2]                     \n",
            "__________________________________________________________________________________________________\n",
            "attention_layer (AdditiveAttent (None, None, 256)    256         lstm_3[0][0]                     \n",
            "                                                                 lstm_2[0][0]                     \n",
            "__________________________________________________________________________________________________\n",
            "concat_layer (Concatenate)      (None, None, 512)    0           lstm_3[0][0]                     \n",
            "                                                                 attention_layer[0][0]            \n",
            "__________________________________________________________________________________________________\n",
            "dense_1 (Dense)                 (None, None, 9000)   4617000     concat_layer[0][0]               \n",
            "==================================================================================================\n",
            "Total params: 10,040,360\n",
            "Trainable params: 10,040,360\n",
            "Non-trainable params: 0\n",
            "__________________________________________________________________________________________________\n"
          ]
        }
      ],
      "source": [
        "from tensorflow.keras.layers import AdditiveAttention\n",
        "\n",
        "# 어텐션 층(어텐션 함수)\n",
        "attn_layer = AdditiveAttention(name='attention_layer')\n",
        "\n",
        "# 인코더와 디코더의 모든 time step의 hidden state를 어텐션 층에 전달하고 결과를 리턴\n",
        "attn_out = attn_layer([decoder_outputs, encoder_outputs])\n",
        "\n",
        "\n",
        "# 어텐션의 결과와 디코더의 hidden state들을 연결\n",
        "decoder_concat_input = Concatenate(axis=-1, name='concat_layer')([decoder_outputs, attn_out])\n",
        "\n",
        "# 디코더의 출력층\n",
        "decoder_softmax_layer = Dense(tar_vocab, activation='softmax')\n",
        "decoder_softmax_outputs = decoder_softmax_layer(decoder_concat_input)\n",
        "\n",
        "# 모델 정의\n",
        "model = Model([encoder_inputs, decoder_inputs], decoder_softmax_outputs)\n",
        "model.summary()"
      ]
    },
    {
      "cell_type": "code",
      "execution_count": 43,
      "metadata": {
        "colab": {
          "base_uri": "https://localhost:8080/"
        },
        "id": "ZS1_-8Q1F2L0",
        "outputId": "f2abd883-1e05-492a-a8b1-3de14f2c090d"
      },
      "outputs": [
        {
          "output_type": "stream",
          "name": "stdout",
          "text": [
            "Epoch 1/50\n",
            "281/281 [==============================] - 180s 602ms/step - loss: 5.5666 - val_loss: 5.1645\n",
            "Epoch 2/50\n",
            "281/281 [==============================] - 168s 597ms/step - loss: 5.0183 - val_loss: 4.7865\n",
            "Epoch 3/50\n",
            "281/281 [==============================] - 168s 597ms/step - loss: 4.6770 - val_loss: 4.5116\n",
            "Epoch 4/50\n",
            "281/281 [==============================] - 167s 594ms/step - loss: 4.4138 - val_loss: 4.3340\n",
            "Epoch 5/50\n",
            "281/281 [==============================] - 168s 599ms/step - loss: 4.2144 - val_loss: 4.1904\n",
            "Epoch 6/50\n",
            "281/281 [==============================] - 167s 596ms/step - loss: 4.0529 - val_loss: 4.0847\n",
            "Epoch 7/50\n",
            "281/281 [==============================] - 169s 601ms/step - loss: 3.9135 - val_loss: 3.9997\n",
            "Epoch 8/50\n",
            "281/281 [==============================] - 168s 597ms/step - loss: 3.7892 - val_loss: 3.9290\n",
            "Epoch 9/50\n",
            "281/281 [==============================] - 177s 631ms/step - loss: 3.6797 - val_loss: 3.8693\n",
            "Epoch 10/50\n",
            "281/281 [==============================] - 170s 605ms/step - loss: 3.5813 - val_loss: 3.8166\n",
            "Epoch 11/50\n",
            "281/281 [==============================] - 174s 619ms/step - loss: 3.4936 - val_loss: 3.7773\n",
            "Epoch 12/50\n",
            "281/281 [==============================] - 168s 597ms/step - loss: 3.4107 - val_loss: 3.7515\n",
            "Epoch 13/50\n",
            "281/281 [==============================] - 169s 603ms/step - loss: 3.3370 - val_loss: 3.7119\n",
            "Epoch 14/50\n",
            "281/281 [==============================] - 167s 593ms/step - loss: 3.2689 - val_loss: 3.7005\n",
            "Epoch 15/50\n",
            "281/281 [==============================] - 167s 595ms/step - loss: 3.2091 - val_loss: 3.6699\n",
            "Epoch 16/50\n",
            "281/281 [==============================] - 169s 600ms/step - loss: 3.1507 - val_loss: 3.6558\n",
            "Epoch 17/50\n",
            "281/281 [==============================] - 166s 592ms/step - loss: 3.0992 - val_loss: 3.6380\n",
            "Epoch 18/50\n",
            "281/281 [==============================] - 166s 591ms/step - loss: 3.0495 - val_loss: 3.6258\n",
            "Epoch 19/50\n",
            "281/281 [==============================] - 166s 592ms/step - loss: 3.0005 - val_loss: 3.6185\n",
            "Epoch 20/50\n",
            "281/281 [==============================] - 168s 596ms/step - loss: 2.9530 - val_loss: 3.6076\n",
            "Epoch 21/50\n",
            "281/281 [==============================] - 166s 591ms/step - loss: 2.9142 - val_loss: 3.6039\n",
            "Epoch 22/50\n",
            "281/281 [==============================] - 166s 590ms/step - loss: 2.8750 - val_loss: 3.5997\n",
            "Epoch 23/50\n",
            "281/281 [==============================] - 167s 594ms/step - loss: 2.8391 - val_loss: 3.5962\n",
            "Epoch 24/50\n",
            "281/281 [==============================] - 164s 584ms/step - loss: 2.8046 - val_loss: 3.5905\n",
            "Epoch 25/50\n",
            "281/281 [==============================] - 165s 587ms/step - loss: 2.7725 - val_loss: 3.5802\n",
            "Epoch 26/50\n",
            "281/281 [==============================] - 164s 585ms/step - loss: 2.7404 - val_loss: 3.5854\n",
            "Epoch 27/50\n",
            "281/281 [==============================] - 166s 592ms/step - loss: 2.7094 - val_loss: 3.5840\n",
            "Epoch 00027: early stopping\n"
          ]
        }
      ],
      "source": [
        "model.compile(optimizer='rmsprop', loss='sparse_categorical_crossentropy')\n",
        "es = EarlyStopping(monitor='val_loss', patience=2, verbose=1)\n",
        "history = model.fit(x=[encoder_input_train, decoder_input_train], y=decoder_target_train, \\\n",
        "          validation_data=([encoder_input_test, decoder_input_test], decoder_target_test), \\\n",
        "          batch_size=256, callbacks=[es], epochs=50)"
      ]
    },
    {
      "cell_type": "code",
      "execution_count": 44,
      "metadata": {
        "id": "C4VSx24yF9Kt",
        "colab": {
          "base_uri": "https://localhost:8080/",
          "height": 265
        },
        "outputId": "17190ff4-e497-4534-d19e-1b6016962ef0"
      },
      "outputs": [
        {
          "output_type": "display_data",
          "data": {
            "text/plain": [
              "<Figure size 432x288 with 1 Axes>"
            ],
            "image/png": "[encoded data removed]"
          },
          "metadata": {
            "needs_background": "light"
          }
        }
      ],
      "source": [
        "plt.plot(history.history['loss'], label='train')\n",
        "plt.plot(history.history['val_loss'], label='test')\n",
        "plt.legend()\n",
        "plt.show()"
      ]
    },
    {
      "cell_type": "markdown",
      "source": [
        "## 인퍼런스 모델"
      ],
      "metadata": {
        "id": "LcZLI6iPTAzp"
      }
    },
    {
      "cell_type": "code",
      "execution_count": 45,
      "metadata": {
        "id": "8YZmwnJkGBwY"
      },
      "outputs": [],
      "source": [
        "src_index_to_word = src_tokenizer.index_word # 원문 단어 집합에서 정수 -> 단어를 얻음\n",
        "tar_word_to_index = tar_tokenizer.word_index # 요약 단어 집합에서 단어 -> 정수를 얻음\n",
        "tar_index_to_word = tar_tokenizer.index_word # 요약 단어 집합에서 정수 -> 단어를 얻음"
      ]
    },
    {
      "cell_type": "code",
      "execution_count": 46,
      "metadata": {
        "id": "3SD4qIHxGFNS"
      },
      "outputs": [],
      "source": [
        "# 인코더 설계\n",
        "encoder_model = Model(inputs=encoder_inputs, outputs=[encoder_outputs, state_h, state_c])\n",
        "\n",
        "# 이전 시점의 상태들을 저장하는 텐서\n",
        "decoder_state_input_h = Input(shape=(hidden_size,))\n",
        "decoder_state_input_c = Input(shape=(hidden_size,))\n",
        "\n",
        "dec_emb2 = dec_emb_layer(decoder_inputs)\n",
        "\n",
        "# 문장의 다음 단어를 예측하기 위해서 초기 상태(initial_state)를 이전 시점의 상태로 사용. 이는 뒤의 함수 decode_sequence()에 구현\n",
        "# 훈련 과정에서와 달리 LSTM의 리턴하는 은닉 상태와 셀 상태인 state_h와 state_c를 버리지 않음.\n",
        "decoder_outputs2, state_h2, state_c2 = decoder_lstm(dec_emb2, initial_state=[decoder_state_input_h, decoder_state_input_c])"
      ]
    },
    {
      "cell_type": "code",
      "execution_count": 47,
      "metadata": {
        "id": "bYbDuqlsGHcT"
      },
      "outputs": [],
      "source": [
        "# 어텐션 함수\n",
        "decoder_hidden_state_input = Input(shape=(text_max_len, hidden_size))\n",
        "attn_out_inf = attn_layer([decoder_outputs2, decoder_hidden_state_input])\n",
        "decoder_inf_concat = Concatenate(axis=-1, name='concat')([decoder_outputs2, attn_out_inf])\n",
        "\n",
        "# 디코더의 출력층\n",
        "decoder_outputs2 = decoder_softmax_layer(decoder_inf_concat) \n",
        "\n",
        "# 최종 디코더 모델\n",
        "decoder_model = Model(\n",
        "    [decoder_inputs] + [decoder_hidden_state_input,decoder_state_input_h, decoder_state_input_c],\n",
        "    [decoder_outputs2] + [state_h2, state_c2])"
      ]
    },
    {
      "cell_type": "markdown",
      "source": [
        "## 2-3. 실제 결과와 요약문 비교하기 (추상적 요약)"
      ],
      "metadata": {
        "id": "7rnVZDso7g6x"
      }
    },
    {
      "cell_type": "code",
      "execution_count": 48,
      "metadata": {
        "id": "4ENhghqYGJoa"
      },
      "outputs": [],
      "source": [
        "def decode_sequence(input_seq):\n",
        "    # 입력으로부터 인코더의 상태를 얻음\n",
        "    e_out, e_h, e_c = encoder_model.predict(input_seq)\n",
        "\n",
        "     # <SOS>에 해당하는 토큰 생성\n",
        "    target_seq = np.zeros((1,1))\n",
        "    target_seq[0, 0] = tar_word_to_index['sostoken']\n",
        "\n",
        "    stop_condition = False\n",
        "    decoded_sentence = ''\n",
        "    while not stop_condition: # stop_condition이 True가 될 때까지 루프 반복\n",
        "\n",
        "        output_tokens, h, c = decoder_model.predict([target_seq] + [e_out, e_h, e_c])\n",
        "        sampled_token_index = np.argmax(output_tokens[0, -1, :])\n",
        "        sampled_token = tar_index_to_word[sampled_token_index]\n",
        "\n",
        "        if (sampled_token!='eostoken'):\n",
        "            decoded_sentence += ' '+sampled_token\n",
        "\n",
        "        #  <eos>에 도달하거나 최대 길이를 넘으면 중단.\n",
        "        if (sampled_token == 'eostoken'  or len(decoded_sentence.split()) >= (headlines_max_len-1)):\n",
        "            stop_condition = True\n",
        "\n",
        "        # 길이가 1인 타겟 시퀀스를 업데이트\n",
        "        target_seq = np.zeros((1,1))\n",
        "        target_seq[0, 0] = sampled_token_index\n",
        "\n",
        "        # 상태를 업데이트 합니다.\n",
        "        e_h, e_c = h, c\n",
        "\n",
        "    return decoded_sentence"
      ]
    },
    {
      "cell_type": "code",
      "execution_count": 49,
      "metadata": {
        "id": "q9dgcGk5GMwv"
      },
      "outputs": [],
      "source": [
        "# 원문의 정수 시퀀스를 텍스트 시퀀스로 변환\n",
        "def seq2text(input_seq):\n",
        "    temp=''\n",
        "    for i in input_seq:\n",
        "        if (i!=0):\n",
        "            temp = temp + src_index_to_word[i]+' '\n",
        "    return temp\n",
        "\n",
        "# 요약문의 정수 시퀀스를 텍스트 시퀀스로 변환\n",
        "def seq2summary(input_seq):\n",
        "    temp=''\n",
        "    for i in input_seq:\n",
        "        if ((i!=0 and i!=tar_word_to_index['sostoken']) and i!=tar_word_to_index['eostoken']):\n",
        "            temp = temp + tar_index_to_word[i] + ' '\n",
        "    return temp"
      ]
    },
    {
      "cell_type": "code",
      "execution_count": 50,
      "metadata": {
        "id": "UHOTq3EeGOXp",
        "colab": {
          "base_uri": "https://localhost:8080/"
        },
        "outputId": "329eb0a2-38ec-4a46-b08b-f286eb2b3f22"
      },
      "outputs": [
        {
          "output_type": "stream",
          "name": "stdout",
          "text": [
            "원문 : saudi arabia kicked first ever arab fashion week hotel capital city riyadh event hosts invitation fashion allow outside cameras film inside event halls fashion week events open women line saudi cultural norms \n",
            "실제 요약 : saudi arabia hosts its first ever fashion week \n",
            "예측 요약 :  saudi arabia to be renamed as saudi arabia\n",
            "\n",
            "\n",
            "원문 : speaking accommodation facilities asian games village indonesia athlete indian contingent said rooms smaller side three beds single bathroom always nice indian food option indian athlete said availability indian food event \n",
            "실제 요약 : indian athlete complains about small rooms at asian games \n",
            "예측 요약 :  indian athlete to cwg medal medallist\n",
            "\n",
            "\n",
            "원문 : central bureau investigation tuesday gave clean chit madhya pradesh chief minister shivraj singh chouhan filed chargesheet accused vyapam scam case vyapam scam related irregularities selection process government colleges jobs conducted mp mandal \n",
            "실제 요약 : cbi clears mp cm chouhan in vyapam scam case \n",
            "예측 요약 :  cbi files fir against pm modi over corruption scam\n",
            "\n",
            "\n",
            "원문 : us imposed preliminary anti dumping duties metal pipes imported india china canada three countries india slapped anti dumping duty china face duties million india country list greater exports pipe us last year canada \n",
            "실제 요약 : us imposes anti dumping duty on metal made in india \n",
            "예측 요약 :  us imposes bn from nuclear sea in us\n",
            "\n",
            "\n",
            "원문 : australian cricket team captain steve smith tie knot fianc dani willis september year couple confirmed news conclusion allan border medal ceremony melbourne smith willis got engaged july last year smith proposed top rockefeller centre new york \n",
            "실제 요약 : aussie captain smith to marry fianc in september \n",
            "예측 요약 :  smith to marry girlfriend in australia reports\n",
            "\n",
            "\n",
            "원문 : asking bjp declare date construction ram mandir shiv sena said power proud shiv destroyed babur raj ram janmabhoomi asked power scared jealous shiv babri masjid built ayodhya orders mughal emperor babur \n",
            "실제 요약 : be proud of those who destroyed raj in ram sena \n",
            "예측 요약 :  ram mandir will be built in ayodhya shiv sena\n",
            "\n",
            "\n",
            "원문 : colombia producing cocaine ever according new figures revealed un office drugs crime country produced estimated tonnes cocaine compared tonnes coca crops raw material used cocaine covered hectares \n",
            "실제 요약 : colombia cocaine production reaches record high \n",
            "예측 요약 :  india oldest underwater in years since\n",
            "\n",
            "\n",
            "원문 : picture man shashi tharoor marry poster delhi pride parade surfaced online congress leader tweeted registered vote thiruvananthapuram would even better reacting tharoor post user tweeted need blessings actually marries \n",
            "실제 요약 : tharoor responds to marry me poster at delhi pride parade \n",
            "예측 요약 :  priyanka chopra says she was not to be held for her\n",
            "\n",
            "\n",
            "원문 : sanghvi known producing films like partner attacks summoned thane police connection ipl betting case comes actor producer arbaaz khan confessed betting ipl days arrest dawood ibrahim linked bookie sonu jalan arbaaz admitted placing bets \n",
            "실제 요약 : after arbaaz partner producer summoned for ipl betting \n",
            "예측 요약 :  ipl betting maker on dubai arrest over csk arrest\n",
            "\n",
            "\n",
            "원문 : student university manchester discovered slowest spinning pulsar star located light years away earth every seconds fastest spinning pulsar known science present every slowest spinning pulsar known rotation period seconds \n",
            "실제 요약 : student finds slowest once every secs \n",
            "예측 요약 :  oldest known known known fossil of universe\n",
            "\n",
            "\n",
            "원문 : cab aggregator uber hiring first female drivers saudi arabia ahead lifting driving ban women company said uber also unveiled plans open one stop shop facilities recruitment saudi public transport authority spokesperson said female drivers would rules regulations male counterparts \n",
            "실제 요약 : uber hiring female drivers in saudi arabia ahead of ban lift \n",
            "예측 요약 :  uber to let users use of uber for women safety\n",
            "\n",
            "\n",
            "원문 : congress president rahul gandhi friday suggested three topics pm narendra modi monthly radio address mann ki baat pm invited people ideas segment twitter rahul asked pm modi talk plans get youth jobs get chinese stop rapes haryana \n",
            "실제 요약 : rahul gandhi suggests pm modi for mann ki baat \n",
            "예측 요약 :  pm modi is not to make people rahul gandhi\n",
            "\n",
            "\n",
            "원문 : year old boy ireland accidentally mother bank account playing fifa mother said debit card registered used purchase game son later made game purchases without realising money deducted account meanwhile sony refused reimburse amount \n",
            "실제 요약 : year old mother bank account while playing fifa \n",
            "예측 요약 :  year old fan returns to buy mom for money\n",
            "\n",
            "\n",
            "원문 : election commission trends revealed bjp leading karnataka elections shiv sena chief uddhav thackeray said one time want bjp head elections ballot papers evms polling booth constituency cancelled evm malfunctioning congress leader brijesh alleged evms registered votes bjp \n",
            "실제 요약 : want bjp to contest elections with ballot papers sena chief \n",
            "예측 요약 :  shiv sena calls for polls in lok sabha\n",
            "\n",
            "\n",
            "원문 : external affairs minister sushma swaraj saturday called upon united nations pass comprehensive convention international terrorism end pakistan sponsored terrorism proposed india aims arrive universal definition terrorism ban terror groups prosecute terrorists special laws make cross border terrorism offence \n",
            "실제 요약 : india calls on un to pass global anti terror \n",
            "예측 요약 :  pakistan rejects pakistan request to declare terror terrorist\n",
            "\n",
            "\n",
            "원문 : police department alabama us said crimes risen young people turned away god embraced satan statement written department facebook page followed two murders county two days added five murders occurred post removed page following backlash \n",
            "실제 요약 : us police blames rising crime on people rejecting god \n",
            "예측 요약 :  people who had no right to kill people in yrs ago\n",
            "\n",
            "\n",
            "원문 : dmk working president mk stalin forcibly removed police protest outside cm palaniswami office police firing anti sterlite protestors protest continue cm edappadi palaniswami dgp resign said later case filed stalin kamal haasan political leaders violating section tuticorin \n",
            "실제 요약 : stalin removed during sterlite protest outside cm office \n",
            "예측 요약 :  dmk chief stalin threatens to protest against vhp over beef\n",
            "\n",
            "\n",
            "원문 : punjab haryana high court said procedure court marriage must reflect mindset changed times secular nation promoting inter religion marriages court said ruling interfaith marriage case hindu muslim couple added haryana government court marriage check list largely violates couple right privacy \n",
            "실제 요약 : change do not interfaith marriage hc \n",
            "예측 요약 :  cannot be to live in jail if she is hc on\n",
            "\n",
            "\n",
            "원문 : election commission appointed surveillance committees seized items worth crore karnataka ahead assembly elections scheduled may includes cash worth crore five lakh litres liquor costing around crore seized items include pressure machines gutkha vehicles laptops \n",
            "실제 요약 : items worth crore seized in karnataka ahead of polls \n",
            "예측 요약 :  cr worth cr seized from taka poll scam\n",
            "\n",
            "\n",
            "원문 : pieces hockey artificial known used village rajasthan lying year cleared ground german hockey player lay train children however cut player left following protests locals \n",
            "실제 요약 : hockey in rajasthan cut up being used as \n",
            "예측 요약 :  women once once awarded for st time in years\n",
            "\n",
            "\n",
            "원문 : jharkhand government directed government private doctors ensure written clear capital letters directives based notification medical council india violation directives would lead warning first time suspension certain period second cancellation registration third \n",
            "실제 요약 : write in capital letters khand warns doctors \n",
            "예측 요약 :  up to give up to acquire doctors for\n",
            "\n",
            "\n",
            "원문 : indian army bomb disposal team successfully extracted destroyed unexploded bombs buried underground past years bombs destroyed small batches controlled explosions near banks river uttarakhand team started task october successfully completed october \n",
            "실제 요약 : army bombs buried underground for past yrs \n",
            "예측 요약 :  indian army to be held in nepal for days\n",
            "\n",
            "\n",
            "원문 : according report guardian several female employees tesla complained sexual harassment male managers unfair promotion decisions recent town hall meeting one woman described tesla factory predator zone harassment june tesla fired female engineer accused automaker ignoring complaints sexual harassment \n",
            "실제 요약 : several female tesla employees claim harassment at workplace \n",
            "예측 요약 :  air india fires staff who harassed him over harassment harassment\n",
            "\n",
            "\n",
            "원문 : tata group chairman chandrasekaran said group spent crore tata companies consolidate cross holdings acquire strategic assets infuse much needed capital year end message lakh employees chandrasekaran said bring number challenges asked employees conglomerate focus control \n",
            "실제 요약 : tata group spent cr on in \n",
            "예측 요약 :  tata sons to sell stake in tata steel for cr\n",
            "\n",
            "\n",
            "원문 : blaming ruling cpi killings bjp rss workers kerala bjp president amit shah said life taken bullet bodies workers chopped pieces fear alleged people linked party killed since came power \n",
            "실제 요약 : bodies of kerala bjp workers chopped to fear shah \n",
            "예측 요약 :  bjp workers die in encounter in jammu and kashmir\n",
            "\n",
            "\n",
            "원문 : nitin seth former chief operating officer homegrown commerce startup flipkart joined us based technology services firm previously served fidelity international managing director country head india seth follow co founder take ceo role said blog post \n",
            "실제 요약 : former flipkart coo nitin joins as its ceo \n",
            "예측 요약 :  flipkart founders quit ex flipkart exec for startup\n",
            "\n",
            "\n",
            "원문 : wife aligarh muslim university professor alleged given triple talaq husband whatsapp text message woman threatened commit suicide kill children justice delivered december however accused claimed sharia norms giving talaq \n",
            "실제 요약 : given triple talaq on whatsapp amu professor wife \n",
            "예측 요약 :  will not be given to kill self on husband death case\n",
            "\n",
            "\n",
            "원문 : union home minister rajnath singh appealed states sharing border bangladesh vigilant influx rohingyas india bangladesh border discussed rohingya issue also appealed states vigilant issue said high level meeting chief ministers states bangladesh \n",
            "실제 요약 : be against rohingya home minister to states \n",
            "예측 요약 :  rajnath singh urges rohingyas to rohingyas in india rajnath\n",
            "\n",
            "\n",
            "원문 : india manufacturing purchasing managers index slowed july lowest level since february introduction new goods services tax pulled manufacturing index temporarily stood june reading indicates expansion economic activity contraction \n",
            "실제 요약 : manufacturing hits year low in july due to gst \n",
            "예측 요약 :  india retail inflation rises to month high in august\n",
            "\n",
            "\n",
            "원문 : four people killed least seven people injured fire broke second floor residential building mumbai andheri east wednesday night fire broke brought control three hours fourteen people killed fire kamala mills compound last week \n",
            "실제 요약 : killed injured in fire at mumbai east \n",
            "예측 요약 :  killed injured in fire at mumbai firecracker\n",
            "\n",
            "\n",
            "원문 : fugitive indian businessman vijay mallya formula one team sahara force india put administration financial concerns related money owed team team continue prepare sunday hungarian grand prix last race august break notably team owes million engine provider mercedes \n",
            "실제 요약 : vijay mallya debt team put into administration \n",
            "예측 요약 :  mallya to make mallya salary to return to india\n",
            "\n",
            "\n",
            "원문 : supreme court monday said national capital region firecrackers indian army informed lakh kg firecrackers around ncr burn whole country sc said government earlier directed suspend licences permitting sale fireworks within ncr till orders \n",
            "실제 요약 : more firecrackers in national capital region than army sc \n",
            "예측 요약 :  sc slams arunachal for denying entry to curb pollution\n",
            "\n",
            "\n",
            "원문 : amid severe financial constraints punjab chief minister captain amarinder singh suggested mlas state pay income tax currently borne state move may help state save crore annually reports said notably mlas crorepatis according report association democratic reforms \n",
            "실제 요약 : punjab govt to make mlas pay their own income tax \n",
            "예측 요약 :  punjab cm seeks cr income tax on tax demand\n",
            "\n",
            "\n",
            "원문 : chinese telecommunications equipment company huawei unveiled new smartphone mate pro comes technology wirelessly charge smartphones including different brands wireless reverse charging feature begins working activated phone settings phone needs charged placed rear huawei phone \n",
            "실제 요약 : huawei new phone mate pro can charge other phones \n",
            "예측 요약 :  china unveils its own phone with phone\n",
            "\n",
            "\n",
            "원문 : sunny leone born kaur vohra speaking biopic kaur untold story sunny leone said everyone get see real sunny leone brand created people see onscreen added biopic focus sunny became adult movie star \n",
            "실제 요약 : kaur is real me sunny leone just brand sunny \n",
            "예측 요약 :  sunny leone was the first ever game of thrones film sunny\n",
            "\n",
            "\n",
            "원문 : international team led swiss astronomers found exoplanet like comet follows orbit passing almost poles star instead plane planet enormous tidal forces incredibly close star earth sun distance said researchers \n",
            "실제 요약 : study finds comet like planet orbiting the of its star \n",
            "예측 요약 :  astronomers find star in the first time ever\n",
            "\n",
            "\n",
            "원문 : veteran actress born nargis passed away age due prolonged illness appeared films including hum burning train also worked many television shows like bhai kabhi yeh kabhi woh \n",
            "실제 요약 : veteran actress passes away at \n",
            "예측 요약 :  actress passes away at the age of\n",
            "\n",
            "\n",
            "원문 : actor filmmaker kamal haasan friday said would join hands actor rajinikanth decides enter politics comes reportedly claimed thinking form political party however haasan earlier said rajinikanth join politics actor filmmaker would enter politics \n",
            "실제 요약 : will join hands with rajini if he enters politics haasan \n",
            "예측 요약 :  kamal haasan needs to join politics politics\n",
            "\n",
            "\n",
            "원문 : journalist arnab goswami hinted karan johar behind exit times johar said feel important know power know could ask anyone leave room johar added earlier goswami said film director complained media questions raised johar film \n",
            "실제 요약 : did not know had power to do that johar on arnab exit \n",
            "예측 요약 :  pooja has no to arnab goswami from his metoo\n",
            "\n",
            "\n",
            "원문 : north delhi municipal corporation proposed rename ramlila maidan late pm atal bihari vajpayee ndmc officials said renaming likely completed vajpayee birthday december ramlila maidan site various political rallies years including anti corruption protests jp narayan led rally indira gandhi \n",
            "실제 요약 : delhi body proposes to rename after vajpayee \n",
            "예측 요약 :  delhi govt orders late pm vajpayee to vajpayee\n",
            "\n",
            "\n",
            "원문 : priyanka chopra asking people body shame women said fitness standard women always even even look like magazine models wrong standard beauty added priyanka said beauty best version healthy \n",
            "실제 요약 : stop body shaming women even am not priyanka \n",
            "예측 요약 :  women are women in women priyanka\n",
            "\n",
            "\n",
            "원문 : actress kajol said would love hollywood film particular genre mind depends whether script appeals actress added said would ask questions would hindi film choosing project \n",
            "실제 요약 : would love to do hollywood film kajol \n",
            "예측 요약 :  kajol has been my film on my film kajol\n",
            "\n",
            "\n",
            "원문 : tennis elbow painful condition elbow caused tennis elbow known medical terms occurs repetitive stress causes small tears connects muscles bone known tennis elbow condition common among racquet sports players \n",
            "실제 요약 : what is tennis which sachin was diagnosed with \n",
            "예측 요약 :  roger federer has won the wimbledon\n",
            "\n",
            "\n",
            "원문 : year old woman lives village called andhra pradesh youtube food channel lakh subscribers regarded world oldest youtuber shares channel country foods videos usually shared great grandson show cooking watermelon chicken eggs kfc chicken among dishes \n",
            "실제 요약 : yr old has youtube channel with subscribers \n",
            "예측 요약 :  andhra woman donates crore to sell mobile products\n",
            "\n",
            "\n",
            "원문 : union minister maneka gandhi responded online petition demanding study male child sexual abuse formed panel come solution issue child sexual abuse gender neutral boys sexually abused children spend lifetime silence attached male survivors speaking said \n",
            "실제 요약 : centre forms panel to study male child sexual abuse \n",
            "예측 요약 :  maneka gandhi to be forced to sexual harassment\n",
            "\n",
            "\n",
            "원문 : three men northern pakistan found still speak language believed active known speakers three generations according report language reportedly widely spoken pakistan khyber pakhtunkhwa province died years locals started prefer regional languages \n",
            "실제 요약 : only three men in the world found to speak language \n",
            "예측 요약 :  pakistan gets its own official after years\n",
            "\n",
            "\n",
            "원문 : late actress sridevi body wrapped tricolour funeral held wednesday afternoon cremated state honours gun salute vile seva samaj crematorium hindu cemetery sridevi passed away saturday night accidentally drowned bathtub hotel room dubai \n",
            "실제 요약 : sridevi body wrapped in tricolour during funeral \n",
            "예측 요약 :  actress funeral for sridevi funeral at funeral\n",
            "\n",
            "\n",
            "원문 : bjp monday released second list containing names candidates upcoming karnataka assembly elections reddy brother illegal mining case accused reddy contest party ticket bellary city constituency party announced candidates total seats constituencies state \n",
            "실제 요약 : bjp releases second list of candidates for taka polls \n",
            "예측 요약 :  bjp releases list of candidates for candidates for bjp\n",
            "\n",
            "\n",
            "원문 : us state department tuesday said country paying north korean officials stay singapore next week summit president donald trump north korean leader kim jong un earlier nobel prize winning nuclear disarmament group offered pay cost summit calling generation opportunity \n",
            "실제 요약 : not paying for korean officials stay in singapore us \n",
            "예측 요약 :  us announces un meet for korea korea after korea\n",
            "\n",
            "\n",
            "원문 : responding pil asking law holds men responsible adultery supreme court friday said provision based societal adding treats wife victim apex court said offence committed one liable criminal offence \n",
            "실제 요약 : sc responds to plea asking why adultery offence for men only \n",
            "예측 요약 :  cannot judge if you can be given to work with sc\n",
            "\n",
            "\n"
          ]
        }
      ],
      "source": [
        "for i in range(50, 100):\n",
        "    print(\"원문 :\", seq2text(encoder_input_test[i]))\n",
        "    print(\"실제 요약 :\", seq2summary(decoder_input_test[i]))\n",
        "    print(\"예측 요약 :\", decode_sequence(encoder_input_test[i].reshape(1, text_max_len)))\n",
        "    print(\"\\n\")"
      ]
    },
    {
      "cell_type": "markdown",
      "source": [
        "실제와 요약문의 차이도 어느 정도 보이고, 실제 요약과 추상적 요약의 차이도 심하게 나타난다."
      ],
      "metadata": {
        "id": "K5zCQ2n6Dx7h"
      }
    },
    {
      "cell_type": "markdown",
      "source": [
        "# Summa을 이용해서 추출적 요약해보기"
      ],
      "metadata": {
        "id": "9I-UWG7PDpHe"
      }
    },
    {
      "cell_type": "code",
      "source": [
        "import requests\n",
        "import urllib\n",
        "import urllib.request\n",
        "from summa.summarizer import summarize"
      ],
      "metadata": {
        "id": "-aO1SXDFp9cD"
      },
      "execution_count": 51,
      "outputs": []
    },
    {
      "cell_type": "code",
      "source": [
        "urllib.request.urlretrieve(\"https://raw.githubusercontent.com/sunnysai12345/News_Summary/master/news_summary_more.csv\", filename=\"news_summary_more.csv\")\n",
        "df = pd.read_csv('news_summary_more.csv', encoding='iso-8859-1')"
      ],
      "metadata": {
        "id": "p12fzIfVqAYB"
      },
      "execution_count": 52,
      "outputs": []
    },
    {
      "cell_type": "code",
      "source": [
        "df.head()"
      ],
      "metadata": {
        "colab": {
          "base_uri": "https://localhost:8080/",
          "height": 206
        },
        "id": "BOl-sB4fqNNx",
        "outputId": "dcaab810-f5a1-4617-f163-a37cd6dfecc2"
      },
      "execution_count": 53,
      "outputs": [
        {
          "output_type": "execute_result",
          "data": {
            "text/plain": [
              "                                           headlines  \\\n",
              "0  upGrad learner switches to career in ML & Al w...   \n",
              "1  Delhi techie wins free food from Swiggy for on...   \n",
              "2  New Zealand end Rohit Sharma-led India's 12-ma...   \n",
              "3  Aegon life iTerm insurance plan helps customer...   \n",
              "4  Have known Hirani for yrs, what if MeToo claim...   \n",
              "\n",
              "                                                text  \n",
              "0  Saurav Kant, an alumnus of upGrad and IIIT-B's...  \n",
              "1  Kunal Shah's credit card bill payment platform...  \n",
              "2  New Zealand defeated India by 8 wickets in the...  \n",
              "3  With Aegon Life iTerm Insurance plan, customer...  \n",
              "4  Speaking about the sexual harassment allegatio...  "
            ],
            "text/html": [
              "\n",
              "  <div id=\"df-aa18b0bf-3cb1-4945-8c8f-1c69c3c8c15a\">\n",
              "    <div class=\"colab-df-container\">\n",
              "      <div>\n",
              "<style scoped>\n",
              "    .dataframe tbody tr th:only-of-type {\n",
              "        vertical-align: middle;\n",
              "    }\n",
              "\n",
              "    .dataframe tbody tr th {\n",
              "        vertical-align: top;\n",
              "    }\n",
              "\n",
              "    .dataframe thead th {\n",
              "        text-align: right;\n",
              "    }\n",
              "</style>\n",
              "<table border=\"1\" class=\"dataframe\">\n",
              "  <thead>\n",
              "    <tr style=\"text-align: right;\">\n",
              "      <th></th>\n",
              "      <th>headlines</th>\n",
              "      <th>text</th>\n",
              "    </tr>\n",
              "  </thead>\n",
              "  <tbody>\n",
              "    <tr>\n",
              "      <th>0</th>\n",
              "      <td>upGrad learner switches to career in ML &amp; Al w...</td>\n",
              "      <td>Saurav Kant, an alumnus of upGrad and IIIT-B's...</td>\n",
              "    </tr>\n",
              "    <tr>\n",
              "      <th>1</th>\n",
              "      <td>Delhi techie wins free food from Swiggy for on...</td>\n",
              "      <td>Kunal Shah's credit card bill payment platform...</td>\n",
              "    </tr>\n",
              "    <tr>\n",
              "      <th>2</th>\n",
              "      <td>New Zealand end Rohit Sharma-led India's 12-ma...</td>\n",
              "      <td>New Zealand defeated India by 8 wickets in the...</td>\n",
              "    </tr>\n",
              "    <tr>\n",
              "      <th>3</th>\n",
              "      <td>Aegon life iTerm insurance plan helps customer...</td>\n",
              "      <td>With Aegon Life iTerm Insurance plan, customer...</td>\n",
              "    </tr>\n",
              "    <tr>\n",
              "      <th>4</th>\n",
              "      <td>Have known Hirani for yrs, what if MeToo claim...</td>\n",
              "      <td>Speaking about the sexual harassment allegatio...</td>\n",
              "    </tr>\n",
              "  </tbody>\n",
              "</table>\n",
              "</div>\n",
              "      <button class=\"colab-df-convert\" onclick=\"convertToInteractive('df-aa18b0bf-3cb1-4945-8c8f-1c69c3c8c15a')\"\n",
              "              title=\"Convert this dataframe to an interactive table.\"\n",
              "              style=\"display:none;\">\n",
              "        \n",
              "  <svg xmlns=\"http://www.w3.org/2000/svg\" height=\"24px\"viewBox=\"0 0 24 24\"\n",
              "       width=\"24px\">\n",
              "    <path d=\"M0 0h24v24H0V0z\" fill=\"none\"/>\n",
              "    <path d=\"M18.56 5.44l.94 2.06.94-2.06 2.06-.94-2.06-.94-.94-2.06-.94 2.06-2.06.94zm-11 1L8.5 8.5l.94-2.06 2.06-.94-2.06-.94L8.5 2.5l-.94 2.06-2.06.94zm10 10l.94 2.06.94-2.06 2.06-.94-2.06-.94-.94-2.06-.94 2.06-2.06.94z\"/><path d=\"M17.41 7.96l-1.37-1.37c-.4-.4-.92-.59-1.43-.59-.52 0-1.04.2-1.43.59L10.3 9.45l-7.72 7.72c-.78.78-.78 2.05 0 2.83L4 21.41c.39.39.9.59 1.41.59.51 0 1.02-.2 1.41-.59l7.78-7.78 2.81-2.81c.8-.78.8-2.07 0-2.86zM5.41 20L4 18.59l7.72-7.72 1.47 1.35L5.41 20z\"/>\n",
              "  </svg>\n",
              "      </button>\n",
              "      \n",
              "  <style>\n",
              "    .colab-df-container {\n",
              "      display:flex;\n",
              "      flex-wrap:wrap;\n",
              "      gap: 12px;\n",
              "    }\n",
              "\n",
              "    .colab-df-convert {\n",
              "      background-color: #E8F0FE;\n",
              "      border: none;\n",
              "      border-radius: 50%;\n",
              "      cursor: pointer;\n",
              "      display: none;\n",
              "      fill: #1967D2;\n",
              "      height: 32px;\n",
              "      padding: 0 0 0 0;\n",
              "      width: 32px;\n",
              "    }\n",
              "\n",
              "    .colab-df-convert:hover {\n",
              "      background-color: #E2EBFA;\n",
              "      box-shadow: 0px 1px 2px rgba(60, 64, 67, 0.3), 0px 1px 3px 1px rgba(60, 64, 67, 0.15);\n",
              "      fill: #174EA6;\n",
              "    }\n",
              "\n",
              "    [theme=dark] .colab-df-convert {\n",
              "      background-color: #3B4455;\n",
              "      fill: #D2E3FC;\n",
              "    }\n",
              "\n",
              "    [theme=dark] .colab-df-convert:hover {\n",
              "      background-color: #434B5C;\n",
              "      box-shadow: 0px 1px 3px 1px rgba(0, 0, 0, 0.15);\n",
              "      filter: drop-shadow(0px 1px 2px rgba(0, 0, 0, 0.3));\n",
              "      fill: #FFFFFF;\n",
              "    }\n",
              "  </style>\n",
              "\n",
              "      <script>\n",
              "        const buttonEl =\n",
              "          document.querySelector('#df-aa18b0bf-3cb1-4945-8c8f-1c69c3c8c15a button.colab-df-convert');\n",
              "        buttonEl.style.display =\n",
              "          google.colab.kernel.accessAllowed ? 'block' : 'none';\n",
              "\n",
              "        async function convertToInteractive(key) {\n",
              "          const element = document.querySelector('#df-aa18b0bf-3cb1-4945-8c8f-1c69c3c8c15a');\n",
              "          const dataTable =\n",
              "            await google.colab.kernel.invokeFunction('convertToInteractive',\n",
              "                                                     [key], {});\n",
              "          if (!dataTable) return;\n",
              "\n",
              "          const docLinkHtml = 'Like what you see? Visit the ' +\n",
              "            '<a target=\"_blank\" href=https://colab.research.google.com/notebooks/data_table.ipynb>data table notebook</a>'\n",
              "            + ' to learn more about interactive tables.';\n",
              "          element.innerHTML = '';\n",
              "          dataTable['output_type'] = 'display_data';\n",
              "          await google.colab.output.renderOutput(dataTable, element);\n",
              "          const docLink = document.createElement('div');\n",
              "          docLink.innerHTML = docLinkHtml;\n",
              "          element.appendChild(docLink);\n",
              "        }\n",
              "      </script>\n",
              "    </div>\n",
              "  </div>\n",
              "  "
            ]
          },
          "metadata": {},
          "execution_count": 53
        }
      ]
    },
    {
      "cell_type": "code",
      "source": [
        "for idx, (head, text) in enumerate(zip(df['headlines'], df['text'])):\n",
        "    if idx == 50:\n",
        "        break\n",
        "    print(\"원문 :\", text)\n",
        "    print(\"실제 요약 :\", head)\n",
        "    print(\"추출적 요약 :\", summarize(text, ratio=0.40))\n",
        "    print(\"\\n\")"
      ],
      "metadata": {
        "colab": {
          "base_uri": "https://localhost:8080/"
        },
        "id": "s4NKXey8qRLe",
        "outputId": "cb6a51e9-0b31-4e83-bcb8-4ebc63bfd99d"
      },
      "execution_count": 54,
      "outputs": [
        {
          "output_type": "stream",
          "name": "stdout",
          "text": [
            "원문 : Saurav Kant, an alumnus of upGrad and IIIT-B's PG Program in Machine learning and Artificial Intelligence, was a Sr Systems Engineer at Infosys with almost 5 years of work experience. The program and upGrad's 360-degree career support helped him transition to a Data Scientist at Tech Mahindra with 90% salary hike. upGrad's Online Power Learning has powered 3 lakh+ careers.\n",
            "실제 요약 : upGrad learner switches to career in ML & Al with 90% salary hike\n",
            "추출적 요약 : upGrad's Online Power Learning has powered 3 lakh+ careers.\n",
            "\n",
            "\n",
            "원문 : Kunal Shah's credit card bill payment platform, CRED, gave users a chance to win free food from Swiggy for one year. Pranav Kaushik, a Delhi techie, bagged this reward after spending 2000 CRED coins. Users get one CRED coin per rupee of bill paid, which can be used to avail rewards from brands like Ixigo, BookMyShow, UberEats, Cult.Fit and more.\n",
            "실제 요약 : Delhi techie wins free food from Swiggy for one year on CRED\n",
            "추출적 요약 : Users get one CRED coin per rupee of bill paid, which can be used to avail rewards from brands like Ixigo, BookMyShow, UberEats, Cult.Fit and more.\n",
            "\n",
            "\n",
            "원문 : New Zealand defeated India by 8 wickets in the fourth ODI at Hamilton on Thursday to win their first match of the five-match ODI series. India lost an international match under Rohit Sharma's captaincy after 12 consecutive victories dating back to March 2018. The match witnessed India getting all out for 92, their seventh lowest total in ODI cricket history.\n",
            "실제 요약 : New Zealand end Rohit Sharma-led India's 12-match winning streak\n",
            "추출적 요약 : The match witnessed India getting all out for 92, their seventh lowest total in ODI cricket history.\n",
            "\n",
            "\n",
            "원문 : With Aegon Life iTerm Insurance plan, customers can enjoy tax benefits on your premiums paid and save up to Ã¢ÂÂ¹46,800^ on taxes. The plan provides life cover up to the age of 100 years. Also, customers have options to insure against Critical Illnesses, Disability and Accidental Death Benefit Rider with a life cover up to the age of 80 years.\n",
            "실제 요약 : Aegon life iTerm insurance plan helps customers save tax\n",
            "추출적 요약 : Also, customers have options to insure against Critical Illnesses, Disability and Accidental Death Benefit Rider with a life cover up to the age of 80 years.\n",
            "\n",
            "\n",
            "원문 : Speaking about the sexual harassment allegations against Rajkumar Hirani, Sonam Kapoor said, \"I've known Hirani for many years...What if it's not true, the [#MeToo] movement will get derailed.\" \"In the #MeToo movement, I always believe a woman. But in this case, we need to reserve our judgment,\" she added. Hirani has been accused by an assistant who worked in 'Sanju'.\n",
            "실제 요약 : Have known Hirani for yrs, what if MeToo claims are not true: Sonam\n",
            "추출적 요약 : Speaking about the sexual harassment allegations against Rajkumar Hirani, Sonam Kapoor said, \"I've known Hirani for many years...What if it's not true, the [#MeToo] movement will get derailed.\" \"In the #MeToo movement, I always believe a woman.\n",
            "\n",
            "\n",
            "원문 : Pakistani singer Rahat Fateh Ali Khan has denied receiving any notice from the Enforcement Directorate over allegedly smuggling foreign currency out of India. \"It would have been better if the authorities would have served the notice first if any and then publicised this,\" reads a press release issued on behalf of Rahat. The statement further called the allegation \"bizarre\".\n",
            "실제 요약 : Rahat Fateh Ali Khan denies getting notice for smuggling currency\n",
            "추출적 요약 : Pakistani singer Rahat Fateh Ali Khan has denied receiving any notice from the Enforcement Directorate over allegedly smuggling foreign currency out of India.\n",
            "\n",
            "\n",
            "원문 : India recorded their lowest ODI total in New Zealand after getting all out for 92 runs in 30.5 overs in the fourth ODI at Hamilton on Thursday. Seven of India's batsmen were dismissed for single-digit scores, while their number ten batsman Yuzvendra Chahal top-scored with 18*(37). India's previous lowest ODI total in New Zealand was 108.\n",
            "실제 요약 : India get all out for 92, their lowest ODI total in New Zealand\n",
            "추출적 요약 : India's previous lowest ODI total in New Zealand was 108.\n",
            "\n",
            "\n",
            "원문 : Weeks after ex-CBI Director Alok Verma told the Department of Personnel and Training to consider him retired, the Home Ministry asked him to join work on the last day of his fixed tenure as Director on Thursday. The ministry directed him to immediately join as DG, Fire Services, the post he was transferred to after his removal as CBI chief.\n",
            "실제 요약 : Govt directs Alok Verma to join work 1 day before his retirement\n",
            "추출적 요약 : \n",
            "\n",
            "\n",
            "원문 : Andhra Pradesh CM N Chandrababu Naidu has said, \"When I met then US President Bill Clinton, I addressed him as Mr Clinton, not as 'sir'. (PM Narendra) Modi is my junior in politics...I addressed him as sir 10 times.\" \"I did this...to satisfy his ego in the hope that he will do justice to the state,\" he added.\n",
            "실제 요약 : Called PM Modi 'sir' 10 times to satisfy his ego: Andhra CM\n",
            "추출적 요약 : \n",
            "\n",
            "\n",
            "원문 : Congress candidate Shafia Zubair won the Ramgarh Assembly seat in Rajasthan, by defeating BJP's Sukhwant Singh with a margin of 12,228 votes in the bypoll. With this victory, Congress has taken its total to 100 seats in the 200-member assembly. The election to the Ramgarh seat was delayed due to the death of sitting MLA and BSP candidate Laxman Singh.\n",
            "실제 요약 : Cong wins Ramgarh bypoll in Rajasthan, takes total to 100 seats\n",
            "추출적 요약 : Congress candidate Shafia Zubair won the Ramgarh Assembly seat in Rajasthan, by defeating BJP's Sukhwant Singh with a margin of 12,228 votes in the bypoll.\n",
            "\n",
            "\n",
            "원문 : Two minor cousins in Uttar Pradesh's Gorakhpur were allegedly repeatedly burnt with tongs and forced to eat human excreta by their family for being friends with two boys from the same school. The cousins revealed their ordeal to the police and Child Welfare Committee after being brought back to Gorakhpur from Nepal, where they had fled to escape the torture.\n",
            "실제 요약 : UP cousins fed human excreta for friendship with boys\n",
            "추출적 요약 : \n",
            "\n",
            "\n",
            "원문 : Isha Ghosh, an 81-year-old member of Bharat Scouts and Guides (BSG), has been imparting physical and mental training to schoolchildren in Jharkhand for several decades. Chaibasa-based Ghosh reportedly walks seven kilometres daily and spends eight hours conducting physical training, apart from climbing and yoga sessions. She says, \"One should do something for society till one's last breath.\"\n",
            "실제 요약 : 81-yr-old woman conducts physical training in J'khand schools\n",
            "추출적 요약 : Isha Ghosh, an 81-year-old member of Bharat Scouts and Guides (BSG), has been imparting physical and mental training to schoolchildren in Jharkhand for several decades.\n",
            "\n",
            "\n",
            "원문 : Urging saints and seers at the Kumbh Mela to quit smoking, Yoga guru Ramdev said, \"We follow Ram and Krishna who never smoked in their life then why should we?\" Making them take a pledge to quit tobacco, he collected chillum (clay pipe) from several sadhus. He said he will deposit the chillums for display at a museum he'll build.\n",
            "실제 요약 : Ram, Krishna didn't smoke, why should we: Ramdev to sadhus at Kumbh\n",
            "추출적 요약 : \n",
            "\n",
            "\n",
            "원문 : Former stripper and regional sales director of a pharmaceutical company, Sunrise Lee, gave a doctor a lap dance in a nightclub to persuade him to prescribe an addictive fentanyl spray in 2012, the company's sales representative told a US court. She said she saw Lee \"sitting on [doctor's] lap, kind of bouncing around.\" Lee has been accused of bribing doctors.\n",
            "실제 요약 : Pharma exec gave doctor a lap dance to sell medicine in US: Witness\n",
            "추출적 요약 : \n",
            "\n",
            "\n",
            "원문 : Reliance Industries' Chairman Mukesh Ambani's daughter Isha Ambani, who got married last month, said she only cried at her 'bidaai' because she felt peer pressure as everyone was crying, especially her parents. \"I was emotional too but everyone around me would cry all the time,\" she added. \"It was a very emotional affair for everyone in my family,\" said Isha.\n",
            "실제 요약 :  I only cried at my 'bidaai' as I felt peer pressure: Isha Ambani\n",
            "추출적 요약 : \"It was a very emotional affair for everyone in my family,\" said Isha.\n",
            "\n",
            "\n",
            "원문 : Louis Vuitton owner LVMH, which makes high-end beverages like MoÃÂ«t & Chandon champagne and Hennessy cognac, said it's stockpiling four months' worth of wine and spirits in UK in preparation for Brexit. \"We're ready for worst case scenario if there are difficulties with deliveries,\" the French luxury giant said. The UK is scheduled to leave the EU on March 29.\n",
            "실제 요약 : Louis Vuitton owner to stockpile 4 months of wine, spirits in UK\n",
            "추출적 요약 : Louis Vuitton owner LVMH, which makes high-end beverages like MoÃÂ«t & Chandon champagne and Hennessy cognac, said it's stockpiling four months' worth of wine and spirits in UK in preparation for Brexit.\n",
            "\n",
            "\n",
            "원문 : Filmmaker Karan Johar and actress Tabu turned showstoppers for Gaurav Gupta on the opening night of LakmÃÂ© Fashion Week Summer/ Resort 2019. While Johar wore a red sequinned jacket with black pants, Tabu walked the ramp in a grey embellished gown. The fashion show, which began on January 29, will continue till February 3.\n",
            "실제 요약 : Karan Johar, Tabu turn showstoppers on opening night of LFW\n",
            "추출적 요약 : Filmmaker Karan Johar and actress Tabu turned showstoppers for Gaurav Gupta on the opening night of LakmÃÂ© Fashion Week Summer/ Resort 2019.\n",
            "\n",
            "\n",
            "원문 : In a jibe at Congress President Rahul Gandhi, PM Narendra Modi on Wednesday said those on \"bail will have to go to jail.\" PM Modi added, \"He is out on bail and his associates too are facing charges...I know they will be convicted one day.\" The PM claimed he'd waged a war on corruption because he's from a common household. \n",
            "실제 요약 : Those on bail will go to jail: PM Modi takes jibe at Rahul\n",
            "추출적 요약 : \n",
            "\n",
            "\n",
            "원문 : Days after he threatened to step down from his post if Congress MLAs continue \"crossing the line,\" Karnataka Chief Minister HD Kumaraswamy accused them of taking potshots and asked, \"How many more days can I tolerate such stuff?\" Kumaraswamy, who made the statements after a Congress MLA demanded that Siddaramaiah be made CM again, said, \"Power is ephemeral.\"\n",
            "실제 요약 : How long can I tolerate Congress leaders' potshots: K'taka CM\n",
            "추출적 요약 : \n",
            "\n",
            "\n",
            "원문 : Union Minister Dharmendra Pradhan on Wednesday claimed the illegal mining mafia in Odisha operates under the control of CM Naveen Patnaik and state Congress chief Niranjan Patnaik. He added, \"The time has come for the people of Odisha to put a full stop to their activities...The time has come for us to ask for an explanation from this corrupt government.\"\n",
            "실제 요약 : Odisha CM Patnaik controls mining mafia: Union Minister\n",
            "추출적 요약 : \n",
            "\n",
            "\n",
            "원문 : Claiming there is a dearth of ideas among opposition parties, Prime Minister Narendra Modi on Wednesday said, \"The opposition talks only about Modi the whole day, I suspect they even dream about me.\" PM Modi, who was addressing the New India Youth Conclave inÃ¢ÂÂ Surat, added that the opposition parties have only one agenda which is \"Modi\". \n",
            "실제 요약 : I think the opposition even dreams about me: PM Modi\n",
            "추출적 요약 : \n",
            "\n",
            "\n",
            "원문 : The Indian Space Research Organisation on Wednesday unveiled Human Space Flight Centre in Bengaluru for its Ã¢ÂÂ¹10,000-crore manned space mission 'Gaganyaan' scheduled for 2021. ISRO said the centre will be responsible for development of engineering systems for crew survival in space and crew selection and training. It'll also pursue activities for sustained human space flight missions, ISRO added.\n",
            "실제 요약 : ISRO unveils Bengaluru centre for manned space mission \n",
            "추출적 요약 : It'll also pursue activities for sustained human space flight missions, ISRO added.\n",
            "\n",
            "\n",
            "원문 : At least 12 people have been killed and 170 others have been injured in Saudi Arabia this week due to flooding from heavy rain. The emergency services rescued 271 people from the flooded areas, more than half of them in Tabuk. Heavy rains hit mainly western and northwestern parts of Saudi Arabia, near its border with Jordan.\n",
            "실제 요약 : 12 killed, 170 injured in Saudi Arabia floods\n",
            "추출적 요약 : At least 12 people have been killed and 170 others have been injured in Saudi Arabia this week due to flooding from heavy rain.\n",
            "\n",
            "\n",
            "원문 : Reliance Industries' Chairman Mukesh Ambani's daughter Isha Ambani has featured on the cover of the February edition of Vogue India. She's dressed in a white shirt dress and black ruffled skirt by Australian designer Toni Maticevski, while accessorising her look with a Misho ring. In the cover story on her, Isha has spoken about her work and life after marriage.\n",
            " \n",
            "실제 요약 : Isha Ambani features on February cover of Vogue magazine\n",
            "추출적 요약 : Reliance Industries' Chairman Mukesh Ambani's daughter Isha Ambani has featured on the cover of the February edition of Vogue India.\n",
            "\n",
            "\n",
            "원문 : Indian Oil Corporation on Wednesday said it's looking for an annual deal to buy US crude as it seeks to broaden oil purchasing options. This comes amid uncertainties over Iran imports. The US had in November granted a six-month waiver to India from sanctions against Iran and restricted the country's monthly intake of Iranian oil to 3,00,000 barrels per day.\n",
            "\n",
            "\n",
            "실제 요약 : Indian Oil looking for annual deal to buy crude from US\n",
            "추출적 요약 : The US had in November granted a six-month waiver to India from sanctions against Iran and restricted the country's monthly intake of Iranian oil to 3,00,000 barrels per day.\n",
            "\n",
            "\n",
            "원문 : Former Windies fast bowler Curtly Ambrose dismissed seven Australian batsmen within a span of 32 balls giving away just one run, in a Test match on January 30, 1993. Ambrose's spell helped his team bowl out Australia for 119 in the first innings, after being 85 for 2 at one point. Ambrose ended with first-innings figures of 18-9-25-7.\n",
            "실제 요약 : Pacer once took 7 wickets for just 1 run in 32 balls in a Test\n",
            "추출적 요약 : Ambrose ended with first-innings figures of 18-9-25-7.\n",
            "\n",
            "\n",
            "원문 : A London zoo is offering people to name a cockroach after their exes on Valentine's Day for ÃÂ£1.50 (nearly Ã¢ÂÂ¹140). \"For those that don't quite require revenge, there's another way to make you feel better about getting back at your ex,\" the zoo said in a statement. The names will appear on zoo's 'roach board' on February 14. \n",
            "실제 요약 : UK zoo offers people to name cockroach after their ex on Valentine's\n",
            "추출적 요약 : The names will appear on zoo's 'roach board' on February 14.\n",
            "\n",
            "\n",
            "원문 : Stand-in captain Rohit Sharma has become the 14th Indian cricketer to play 200 ODIs, achieving the feat after taking the field against New Zealand in fourth ODI at Hamilton on Thursday. The 31-year-old had made his ODI debut on June 23, 2007, against Ireland in Belfast. Rohit scored 7,799 runs in his first 199 ODIs at an average of 48.14.\n",
            "실제 요약 : Rohit Sharma becomes 14th Indian cricketer to play 200 ODIs\n",
            "추출적 요약 : Rohit scored 7,799 runs in his first 199 ODIs at an average of 48.14.\n",
            "\n",
            "\n",
            "원문 : Batsman Shubman Gill has become the 227th cricketer to represent India in ODI cricket, achieving the feat against New Zealand in the fourth ODI at Hamilton on Thursday. The 19-year-old received his maiden ODI cap from former captain MS Dhoni. Notably, Shubman was named Player of the Under-19 World Cup in New Zealand last year.\n",
            "실제 요약 : 19-year-old Shubman Gill becomes India's 227th ODI cricketer\n",
            "추출적 요약 : Notably, Shubman was named Player of the Under-19 World Cup in New Zealand last year.\n",
            "\n",
            "\n",
            "원문 : Investigators searching for a lost plane carrying Argentine forward Emiliano Sala found two seat cushions on French coast that \"likely\" belonged to the aircraft. The investigators said they'll now launch an underwater seabed search for aircraft wreckage. The Cardiff City footballer was travelling from France's Nantes to Wales' Cardiff when his plane disappeared over English Channel on January 21.\n",
            "실제 요약 : 2 seat cushions from 'missing plane carrying footballer' found\n",
            "추출적 요약 : Investigators searching for a lost plane carrying Argentine forward Emiliano Sala found two seat cushions on French coast that \"likely\" belonged to the aircraft.\n",
            "\n",
            "\n",
            "원문 : Italian third division football side Lucchese's head coach Giancarlo Favarin has been banned for five months for headbutting Alessandria's assistant coach Gaetano Mancino during a brawl following the teams' 2-2 draw on Sunday. Mancino was caught off-balance and knocked to the ground after the headbutt. Earlier in the match, Favarin had told his own player to break an opponent's legs.\n",
            "실제 요약 : Italian coach knocks rival down with headbutt, banned for 5 months\n",
            "추출적 요약 : Italian third division football side Lucchese's head coach Giancarlo Favarin has been banned for five months for headbutting Alessandria's assistant coach Gaetano Mancino during a brawl following the teams' 2-2 draw on Sunday.\n",
            "\n",
            "\n",
            "원문 : Cyclists taking part in National Track Cycling Championship in Jaipur opted to sleep on the floor inside the stadium instead of hotels over expensive cycles. The organisers had booked hotels but they didn't have the provision for cyclists to keep their bikes inside. A national gold medallist said their cycles cost between Ã¢ÂÂ¹5-9 lakh and once damaged, they become non-repairable. \n",
            "실제 요약 : Cyclists sleep on stadium floor instead of hotel over costly cycles\n",
            "추출적 요약 : Cyclists taking part in National Track Cycling Championship in Jaipur opted to sleep on the floor inside the stadium instead of hotels over expensive cycles.\n",
            "\n",
            "\n",
            "원문 : Silvia Grecco, a 56-year-old Brazilian mother narrates her local football team Palmeiras' matches live to her 12-year-old blind and autistic son Nickollas from the stands. \"I describe details: this player is wearing short sleeves...colour of...football boots, hair colour...Everything I see and feel, I tell him, even when I need to curse the referee!\" Grecco said after a recent match.\n",
            "실제 요약 : Brazilian mother narrates football matches to blind son from stands\n",
            "추출적 요약 : \n",
            "\n",
            "\n",
            "원문 : A TechCrunch report has claimed that IndiaÃ¢ÂÂs largest bank SBI secured a passwordless server \"overnight\" on being alerted it allowed anyone to access phone numbers, bank balances, and transactions of millions of its customers. The Mumbai-based server was containing two months of data from SBI Quick, an SMS and call-based system used to request basic information about accounts, TechCrunch revealed.\n",
            "실제 요약 : SBI left account data of millions of users unprotected: Report\n",
            "추출적 요약 : \n",
            "\n",
            "\n",
            "원문 : Rahul Gandhi has replied to Goa CM Manohar Parrikar's letter, which accused the Congress President of using his \"visit to an ailing man for political gains\". \"He's under immense pressure from the PM after our meeting and needs to demonstrate his loyalty by attacking me,\" Gandhi wrote in his letter. Parrikar had clarified he didn't discuss Rafale deal with Rahul.\n",
            "실제 요약 : CM Parrikar under pressure from PM after our Goa meet: Rahul\n",
            "추출적 요약 : Rahul Gandhi has replied to Goa CM Manohar Parrikar's letter, which accused the Congress President of using his \"visit to an ailing man for political gains\".\n",
            "\n",
            "\n",
            "원문 : Twenty-seven-year-old Mohammed Mahuwala was arrested in Indore on Wednesday for allegedly cheating e-commerce giant Amazon of nearly Ã¢ÂÂ¹30 lakh. Mahuwala was a member of a gang who ordered costly gadgets from Amazon. \"[They] used to get refund of the amount paid...by saying the parcel...was empty. In reality, these devices were taken out from parcel and sold...to local shopkeepers,\" said police.\n",
            "실제 요약 : Man arrested for cheating Amazon of Ã¢ÂÂ¹30 lakh by taking refunds\n",
            "추출적 요약 : Mahuwala was a member of a gang who ordered costly gadgets from Amazon.\n",
            "\n",
            "\n",
            "원문 : AgustaWestland chopper scam co-accused Rajiv Saxena was extradited to India from UAE on Wednesday. He had been evading the Enforcement Directorate's summons claiming he was suffering from leukaemia but had moved an anti-money laundering court for anticipatory bail in December, stating he had never been summoned at his Dubai address. Saxena's lawyers alleged he had been \"illegally extradited\". \n",
            "실제 요약 : AgustaWestland scam accused Rajiv Saxena extradited to India\n",
            "추출적 요약 : AgustaWestland chopper scam co-accused Rajiv Saxena was extradited to India from UAE on Wednesday.\n",
            "\n",
            "\n",
            "원문 : Afghan President Ashraf Ghani has said the \"keys to war\" are in Pakistan's Islamabad, Quetta and Rawalpindi, accusing the country of providing safe havens to militants, including those belonging to the Taliban. Ghani added the \"key to peace was in Afghanistan\". His comments came amid the talks between the US and the Taliban to end the 17-year war in Afghanistan.\n",
            "실제 요약 : Pakistan holds 'keys to war': Afghanistan\n",
            "추출적 요약 : Afghan President Ashraf Ghani has said the \"keys to war\" are in Pakistan's Islamabad, Quetta and Rawalpindi, accusing the country of providing safe havens to militants, including those belonging to the Taliban.\n",
            "\n",
            "\n",
            "원문 : A Singapore-based insurance agent has been jailed for two years and five months for threatening to harm his clients unless they paid him in bitcoins. The 36-year-old set up an email account, and signed the messages as 'Lord Voldemort', a fictional character from the Harry Potter series. Ye Lin Myint targeted about 33 people, including those who cancelled insurance policies.\n",
            "실제 요약 : Insurance agent 'Lord Voldemort' jailed for threatening clients\n",
            "추출적 요약 : A Singapore-based insurance agent has been jailed for two years and five months for threatening to harm his clients unless they paid him in bitcoins.\n",
            "\n",
            "\n",
            "원문 : Gabrielle Reilly, a 22-year-old US woman, created earrings for her Apple AirPods and put it up for sale online for $20 (about Ã¢ÂÂ¹1,500). \"I absolutely refuse to lose them (AirPods)...So I made earrings,\" she explained. The earrings, which took her over an hour to make, debuted in a video on Twitter that has since garnered over three million views.\n",
            "실제 요약 : Woman turns Apple AirPods into earrings to avoid losing them\n",
            "추출적 요약 : \"I absolutely refuse to lose them (AirPods)...So I made earrings,\" she explained.\n",
            "\n",
            "\n",
            "원문 : Ex-ICICI Bank CEO Chanda Kochhar said she's \"utterly disappointed, hurt and shocked\" by the bank's decision to terminate her. Kochhar said she served ICICI for 34 years with utmost honesty and integrity and that ultimately truth will prevail. Adding that she hasn't been given a copy of the independent probe report, Kochhar said none of ICICI's credit decisions are unilateral\n",
            "실제 요약 : Shocked, hurt by ICICI's decision, truth will prevail: Kochhar\n",
            "추출적 요약 : Adding that she hasn't been given a copy of the independent probe report, Kochhar said none of ICICI's credit decisions are unilateral\n",
            "\n",
            "\n",
            "원문 : Swedish multinational fast-fashion brand Hennes & Mauritz AB (H&M) has hired Christopher Wylie, the whistleblower who exposed Facebook's Cambridge Analytica data scandal. WylieÃ¢ÂÂs focus will be to help get better insights on customers, products and markets and support work on sustainable and ethical artificial intelligence, H&M spokesperson said. Wylie is a former employee of Cambridge Analytica.\n",
            "실제 요약 : Fashion brand H&M hires Facebook data scandal whistleblower\n",
            "추출적 요약 : Swedish multinational fast-fashion brand Hennes & Mauritz AB (H&M) has hired Christopher Wylie, the whistleblower who exposed Facebook's Cambridge Analytica data scandal.\n",
            "\n",
            "\n",
            "원문 : Micro-blogging platform Twitter is testing a new feature on Android to put news on the top of a user's timeline. \"With this update, weÃ¢ÂÂre making it easier for people to see news and stories their followers have been discussing,\" Product Manager Walter Gurzynski said. The feature comes alongside a prompt saying, \"Catch up on what's happened while you were away.\"\n",
            "실제 요약 : Twitter testing news-first timeline feature on Android\n",
            "추출적 요약 : Micro-blogging platform Twitter is testing a new feature on Android to put news on the top of a user's timeline.\n",
            "\n",
            "\n",
            "원문 : Samsung has started mass producing its one terabyte 'embedded Universal Flash Storage (eUFS) 2.1' technology for \"use in next-generation mobile applications\", which it claims is the industry's first such eUFS. The company added the new eUFS will let smartphones store 260 10-minute videos shot in 4K UHD format. It'll be sized the same as the previous 512GB version, Samsung said.\n",
            "실제 요약 : Samsung builds world's first 1TB storage chip for smartphones \n",
            "추출적 요약 : Samsung has started mass producing its one terabyte 'embedded Universal Flash Storage (eUFS) 2.1' technology for \"use in next-generation mobile applications\", which it claims is the industry's first such eUFS.\n",
            "\n",
            "\n",
            "원문 : Prime Minister Narendra Modi on Wednesday said the people with 'negative mindset' are questioning him and his government for floating pro-poor schemes. He added negative mindset people are raising doubts about schemes such as building toilets and providing free gas connections to the poor. He further said that negative mentality laced with a vested interest still exists in the country.\n",
            "실제 요약 : People with 'negative mindset' quizzing pro-poor schemes: PM\n",
            "추출적 요약 : Prime Minister Narendra Modi on Wednesday said the people with 'negative mindset' are questioning him and his government for floating pro-poor schemes.\n",
            "\n",
            "\n",
            "원문 : Union Minister Anantkumar Hegde took a dig at Congress President Rahul Gandhi by calling him a \"hybrid specimen\" who has no clue about religion. \"A father who's...Muslim, a mother who's...Christian and the son is supposed to be...Brahmin. How is that even possible?\" he said. He added such \"hybrid specimen\" cannot be found in any laboratory in the world.\n",
            "실제 요약 : Rahul is hybrid specimen, has no clue about religion: Hegde\n",
            "추출적 요약 : Union Minister Anantkumar Hegde took a dig at Congress President Rahul Gandhi by calling him a \"hybrid specimen\" who has no clue about religion.\n",
            "\n",
            "\n",
            "원문 : Several parts of the US are set to experience record low temperatures as the polar vortex hit the Upper Midwest, with more than 200 million people expected to experience below-freezing temperatures this week. Temperatures throughout the Upper Midwest are expected to be at least 20-40Ã¢ÂÂ below zero. Government offices and schools have been closed in several areas.\n",
            "실제 요약 : Extreme cold to affect 200 million people as polar vortex hits US\n",
            "추출적 요약 : Several parts of the US are set to experience record low temperatures as the polar vortex hit the Upper Midwest, with more than 200 million people expected to experience below-freezing temperatures this week.\n",
            "\n",
            "\n",
            "원문 : The police on Wednesday registered cases against 13 persons, including a woman leader of Hindu Mahasabha, in Aligarh for firing at an effigy of Mahatma Gandhi with an air pistol. \"The incident took place in a house in Naurangabad locality of the city,\" Senior Superintendent of Police said. The video of the event went viral on social media, he added.\n",
            "실제 요약 : 13 booked for firing air shots at Mahatma Gandhi's effigy\n",
            "추출적 요약 : The police on Wednesday registered cases against 13 persons, including a woman leader of Hindu Mahasabha, in Aligarh for firing at an effigy of Mahatma Gandhi with an air pistol.\n",
            "\n",
            "\n",
            "원문 : Railway police has rescued a woman travelling on a train in Chennai who got her leg stuck inside the commode of a toilet. After being caught inside the commode hole, she struggled to remove her leg and following failed attempts, she shouted for help, reports said. Railway police used a cutter to pry open the commode and freed her leg.\n",
            "실제 요약 : Railway police rescues woman with leg stuck in train toilet\n",
            "추출적 요약 : Railway police has rescued a woman travelling on a train in Chennai who got her leg stuck inside the commode of a toilet.\n",
            "\n",
            "\n",
            "원문 : The US on Tuesday began returning asylum seekers to Mexico, sending back a migrant from a Central American nation and called the move a \"response to the illegal migration crisis\" faced by it. Under its Migrant Protection Protocols policy, the US will return certain migrants who cross into the country illegally back to Mexico while their asylum requests are processed.\n",
            "실제 요약 : US begins sending back asylum seekers to Mexico\n",
            "추출적 요약 : \n",
            "\n",
            "\n"
          ]
        }
      ]
    },
    {
      "cell_type": "markdown",
      "source": [
        "추출적 요약은 추상적 요약과 달리 실제 요약과 원문과 많은 차이를 보이지 않음을 알 수 있다."
      ],
      "metadata": {
        "id": "no-20Ws_D8Ln"
      }
    },
    {
      "cell_type": "markdown",
      "metadata": {
        "id": "Te_R3Kz76eMf"
      },
      "source": [
        "#  추상적 요약 많은 시도의 결과\n"
      ]
    },
    {
      "cell_type": "markdown",
      "metadata": {
        "id": "BTRh_R1N1BFh"
      },
      "source": [
        "max_text_len :45, max_headlines_len:12, embedding_dim = 128 hidden_size = 256, RMS prop"
      ]
    },
    {
      "cell_type": "markdown",
      "metadata": {
        "id": "xEvEWQzf9-7D"
      },
      "source": [
        "max_text_len :35, max_headlines_len:9 dropout:x, embedding_dim = 128 hidden_size = 256, RMS prop"
      ]
    },
    {
      "cell_type": "markdown",
      "metadata": {
        "id": "fCJLBXzOTbS_"
      },
      "source": [
        "max_text_len:45, max_headlines_len:12, dropout:x, val_loss : 3.6638, src_tokenizer : 20000, tar_tokenizer : 10000, embedding_dim = 128 hidden_size = 256, RMS prop "
      ]
    },
    {
      "cell_type": "markdown",
      "metadata": {
        "id": "hGDm6BmMjTw1"
      },
      "source": [
        "max_text_len:45, max_headlines_len:12, dropout:x, val_loss:3.6638 , src_tokenizer:20000, tar_tokenizer:10000, embedding_dim = 128 hidden_size = 256, ADAM"
      ]
    },
    {
      "cell_type": "markdown",
      "metadata": {
        "id": "x1J_sNGrsCCW"
      },
      "source": [
        "src_tokenizer=12000, tar_tokenizer=5100, val_loss:4.4964, max_text_len:35, max_headlines_len=9, embedding_dim = 128 hidden_size = 256, ADAM"
      ]
    },
    {
      "cell_type": "markdown",
      "metadata": {
        "id": "9xvvbGyQ7cYM"
      },
      "source": [
        "embedding_dim =256, hidden_size=512, src_tokenizer=12000, tar_tokenizer=5100, val_loss:4.3954, max_text_len:35, max_headlines_len=9, rmsprop"
      ]
    },
    {
      "cell_type": "markdown",
      "metadata": {
        "id": "nj_ZeN4LEfvG"
      },
      "source": [
        "embedding_dim =256, hidden_size=512, max_text_len:45, max_headlines_len:12, dropout:x, val_loss:3.5321 , src_tokenizer:22000, tar_tokenizer:10000, rmsprop"
      ]
    },
    {
      "cell_type": "markdown",
      "metadata": {
        "id": "uuMkP_KqNyMH"
      },
      "source": [
        "embedding_dim =512, hidden_size=1024, max_text_len:45, max_headlines_len:12, dropout:x, val_loss:3.5321 , src_tokenizer:22000, tar_tokenizer:10000, rmsprop"
      ]
    },
    {
      "cell_type": "markdown",
      "metadata": {
        "id": "a9YQJkJDh5et"
      },
      "source": [
        "embedding_dim =512, hidden_size=1024, text_max_len : 45, headlines_max_len :12 , val_loss:3.5324, src_tokenizer: 15000, tar_tokenizer: 7000, rmsprop"
      ]
    },
    {
      "cell_type": "markdown",
      "source": [
        "embdding_dim=128, hidden_size=1024, text_max_len : 45, headlines_max_len :12 , val_loss:3.6108, src_tokenizer: 15000, tar_tokenizer: 7000, batch_size=64, rmsprop\n",
        "\n"
      ],
      "metadata": {
        "id": "2yFQm-3Mz8PQ"
      }
    },
    {
      "cell_type": "markdown",
      "source": [
        "embdding_dim=256, hidden_size=1024, text_max_len : 45, headlines_max_len :12 , val_loss:3.6108, src_tokenizer: 15000, tar_tokenizer: 7000, batch_size=128, rmsprop"
      ],
      "metadata": {
        "id": "EFoT790yHmHL"
      }
    },
    {
      "cell_type": "markdown",
      "source": [
        "embdding_dim=256, hidden_size=512, text_max_len : 40, headlines_max_len :10 , val_loss:3.6150, src_tokenizer: 8000, tar_tokenizer: 5000, batch_size=128, rmsprop"
      ],
      "metadata": {
        "id": "1Yfm58YmIAp-"
      }
    },
    {
      "cell_type": "markdown",
      "source": [
        "lstm층 1개 embdding_dim=256, hidden_size=1024, text_max_len : 40, headlines_max_len :10 , val_loss:3.9660, src_tokenizer: 12000, tar_tokenizer: 6000, batch_size=128, rmsprop"
      ],
      "metadata": {
        "id": "uYuwyniUZytB"
      }
    },
    {
      "cell_type": "markdown",
      "source": [
        "# 회고"
      ],
      "metadata": {
        "id": "vyEZBjeC4Dxi"
      }
    },
    {
      "cell_type": "markdown",
      "source": [
        "추상적 요약의 val_loss를 잡기 위해서 여러 시도를 했던 것 같다. 여러 시도가 잘 작동하지 않아서 아쉬움이 따른다.\n",
        "\n",
        "이제 어느 정도 NLP의 기본적인 것들을 이해할 수 있을 것 같다. tokenizer와 불용어 제거, 패딩 등을 이해할 수 있다. 하지만 어텐션 매커니즘이 친숙해질 때까지 시간이 좀 걸릴 것 같다."
      ],
      "metadata": {
        "id": "Bjhc3F83547m"
      }
    },
    {
      "cell_type": "markdown",
      "metadata": {
        "id": "gI4cMqdKB-kB"
      },
      "source": [
        "# 출처\n",
        "\n",
        "https://wikidocs.net/48920\n",
        "\n",
        "https://arxiv.org/pdf/1409.0473.pdf\n",
        "\n",
        "https://arxiv.org/pdf/1603.05118v2.pdf\n",
        "\n",
        "https://github.com/yenaryu/AI/blob/main/%5BE-08%5Dnews_summarization.ipynb"
      ]
    }
  ],
  "metadata": {
    "accelerator": "GPU",
    "colab": {
      "collapsed_sections": [],
      "provenance": [],
      "mount_file_id": "1NU7631bxf1tDxUgOLZB2IGh35JRG3yXF",
      "authorship_tag": "ABX9TyN4F3bsu0ztUtZRrhsadGef",
      "include_colab_link": true
    },
    "gpuClass": "standard",
    "kernelspec": {
      "display_name": "Python 3",
      "name": "python3"
    },
    "language_info": {
      "name": "python"
    }
  },
  "nbformat": 4,
  "nbformat_minor": 0
}