{
 "cells": [
  {
   "cell_type": "markdown",
   "id": "5a924c61",
   "metadata": {},
   "source": [
    "# 0. 패키지 불러오기"
   ]
  },
  {
   "cell_type": "code",
   "execution_count": 1,
   "id": "84756b5e",
   "metadata": {},
   "outputs": [],
   "source": [
    "import numpy as np\n",
    "import scipy\n",
    "import implicit\n",
    "import os\n",
    "import pandas as pd\n",
    "import numpy as np\n",
    "from scipy.sparse import csr_matrix\n",
    "from implicit.als import AlternatingLeastSquares"
   ]
  },
  {
   "cell_type": "markdown",
   "id": "2b795b68",
   "metadata": {},
   "source": [
    "# 1. 데이터 준비 및 전처리"
   ]
  },
  {
   "cell_type": "code",
   "execution_count": 2,
   "id": "d9f5fc41",
   "metadata": {},
   "outputs": [
    {
     "data": {
      "text/html": [
       "<div>\n",
       "<style scoped>\n",
       "    .dataframe tbody tr th:only-of-type {\n",
       "        vertical-align: middle;\n",
       "    }\n",
       "\n",
       "    .dataframe tbody tr th {\n",
       "        vertical-align: top;\n",
       "    }\n",
       "\n",
       "    .dataframe thead th {\n",
       "        text-align: right;\n",
       "    }\n",
       "</style>\n",
       "<table border=\"1\" class=\"dataframe\">\n",
       "  <thead>\n",
       "    <tr style=\"text-align: right;\">\n",
       "      <th></th>\n",
       "      <th>user_id</th>\n",
       "      <th>movie_id</th>\n",
       "      <th>ratings</th>\n",
       "      <th>timestamp</th>\n",
       "    </tr>\n",
       "  </thead>\n",
       "  <tbody>\n",
       "    <tr>\n",
       "      <th>0</th>\n",
       "      <td>1</td>\n",
       "      <td>1193</td>\n",
       "      <td>5</td>\n",
       "      <td>978300760</td>\n",
       "    </tr>\n",
       "    <tr>\n",
       "      <th>1</th>\n",
       "      <td>1</td>\n",
       "      <td>661</td>\n",
       "      <td>3</td>\n",
       "      <td>978302109</td>\n",
       "    </tr>\n",
       "    <tr>\n",
       "      <th>2</th>\n",
       "      <td>1</td>\n",
       "      <td>914</td>\n",
       "      <td>3</td>\n",
       "      <td>978301968</td>\n",
       "    </tr>\n",
       "    <tr>\n",
       "      <th>3</th>\n",
       "      <td>1</td>\n",
       "      <td>3408</td>\n",
       "      <td>4</td>\n",
       "      <td>978300275</td>\n",
       "    </tr>\n",
       "    <tr>\n",
       "      <th>4</th>\n",
       "      <td>1</td>\n",
       "      <td>2355</td>\n",
       "      <td>5</td>\n",
       "      <td>978824291</td>\n",
       "    </tr>\n",
       "  </tbody>\n",
       "</table>\n",
       "</div>"
      ],
      "text/plain": [
       "   user_id  movie_id  ratings  timestamp\n",
       "0        1      1193        5  978300760\n",
       "1        1       661        3  978302109\n",
       "2        1       914        3  978301968\n",
       "3        1      3408        4  978300275\n",
       "4        1      2355        5  978824291"
      ]
     },
     "execution_count": 2,
     "metadata": {},
     "output_type": "execute_result"
    }
   ],
   "source": [
    "rating_file_path=os.getenv('HOME') + '/aiffel/recommendation_iu/data/ml-1m/ratings.dat'\n",
    "ratings_cols = ['user_id', 'movie_id', 'ratings', 'timestamp']\n",
    "ratings = pd.read_csv(rating_file_path, sep='::', names=ratings_cols, engine='python', encoding = \"ISO-8859-1\")\n",
    "orginal_data_size = len(ratings)\n",
    "ratings.head()"
   ]
  },
  {
   "cell_type": "code",
   "execution_count": 3,
   "id": "1ed7e347",
   "metadata": {},
   "outputs": [
    {
     "name": "stdout",
     "output_type": "stream",
     "text": [
      "orginal_data_size: 1000209, filtered_data_size: 836478\n",
      "Ratio of Remaining Data is 83.63%\n"
     ]
    }
   ],
   "source": [
    "# 3점 이상만 남깁니다.\n",
    "ratings = ratings[ratings['ratings']>=3]\n",
    "filtered_data_size = len(ratings)\n",
    "\n",
    "print(f'orginal_data_size: {orginal_data_size}, filtered_data_size: {filtered_data_size}')\n",
    "print(f'Ratio of Remaining Data is {filtered_data_size / orginal_data_size:.2%}')"
   ]
  },
  {
   "cell_type": "code",
   "execution_count": 4,
   "id": "bb0a3440",
   "metadata": {},
   "outputs": [],
   "source": [
    "# ratings 컬럼의 이름을 counts로 바꿉니다.\n",
    "ratings.rename(columns={'ratings':'counts'}, inplace=True)"
   ]
  },
  {
   "cell_type": "code",
   "execution_count": 5,
   "id": "c2c0b700",
   "metadata": {},
   "outputs": [
    {
     "data": {
      "text/plain": [
       "0          5\n",
       "1          3\n",
       "2          3\n",
       "3          4\n",
       "4          5\n",
       "          ..\n",
       "1000203    3\n",
       "1000205    5\n",
       "1000206    5\n",
       "1000207    4\n",
       "1000208    4\n",
       "Name: counts, Length: 836478, dtype: int64"
      ]
     },
     "execution_count": 5,
     "metadata": {},
     "output_type": "execute_result"
    }
   ],
   "source": [
    "ratings['counts']"
   ]
  },
  {
   "cell_type": "code",
   "execution_count": 6,
   "id": "8cf10472",
   "metadata": {},
   "outputs": [
    {
     "data": {
      "text/html": [
       "<div>\n",
       "<style scoped>\n",
       "    .dataframe tbody tr th:only-of-type {\n",
       "        vertical-align: middle;\n",
       "    }\n",
       "\n",
       "    .dataframe tbody tr th {\n",
       "        vertical-align: top;\n",
       "    }\n",
       "\n",
       "    .dataframe thead th {\n",
       "        text-align: right;\n",
       "    }\n",
       "</style>\n",
       "<table border=\"1\" class=\"dataframe\">\n",
       "  <thead>\n",
       "    <tr style=\"text-align: right;\">\n",
       "      <th></th>\n",
       "      <th>movie_id</th>\n",
       "      <th>title</th>\n",
       "      <th>genre</th>\n",
       "    </tr>\n",
       "  </thead>\n",
       "  <tbody>\n",
       "    <tr>\n",
       "      <th>0</th>\n",
       "      <td>1</td>\n",
       "      <td>Toy Story (1995)</td>\n",
       "      <td>Animation|Children's|Comedy</td>\n",
       "    </tr>\n",
       "    <tr>\n",
       "      <th>1</th>\n",
       "      <td>2</td>\n",
       "      <td>Jumanji (1995)</td>\n",
       "      <td>Adventure|Children's|Fantasy</td>\n",
       "    </tr>\n",
       "    <tr>\n",
       "      <th>2</th>\n",
       "      <td>3</td>\n",
       "      <td>Grumpier Old Men (1995)</td>\n",
       "      <td>Comedy|Romance</td>\n",
       "    </tr>\n",
       "    <tr>\n",
       "      <th>3</th>\n",
       "      <td>4</td>\n",
       "      <td>Waiting to Exhale (1995)</td>\n",
       "      <td>Comedy|Drama</td>\n",
       "    </tr>\n",
       "    <tr>\n",
       "      <th>4</th>\n",
       "      <td>5</td>\n",
       "      <td>Father of the Bride Part II (1995)</td>\n",
       "      <td>Comedy</td>\n",
       "    </tr>\n",
       "  </tbody>\n",
       "</table>\n",
       "</div>"
      ],
      "text/plain": [
       "   movie_id                               title                         genre\n",
       "0         1                    Toy Story (1995)   Animation|Children's|Comedy\n",
       "1         2                      Jumanji (1995)  Adventure|Children's|Fantasy\n",
       "2         3             Grumpier Old Men (1995)                Comedy|Romance\n",
       "3         4            Waiting to Exhale (1995)                  Comedy|Drama\n",
       "4         5  Father of the Bride Part II (1995)                        Comedy"
      ]
     },
     "execution_count": 6,
     "metadata": {},
     "output_type": "execute_result"
    }
   ],
   "source": [
    "# 영화 제목을 보기 위해 메타 데이터를 읽어옵니다.\n",
    "movie_file_path=os.getenv('HOME') + '/aiffel/recommendation_iu/data/ml-1m/movies.dat'\n",
    "cols = ['movie_id', 'title', 'genre'] \n",
    "movies = pd.read_csv(movie_file_path, sep='::', names=cols, engine='python', encoding='ISO-8859-1')\n",
    "movies.head()"
   ]
  },
  {
   "cell_type": "code",
   "execution_count": 7,
   "id": "7a723ab8",
   "metadata": {},
   "outputs": [
    {
     "data": {
      "text/html": [
       "<div>\n",
       "<style scoped>\n",
       "    .dataframe tbody tr th:only-of-type {\n",
       "        vertical-align: middle;\n",
       "    }\n",
       "\n",
       "    .dataframe tbody tr th {\n",
       "        vertical-align: top;\n",
       "    }\n",
       "\n",
       "    .dataframe thead th {\n",
       "        text-align: right;\n",
       "    }\n",
       "</style>\n",
       "<table border=\"1\" class=\"dataframe\">\n",
       "  <thead>\n",
       "    <tr style=\"text-align: right;\">\n",
       "      <th></th>\n",
       "      <th>movie_id</th>\n",
       "      <th>title</th>\n",
       "      <th>genre</th>\n",
       "    </tr>\n",
       "  </thead>\n",
       "  <tbody>\n",
       "    <tr>\n",
       "      <th>0</th>\n",
       "      <td>1</td>\n",
       "      <td>toy story (1995)</td>\n",
       "      <td>animation|children's|comedy</td>\n",
       "    </tr>\n",
       "    <tr>\n",
       "      <th>1</th>\n",
       "      <td>2</td>\n",
       "      <td>jumanji (1995)</td>\n",
       "      <td>adventure|children's|fantasy</td>\n",
       "    </tr>\n",
       "    <tr>\n",
       "      <th>2</th>\n",
       "      <td>3</td>\n",
       "      <td>grumpier old men (1995)</td>\n",
       "      <td>comedy|romance</td>\n",
       "    </tr>\n",
       "    <tr>\n",
       "      <th>3</th>\n",
       "      <td>4</td>\n",
       "      <td>waiting to exhale (1995)</td>\n",
       "      <td>comedy|drama</td>\n",
       "    </tr>\n",
       "    <tr>\n",
       "      <th>4</th>\n",
       "      <td>5</td>\n",
       "      <td>father of the bride part ii (1995)</td>\n",
       "      <td>comedy</td>\n",
       "    </tr>\n",
       "  </tbody>\n",
       "</table>\n",
       "</div>"
      ],
      "text/plain": [
       "   movie_id                               title                         genre\n",
       "0         1                    toy story (1995)   animation|children's|comedy\n",
       "1         2                      jumanji (1995)  adventure|children's|fantasy\n",
       "2         3             grumpier old men (1995)                comedy|romance\n",
       "3         4            waiting to exhale (1995)                  comedy|drama\n",
       "4         5  father of the bride part ii (1995)                        comedy"
      ]
     },
     "execution_count": 7,
     "metadata": {},
     "output_type": "execute_result"
    }
   ],
   "source": [
    "movies['title'] = movies['title'].str.lower()\n",
    "movies['genre'] = movies['genre'].str.lower()\n",
    "movies.head()"
   ]
  },
  {
   "cell_type": "markdown",
   "id": "f5346c6e",
   "metadata": {},
   "source": [
    "검색을 쉽게하기위해 영화제목과 장르를 전부 소문자로 바꿔줍니다."
   ]
  },
  {
   "cell_type": "code",
   "execution_count": 8,
   "id": "237feaf6",
   "metadata": {},
   "outputs": [
    {
     "name": "stdout",
     "output_type": "stream",
     "text": [
      "ratings 결측치 수: user_id      0\n",
      "movie_id     0\n",
      "counts       0\n",
      "timestamp    0\n",
      "dtype: int64\n",
      "movies 결측치 수: movie_id    0\n",
      "title       0\n",
      "genre       0\n",
      "dtype: int64\n"
     ]
    }
   ],
   "source": [
    "print('ratings 결측치 수:',ratings.isnull().sum())\n",
    "print('movies 결측치 수:', movies.isnull().sum())"
   ]
  },
  {
   "cell_type": "code",
   "execution_count": 9,
   "id": "86305b25",
   "metadata": {},
   "outputs": [
    {
     "name": "stdout",
     "output_type": "stream",
     "text": [
      "movies의 중복치 수 : 0\n"
     ]
    }
   ],
   "source": [
    "# 장르는 중복일 수 있어도 영화 이름이 중복이면 안됩니다. \n",
    "print('movies의 중복치 수 :',movies['title'].duplicated().sum())"
   ]
  },
  {
   "cell_type": "markdown",
   "id": "3aedbb50",
   "metadata": {},
   "source": [
    "결측치나 중복치가 있는지 확인해줍니다."
   ]
  },
  {
   "cell_type": "markdown",
   "id": "d00c2a80",
   "metadata": {},
   "source": [
    "# 2. EDA"
   ]
  },
  {
   "cell_type": "code",
   "execution_count": 10,
   "id": "41f57db1",
   "metadata": {},
   "outputs": [
    {
     "name": "stdout",
     "output_type": "stream",
     "text": [
      "유저수 : 6039\n",
      "영화수 : 3883\n"
     ]
    }
   ],
   "source": [
    "print('유저수 :', ratings['user_id'].nunique())\n",
    "print('영화수 :', movies['title'].nunique())"
   ]
  },
  {
   "cell_type": "code",
   "execution_count": 11,
   "id": "806db24d",
   "metadata": {},
   "outputs": [
    {
     "data": {
      "text/plain": [
       "2858                               brief encounter (1946)\n",
       "260                              ladybird ladybird (1994)\n",
       "1196                                         alien (1979)\n",
       "1210                                   raging bull (1980)\n",
       "2028               something wicked this way comes (1983)\n",
       "589                      silence of the lambs, the (1991)\n",
       "593                                   pretty woman (1990)\n",
       "1198                 big blue, the (le grand bleu) (1988)\n",
       "1270                        some kind of wonderful (1987)\n",
       "2571                                      superman (1978)\n",
       "480                                         lassie (1994)\n",
       "2762                            dog of flanders, a (1999)\n",
       "608                                pallbearer, the (1996)\n",
       "110                            rumble in the bronx (1995)\n",
       "1580                                    wishmaster (1997)\n",
       "527                             secret garden, the (1993)\n",
       "1197                              army of darkness (1993)\n",
       "2396                                 deadly friend (1986)\n",
       "1617                                       stripes (1981)\n",
       "318     strawberry and chocolate (fresa y chocolate) (...\n",
       "858                                    kansas city (1996)\n",
       "1265                                      heathers (1989)\n",
       "1097                                associate, the (1996)\n",
       "2997                             tora! tora! tora! (1970)\n",
       "2716                               tales of terror (1962)\n",
       "296                                         priest (1994)\n",
       "356                                 i love trouble (1994)\n",
       "1240                                             m (1931)\n",
       "1                                          jumanji (1995)\n",
       "457                                        go fish (1994)\n",
       "Name: title, dtype: object"
      ]
     },
     "execution_count": 11,
     "metadata": {},
     "output_type": "execute_result"
    }
   ],
   "source": [
    "# 영화id별 유저id수를 movie_count변수에 넣습니다.\n",
    "movie_count = ratings.groupby('movie_id')['user_id'].count()\n",
    "\n",
    "# 내림차순으로 30개를 나열하고 해당 영와id를 넘파이 배열형태로 mv_id_30변수에 저장합니다.\n",
    "mv_id_30 = movie_count.sort_values(ascending=False)[:30].index.values\n",
    "\n",
    "# loc를 이용해서 id에 해당하는 영화 이름을 출력합니다.\n",
    "movies.loc[mv_id_30,'title']"
   ]
  },
  {
   "cell_type": "markdown",
   "id": "b47c7f2d",
   "metadata": {},
   "source": [
    "인기순으로 영화목록 30개를 출력해보겠습니다."
   ]
  },
  {
   "cell_type": "code",
   "execution_count": 12,
   "id": "2ce27422",
   "metadata": {},
   "outputs": [
    {
     "data": {
      "text/html": [
       "<div>\n",
       "<style scoped>\n",
       "    .dataframe tbody tr th:only-of-type {\n",
       "        vertical-align: middle;\n",
       "    }\n",
       "\n",
       "    .dataframe tbody tr th {\n",
       "        vertical-align: top;\n",
       "    }\n",
       "\n",
       "    .dataframe thead th {\n",
       "        text-align: right;\n",
       "    }\n",
       "</style>\n",
       "<table border=\"1\" class=\"dataframe\">\n",
       "  <thead>\n",
       "    <tr style=\"text-align: right;\">\n",
       "      <th></th>\n",
       "      <th>user_id</th>\n",
       "      <th>movie_id</th>\n",
       "      <th>counts</th>\n",
       "      <th>timestamp</th>\n",
       "    </tr>\n",
       "  </thead>\n",
       "  <tbody>\n",
       "    <tr>\n",
       "      <th>1000203</th>\n",
       "      <td>6040</td>\n",
       "      <td>1090</td>\n",
       "      <td>3</td>\n",
       "      <td>956715518.0</td>\n",
       "    </tr>\n",
       "    <tr>\n",
       "      <th>1000205</th>\n",
       "      <td>6040</td>\n",
       "      <td>1094</td>\n",
       "      <td>5</td>\n",
       "      <td>956704887.0</td>\n",
       "    </tr>\n",
       "    <tr>\n",
       "      <th>1000206</th>\n",
       "      <td>6040</td>\n",
       "      <td>562</td>\n",
       "      <td>5</td>\n",
       "      <td>956704746.0</td>\n",
       "    </tr>\n",
       "    <tr>\n",
       "      <th>1000207</th>\n",
       "      <td>6040</td>\n",
       "      <td>1096</td>\n",
       "      <td>4</td>\n",
       "      <td>956715648.0</td>\n",
       "    </tr>\n",
       "    <tr>\n",
       "      <th>1000208</th>\n",
       "      <td>6040</td>\n",
       "      <td>1097</td>\n",
       "      <td>4</td>\n",
       "      <td>956715569.0</td>\n",
       "    </tr>\n",
       "    <tr>\n",
       "      <th>0</th>\n",
       "      <td>9999</td>\n",
       "      <td>1196</td>\n",
       "      <td>5</td>\n",
       "      <td>NaN</td>\n",
       "    </tr>\n",
       "    <tr>\n",
       "      <th>1</th>\n",
       "      <td>9999</td>\n",
       "      <td>1</td>\n",
       "      <td>5</td>\n",
       "      <td>NaN</td>\n",
       "    </tr>\n",
       "    <tr>\n",
       "      <th>2</th>\n",
       "      <td>9999</td>\n",
       "      <td>2571</td>\n",
       "      <td>5</td>\n",
       "      <td>NaN</td>\n",
       "    </tr>\n",
       "    <tr>\n",
       "      <th>3</th>\n",
       "      <td>9999</td>\n",
       "      <td>1265</td>\n",
       "      <td>5</td>\n",
       "      <td>NaN</td>\n",
       "    </tr>\n",
       "    <tr>\n",
       "      <th>4</th>\n",
       "      <td>9999</td>\n",
       "      <td>296</td>\n",
       "      <td>5</td>\n",
       "      <td>NaN</td>\n",
       "    </tr>\n",
       "  </tbody>\n",
       "</table>\n",
       "</div>"
      ],
      "text/plain": [
       "         user_id  movie_id  counts    timestamp\n",
       "1000203     6040      1090       3  956715518.0\n",
       "1000205     6040      1094       5  956704887.0\n",
       "1000206     6040       562       5  956704746.0\n",
       "1000207     6040      1096       4  956715648.0\n",
       "1000208     6040      1097       4  956715569.0\n",
       "0           9999      1196       5          NaN\n",
       "1           9999         1       5          NaN\n",
       "2           9999      2571       5          NaN\n",
       "3           9999      1265       5          NaN\n",
       "4           9999       296       5          NaN"
      ]
     },
     "execution_count": 12,
     "metadata": {},
     "output_type": "execute_result"
    }
   ],
   "source": [
    "# alien, toy story, superman, heathers, priest\n",
    "my_favorite = [1196, 1, 2571, 1265, 296]\n",
    "\n",
    "# 제 자신의 id를 9999로 설정하고, 각 영화에 대한 별점은 5점을 주겠습니다.\n",
    "my_list = pd.DataFrame({'user_id': [9999]*5, 'movie_id': my_favorite, 'counts': [5]*5})\n",
    "ratings = ratings.append(my_list)\n",
    "ratings.tail(10)"
   ]
  },
  {
   "cell_type": "markdown",
   "id": "638f55cd",
   "metadata": {},
   "source": [
    "우리는 본인의 영화취향과 가장 유사한 또다른 영화를 추천받고 싶습니다. 넷플릭스 등 추천 시스템들은 이를 위해서 처음 가입하는 사용자의 취향인 영화정보를 5개 이상 입력받는 과정을 거치게 하는 경우가 많습니다.\n",
    "\n",
    "이와 동일한 과정을 위해 위 데이터셋에 제가 좋아하는 영화5개를 추가하겠습니다."
   ]
  },
  {
   "cell_type": "markdown",
   "id": "497246f3",
   "metadata": {},
   "source": [
    "## 모델에 활용하기 위한 전처리\n",
    "사람이 태어나면 주민등록번호가, 학교에 가면 출석번호가 있듯이 데이터의 관리를 쉽게 하기 위해 번호를 붙여주고 싶습니다. 우리가 다루는 데이터에서는 user와 movie 각각에 번호를 붙이고 싶습니다. 보통 이런 작업을 indexing이라고 합니다."
   ]
  },
  {
   "cell_type": "code",
   "execution_count": 13,
   "id": "c10f7de7",
   "metadata": {},
   "outputs": [],
   "source": [
    "user_unique = ratings['user_id'].unique()\n",
    "movie_unique = ratings['movie_id'].unique()\n",
    "\n",
    "user_to_idx = {v:k for k,v in enumerate(user_unique)}\n",
    "movie_to_idx = {v:k for k,v in enumerate(movie_unique)}"
   ]
  },
  {
   "cell_type": "code",
   "execution_count": 14,
   "id": "69b27856",
   "metadata": {},
   "outputs": [
    {
     "name": "stdout",
     "output_type": "stream",
     "text": [
      "user_id column indexing OK!!\n",
      "movie_id column indexing OK!!\n"
     ]
    },
    {
     "data": {
      "text/html": [
       "<div>\n",
       "<style scoped>\n",
       "    .dataframe tbody tr th:only-of-type {\n",
       "        vertical-align: middle;\n",
       "    }\n",
       "\n",
       "    .dataframe tbody tr th {\n",
       "        vertical-align: top;\n",
       "    }\n",
       "\n",
       "    .dataframe thead th {\n",
       "        text-align: right;\n",
       "    }\n",
       "</style>\n",
       "<table border=\"1\" class=\"dataframe\">\n",
       "  <thead>\n",
       "    <tr style=\"text-align: right;\">\n",
       "      <th></th>\n",
       "      <th>user_id</th>\n",
       "      <th>movie_id</th>\n",
       "      <th>counts</th>\n",
       "      <th>timestamp</th>\n",
       "    </tr>\n",
       "  </thead>\n",
       "  <tbody>\n",
       "    <tr>\n",
       "      <th>0</th>\n",
       "      <td>0</td>\n",
       "      <td>0</td>\n",
       "      <td>5</td>\n",
       "      <td>978300760.0</td>\n",
       "    </tr>\n",
       "    <tr>\n",
       "      <th>1</th>\n",
       "      <td>0</td>\n",
       "      <td>1</td>\n",
       "      <td>3</td>\n",
       "      <td>978302109.0</td>\n",
       "    </tr>\n",
       "    <tr>\n",
       "      <th>2</th>\n",
       "      <td>0</td>\n",
       "      <td>2</td>\n",
       "      <td>3</td>\n",
       "      <td>978301968.0</td>\n",
       "    </tr>\n",
       "    <tr>\n",
       "      <th>3</th>\n",
       "      <td>0</td>\n",
       "      <td>3</td>\n",
       "      <td>4</td>\n",
       "      <td>978300275.0</td>\n",
       "    </tr>\n",
       "    <tr>\n",
       "      <th>4</th>\n",
       "      <td>0</td>\n",
       "      <td>4</td>\n",
       "      <td>5</td>\n",
       "      <td>978824291.0</td>\n",
       "    </tr>\n",
       "    <tr>\n",
       "      <th>...</th>\n",
       "      <td>...</td>\n",
       "      <td>...</td>\n",
       "      <td>...</td>\n",
       "      <td>...</td>\n",
       "    </tr>\n",
       "    <tr>\n",
       "      <th>0</th>\n",
       "      <td>6039</td>\n",
       "      <td>117</td>\n",
       "      <td>5</td>\n",
       "      <td>NaN</td>\n",
       "    </tr>\n",
       "    <tr>\n",
       "      <th>1</th>\n",
       "      <td>6039</td>\n",
       "      <td>40</td>\n",
       "      <td>5</td>\n",
       "      <td>NaN</td>\n",
       "    </tr>\n",
       "    <tr>\n",
       "      <th>2</th>\n",
       "      <td>6039</td>\n",
       "      <td>124</td>\n",
       "      <td>5</td>\n",
       "      <td>NaN</td>\n",
       "    </tr>\n",
       "    <tr>\n",
       "      <th>3</th>\n",
       "      <td>6039</td>\n",
       "      <td>110</td>\n",
       "      <td>5</td>\n",
       "      <td>NaN</td>\n",
       "    </tr>\n",
       "    <tr>\n",
       "      <th>4</th>\n",
       "      <td>6039</td>\n",
       "      <td>222</td>\n",
       "      <td>5</td>\n",
       "      <td>NaN</td>\n",
       "    </tr>\n",
       "  </tbody>\n",
       "</table>\n",
       "<p>836483 rows × 4 columns</p>\n",
       "</div>"
      ],
      "text/plain": [
       "    user_id  movie_id  counts    timestamp\n",
       "0         0         0       5  978300760.0\n",
       "1         0         1       3  978302109.0\n",
       "2         0         2       3  978301968.0\n",
       "3         0         3       4  978300275.0\n",
       "4         0         4       5  978824291.0\n",
       "..      ...       ...     ...          ...\n",
       "0      6039       117       5          NaN\n",
       "1      6039        40       5          NaN\n",
       "2      6039       124       5          NaN\n",
       "3      6039       110       5          NaN\n",
       "4      6039       222       5          NaN\n",
       "\n",
       "[836483 rows x 4 columns]"
      ]
     },
     "execution_count": 14,
     "metadata": {},
     "output_type": "execute_result"
    }
   ],
   "source": [
    "# indexing을 통해 데이터 컬럼 내 값을 바꾸는 코드\n",
    "# user_to_idx.get을 통해 user_id 컬럼의 모든 값을 인덱싱한 Series를 구해 봅시다. \n",
    "# 혹시 정상적으로 인덱싱되지 않은 row가 있다면 인덱스가 NaN이 될 테니 dropna()로 제거합니다. \n",
    "temp_user_data = ratings['user_id'].map(user_to_idx.get).dropna()\n",
    "if len(temp_user_data) == len(ratings):   # 모든 row가 정상적으로 인덱싱되었다면\n",
    "    print('user_id column indexing OK!!')\n",
    "    ratings['user_id'] = temp_user_data   # data['user_id']을 인덱싱된 Series로 교체해 줍니다. \n",
    "else:\n",
    "    print('user_id column indexing Fail!!')\n",
    "\n",
    "# movie_to_idx을 통해 movie_id 컬럼도 동일한 방식으로 인덱싱해 줍니다. \n",
    "temp_movie_data = ratings['movie_id'].map(movie_to_idx.get).dropna()\n",
    "if len(temp_movie_data) == len(ratings):\n",
    "    print('movie_id column indexing OK!!')\n",
    "    ratings['movie_id'] = temp_movie_data\n",
    "else:\n",
    "    print('movid_id column indexing Fail!!')\n",
    "\n",
    "ratings"
   ]
  },
  {
   "cell_type": "markdown",
   "id": "d7efc412",
   "metadata": {},
   "source": [
    "# 3. CSR matrix\n",
    "CSR Matrix는 Sparse한 matrix에서 0이 아닌 유효한 데이터로 채워지는 데이터의 값과 좌표 정보만으로 구성하여 메모리 사용량을 최소화하면서도 Sparse한 matrix와 동일한 행렬을 표현할 수 있도록 하는 데이터 구조입니다.\n",
    "\n",
    "CSR matrix를 직접 만들어 봅시다."
   ]
  },
  {
   "cell_type": "code",
   "execution_count": 15,
   "id": "3392ec37",
   "metadata": {},
   "outputs": [
    {
     "data": {
      "text/plain": [
       "<6040x3628 sparse matrix of type '<class 'numpy.int64'>'\n",
       "\twith 836483 stored elements in Compressed Sparse Row format>"
      ]
     },
     "execution_count": 15,
     "metadata": {},
     "output_type": "execute_result"
    }
   ],
   "source": [
    "num_user = ratings['user_id'].nunique()\n",
    "num_movie = ratings['movie_id'].nunique()\n",
    "\n",
    "csr_ratings = csr_matrix((ratings.counts, (ratings.user_id, ratings.movie_id)), shape=(num_user, num_movie))\n",
    "csr_ratings"
   ]
  },
  {
   "cell_type": "markdown",
   "id": "4fa66246",
   "metadata": {},
   "source": [
    "# 4. Model Training\n",
    "MF모델을 implicit패키지를 사용하여 학습해봅시다.\n",
    "\n",
    "implicit패키지는 암묵적 데이터셋을 사용하는 다양한 모델을 굉장히 빠르게 학습할 수 있는 패키지입니다.\n",
    "\n",
    "이 패키지에 구현된 als(AlternatingLeastSquares)모델을 사용하겠습니다. MF에서 쪼개진 두 feature matrix를 한꺼번에 훈련하는 것은 잘 수렴하지 않기 때문에, 한쪽을 고정시키고 다른쪽을 학습하는 방식을 번갈아 수행하는 ALS방식이 효과적인 것으로 알려져있습니다."
   ]
  },
  {
   "cell_type": "code",
   "execution_count": 16,
   "id": "96ee7a98",
   "metadata": {},
   "outputs": [],
   "source": [
    "# implicit 라이브러리에서 권장하고 있는 부분입니다.\n",
    "os.environ['OPENBLAS_NUM_THREADS']='1'\n",
    "os.environ['KMP_DUPLICATE_LIB_OK']='True'\n",
    "os.environ['MKL_NUM_THREADS']='1'"
   ]
  },
  {
   "cell_type": "code",
   "execution_count": 17,
   "id": "94dfecca",
   "metadata": {},
   "outputs": [],
   "source": [
    "als_model = AlternatingLeastSquares(factors=300, regularization=0.01, use_gpu=False, iterations=40, dtype=np.float32)"
   ]
  },
  {
   "cell_type": "markdown",
   "id": "43457b9c",
   "metadata": {},
   "source": [
    "ALS클래스의 '\\__init__\\'파라미터를 살펴보겠습니다.\n",
    "\n",
    "- factors : 유저와 아이템의 벡터를 몇차원으로 할 것인지\n",
    "- regularization : 과적합을 방지하기 위해 정규화 값을 얼마나 사용할 것인지\n",
    "- use_gpu : GPU를 사용할 것인지\n",
    "- iterations : epochs와 같은 의미입니다. 데이터를 몇 번 반복해서 학습할 것인지"
   ]
  },
  {
   "cell_type": "code",
   "execution_count": 18,
   "id": "77dcd087",
   "metadata": {},
   "outputs": [
    {
     "data": {
      "text/plain": [
       "<3628x6040 sparse matrix of type '<class 'numpy.int64'>'\n",
       "\twith 836483 stored elements in Compressed Sparse Column format>"
      ]
     },
     "execution_count": 18,
     "metadata": {},
     "output_type": "execute_result"
    }
   ],
   "source": [
    "# als 모델은 input으로 (item X user 꼴의 matrix를 받기 때문에 Transpose해줍니다.)\n",
    "csr_ratings_transpose = csr_ratings.T\n",
    "csr_ratings_transpose"
   ]
  },
  {
   "cell_type": "code",
   "execution_count": 19,
   "id": "5d00b37d",
   "metadata": {},
   "outputs": [
    {
     "data": {
      "application/vnd.jupyter.widget-view+json": {
       "model_id": "7da67ca4d71e495cbf8ddf8441413f44",
       "version_major": 2,
       "version_minor": 0
      },
      "text/plain": [
       "  0%|          | 0/40 [00:00<?, ?it/s]"
      ]
     },
     "metadata": {},
     "output_type": "display_data"
    }
   ],
   "source": [
    "als_model.fit(csr_ratings_transpose)"
   ]
  },
  {
   "cell_type": "markdown",
   "id": "ae521e80",
   "metadata": {},
   "source": [
    "학습이 끝났습니다. 이제 2가지를 살펴보도록하겠습니다.\n",
    "\n",
    "- me벡터와 alien의 벡터를 어떻게 만들고 있는지\n",
    "- 두 벡터를 곱하면 어떤 값이 나오는지"
   ]
  },
  {
   "cell_type": "code",
   "execution_count": 20,
   "id": "4980ad76",
   "metadata": {},
   "outputs": [],
   "source": [
    "me, alien = user_to_idx[9999], movie_to_idx[1196]\n",
    "me_vector, alien_vector = als_model.user_factors[me], als_model.item_factors[alien]"
   ]
  },
  {
   "cell_type": "code",
   "execution_count": 21,
   "id": "53473378",
   "metadata": {},
   "outputs": [
    {
     "data": {
      "text/plain": [
       "array([-2.01052010e-01, -1.68140918e-01,  2.77602255e-01, -3.11742350e-02,\n",
       "       -8.53191540e-02,  4.89291400e-01, -1.06989413e-01,  1.22794002e-01,\n",
       "       -1.81463912e-01, -1.96494870e-02, -4.96315770e-02, -2.74184376e-01,\n",
       "       -2.98992664e-01, -1.12727560e-01, -7.92355388e-02, -6.09653354e-01,\n",
       "       -1.26788825e-01, -2.20811382e-01, -8.21911454e-01, -2.08423346e-01,\n",
       "        1.09285556e-01, -4.89238590e-01,  2.50157386e-01,  3.47295493e-01,\n",
       "        8.55798721e-02, -2.88565934e-01, -1.65121242e-01,  6.22698106e-02,\n",
       "       -4.29313183e-02, -9.43250358e-02,  1.48589939e-01,  2.82914668e-01,\n",
       "       -3.44023585e-01, -1.78415582e-01,  1.78776070e-01, -2.53866669e-02,\n",
       "       -2.55468130e-01,  4.10348862e-01, -1.34143576e-01, -4.17856090e-02,\n",
       "       -1.12958208e-01, -1.75790712e-01, -2.89460093e-01, -3.59140724e-01,\n",
       "       -8.79026502e-02,  6.68172538e-01, -3.21096450e-01, -3.93976957e-01,\n",
       "       -2.25536060e-02,  8.15544501e-02, -2.58071035e-01, -2.50044852e-01,\n",
       "        6.45533979e-01,  7.77613938e-01,  4.11921740e-01,  3.20747286e-01,\n",
       "        6.05144143e-01, -2.28795469e-01,  8.16160291e-02,  2.63288617e-01,\n",
       "       -5.03318533e-02,  2.65962541e-01,  2.99537420e-01, -5.07372580e-02,\n",
       "        5.12110412e-01,  2.43884861e-01, -6.71300411e-01,  8.39888394e-01,\n",
       "        3.08242142e-01,  2.61706114e-01, -1.35503069e-01,  3.19446295e-01,\n",
       "       -2.28082359e-01,  5.05150259e-01,  3.73149484e-01, -4.41465154e-02,\n",
       "        2.24380612e-01,  1.28315210e-01, -1.74334973e-01, -2.46826589e-01,\n",
       "        1.51786255e-02, -3.05573374e-01, -1.24795094e-01,  5.09538241e-02,\n",
       "       -2.87481159e-01, -3.43738534e-02, -2.62701958e-01,  1.12669490e-01,\n",
       "       -4.45823848e-01, -6.38936609e-02, -3.27692509e-01, -1.49690881e-01,\n",
       "       -1.52827784e-01, -2.22155184e-01,  8.89508128e-02,  4.02196437e-01,\n",
       "        7.80869052e-02,  5.47937095e-01, -4.95688319e-01, -2.95252234e-01,\n",
       "        2.88513660e-01,  4.02464479e-01, -4.15157497e-01, -3.10250968e-01,\n",
       "       -1.43625513e-01,  1.38543397e-01,  7.57034644e-02, -1.33671926e-03,\n",
       "       -4.34862763e-01, -1.09496050e-01,  6.69231653e-01,  1.05050430e-01,\n",
       "        1.37779877e-01, -3.06742787e-01,  6.29251474e-04,  7.63532072e-02,\n",
       "       -1.76191747e-01,  4.11183648e-02,  2.25077868e-01,  1.62389711e-01,\n",
       "       -3.45295280e-01, -9.77036953e-02, -1.78647995e-01,  6.87712654e-02,\n",
       "        1.52774557e-01, -6.61770478e-02,  5.56585848e-01, -9.21607912e-02,\n",
       "        1.68725044e-01,  4.20336723e-01,  2.82032371e-01, -1.15888193e-01,\n",
       "       -2.72382647e-01, -5.53392172e-01, -7.28200972e-01,  2.38719266e-02,\n",
       "        1.72668789e-02,  4.85277206e-01, -7.46546267e-03,  1.81430295e-01,\n",
       "        9.27378610e-02, -4.85386819e-01, -1.46741241e-01, -1.24286748e-01,\n",
       "       -2.23974138e-01,  3.54222983e-01,  1.69521451e-01,  1.05999541e-02,\n",
       "        4.63521987e-01, -6.65475279e-02,  6.81859136e-01, -2.19782814e-01,\n",
       "        9.16088894e-02, -2.71892786e-01,  1.03832260e-01,  1.36844516e-01,\n",
       "        2.07329318e-01,  4.88314450e-01, -8.45634520e-01,  2.11208791e-01,\n",
       "        4.53387141e-01,  2.68641025e-01,  9.51333493e-02,  1.93305850e-01,\n",
       "        9.54086483e-02, -4.93698299e-01, -3.80601414e-04,  1.34988382e-01,\n",
       "       -7.72411749e-02,  6.09949648e-01, -2.46218860e-01,  6.16526790e-02,\n",
       "       -1.93374231e-01,  4.59429659e-02,  7.08317682e-02, -4.41848934e-02,\n",
       "        2.22407579e-01, -6.02390356e-02,  2.07694381e-01, -2.28311699e-02,\n",
       "        3.94331485e-01,  6.05191946e-01,  2.05622260e-02,  1.85299404e-02,\n",
       "       -5.52972198e-01, -1.23127952e-01,  1.78505957e-01, -1.03564098e-01,\n",
       "        5.06618738e-01, -3.13863605e-01, -1.21370435e-01, -1.68021455e-01,\n",
       "        3.08955908e-01, -1.39906958e-01, -1.56770587e-01,  9.19866040e-02,\n",
       "       -6.78878009e-01, -2.92806596e-01, -9.92907584e-02,  9.71025899e-02,\n",
       "       -8.70169029e-02, -5.35255611e-01,  1.40730903e-01,  5.04886627e-01,\n",
       "        4.34777439e-01,  2.27402255e-01,  4.28169221e-01, -6.15865178e-02,\n",
       "        1.34032533e-01, -1.03981368e-01,  2.02190727e-01,  1.04073785e-01,\n",
       "       -5.06229401e-01, -3.26792181e-01, -4.38643694e-02, -1.41359016e-01,\n",
       "       -2.24248901e-01,  3.32539767e-01, -7.63305277e-02, -3.99524599e-01,\n",
       "       -4.12535250e-01, -5.50488941e-04, -2.54661113e-01, -1.84836626e-01,\n",
       "       -3.91074657e-01,  2.94481874e-01, -2.72475392e-01,  7.15672374e-02,\n",
       "        2.77701527e-01,  1.38425976e-01, -2.88157046e-01,  4.01040986e-02,\n",
       "       -1.41225383e-01,  1.08089633e-01, -1.74420848e-01, -1.43877417e-01,\n",
       "       -4.35278602e-02, -4.00078744e-01, -3.78930300e-01,  2.02268541e-01,\n",
       "       -6.94495663e-02,  8.29522461e-02, -1.72936901e-01,  1.45740524e-01,\n",
       "       -2.28323132e-01,  5.94436377e-03,  3.04344982e-01,  5.70869029e-01,\n",
       "       -6.91293329e-02, -2.64135778e-01,  3.23894054e-01, -1.31360769e-01,\n",
       "       -1.20850220e-01,  1.53952762e-01,  4.18642312e-01,  5.57633974e-02,\n",
       "        3.13722879e-01, -1.56150296e-01,  1.81582525e-01, -5.09376168e-01,\n",
       "        9.68836620e-02, -1.42668515e-01, -7.09427536e-01, -5.28030805e-02,\n",
       "        2.28681430e-01, -2.10495219e-01,  1.08579695e-01, -2.91232735e-01,\n",
       "        1.89955756e-01,  2.41149500e-01,  5.88414192e-01, -1.13083959e-01,\n",
       "       -1.47228137e-01, -3.12706903e-02, -1.04569390e-01, -3.22994739e-01,\n",
       "        4.51619685e-01,  3.96897011e-02, -4.00293231e-01, -4.25899506e-01,\n",
       "       -8.72464031e-02,  1.91404715e-01,  2.33939543e-01, -1.10520937e-01,\n",
       "       -5.33365965e-01,  2.78154999e-01,  2.89624214e-01,  6.22905791e-02,\n",
       "        2.01112288e-03,  7.01471984e-01, -1.61394700e-01, -1.48958832e-01,\n",
       "        8.50363541e-03, -2.92165149e-02,  3.20524015e-02,  2.58849740e-01,\n",
       "        5.26053645e-02,  1.04079060e-01,  3.38146240e-02, -4.17449921e-01],\n",
       "      dtype=float32)"
      ]
     },
     "execution_count": 21,
     "metadata": {},
     "output_type": "execute_result"
    }
   ],
   "source": [
    "me_vector"
   ]
  },
  {
   "cell_type": "code",
   "execution_count": 22,
   "id": "705548ac",
   "metadata": {},
   "outputs": [
    {
     "data": {
      "text/plain": [
       "array([-0.00246876,  0.02221882,  0.03505241,  0.00843004,  0.0010936 ,\n",
       "       -0.00974372, -0.00691387,  0.0240144 ,  0.00791384,  0.01918036,\n",
       "        0.00039211, -0.02633163, -0.01950226, -0.00174731,  0.01666697,\n",
       "       -0.00711615,  0.00278425, -0.01252815, -0.02421623, -0.02656219,\n",
       "        0.00510596, -0.02309096,  0.02350282, -0.00475428, -0.00907645,\n",
       "       -0.0076217 , -0.00072826,  0.01301471,  0.0211603 , -0.03443914,\n",
       "       -0.00944594, -0.00663843, -0.01614538,  0.00476445,  0.00981977,\n",
       "        0.01015685, -0.02177292,  0.02645059, -0.00124668,  0.02372753,\n",
       "        0.02643981, -0.01019626,  0.01668161, -0.01953787, -0.00364409,\n",
       "        0.01559885,  0.0022545 ,  0.00170806,  0.01709651, -0.02021079,\n",
       "        0.02507648, -0.0300436 ,  0.04353349,  0.03995365,  0.0442072 ,\n",
       "        0.01780226,  0.01243417,  0.00618821, -0.02520622,  0.00576079,\n",
       "       -0.00980566,  0.01463096,  0.011481  ,  0.014301  ,  0.01504409,\n",
       "        0.03136016, -0.02414943,  0.02705514,  0.02504139,  0.01903469,\n",
       "        0.01872227,  0.02481338, -0.02711413,  0.01139613,  0.02317476,\n",
       "        0.02279007, -0.02548206,  0.01279002,  0.01233584, -0.0188601 ,\n",
       "        0.00664867,  0.013974  ,  0.01219909,  0.00729836, -0.01727783,\n",
       "        0.00149904, -0.00503285,  0.02734729, -0.01803144, -0.00323806,\n",
       "       -0.01901423,  0.00445893, -0.00220927,  0.02574831,  0.03126835,\n",
       "       -0.00320632,  0.01518574,  0.02846766,  0.03277609, -0.02518659,\n",
       "       -0.00114001,  0.01322385,  0.00205087, -0.01926014,  0.02306629,\n",
       "       -0.02108314,  0.00391153,  0.01759345, -0.00727141,  0.00685262,\n",
       "        0.0262272 , -0.01183813,  0.00487497,  0.00299743, -0.01720331,\n",
       "        0.00430466, -0.00819465,  0.02450652,  0.00983592,  0.03510151,\n",
       "        0.02681729,  0.00582842, -0.01331971, -0.01893679, -0.00844102,\n",
       "        0.02547904,  0.02165904, -0.0393164 ,  0.03198577, -0.0033112 ,\n",
       "        0.02686993,  0.00886184, -0.00022063, -0.02905245, -0.01379265,\n",
       "       -0.00435375,  0.00773966, -0.01842342, -0.01759511,  0.01660152,\n",
       "        0.00651836, -0.02091925,  0.02519801, -0.02290636, -0.00716927,\n",
       "       -0.00118955, -0.01428647, -0.00226473,  0.02819771, -0.00020734,\n",
       "        0.04264085, -0.02067234,  0.00929132, -0.00648726, -0.01135775,\n",
       "        0.0072561 ,  0.0218358 ,  0.02351366, -0.017658  , -0.00971491,\n",
       "        0.01247802,  0.04057165,  0.00130139,  0.00771814,  0.00044192,\n",
       "       -0.00794836,  0.00194467, -0.00775095,  0.01395076,  0.03931237,\n",
       "       -0.01618054,  0.00350815,  0.02998886,  0.0024127 ,  0.03584313,\n",
       "        0.00379626,  0.01042191,  0.01420916,  0.02058588, -0.0170543 ,\n",
       "        0.02967023,  0.01349848, -0.0095755 , -0.0200269 , -0.00359866,\n",
       "       -0.01197961,  0.02307648,  0.02304506,  0.02662223, -0.00300241,\n",
       "        0.0080367 ,  0.00086775,  0.00376105,  0.00170208, -0.00668405,\n",
       "       -0.00038307, -0.04421999, -0.01337909,  0.01539085,  0.03231281,\n",
       "        0.02337608, -0.03201614, -0.01354752,  0.01358931,  0.01912514,\n",
       "       -0.02433836,  0.02453333, -0.00126864, -0.00415707, -0.00015603,\n",
       "        0.02214076,  0.01086224, -0.02439746, -0.01108699,  0.00320375,\n",
       "        0.00319926,  0.01173893,  0.02086869, -0.00107347, -0.00265836,\n",
       "       -0.01103419, -0.01859551, -0.01164535, -0.03204473,  0.00690474,\n",
       "        0.03033466, -0.0182314 ,  0.0090638 , -0.00310882,  0.03904454,\n",
       "        0.00275424,  0.00345271,  0.00547961,  0.0066665 ,  0.0138269 ,\n",
       "        0.04713806,  0.01892665, -0.00831695,  0.01439271,  0.01323849,\n",
       "        0.02695756, -0.00143462, -0.01797841,  0.00064327, -0.01150896,\n",
       "        0.0218962 ,  0.02310761,  0.04701876, -0.0084466 , -0.01132151,\n",
       "       -0.00243226,  0.00320716,  0.01618125,  0.01175182,  0.02650513,\n",
       "       -0.00595206,  0.03064431, -0.03869855, -0.00501182, -0.01835179,\n",
       "       -0.01331257,  0.01493958, -0.02460609,  0.02093992,  0.02015997,\n",
       "        0.00979688,  0.00096473,  0.02470379,  0.01740366,  0.05188319,\n",
       "        0.00480614,  0.06404127,  0.00283663,  0.00708669, -0.01878455,\n",
       "        0.02026726,  0.02402201,  0.00731387, -0.01466797, -0.01322742,\n",
       "       -0.01778338,  0.04266206,  0.05081185,  0.01188014,  0.0194803 ,\n",
       "       -0.01008485,  0.00091669, -0.00777921, -0.01790379,  0.03375132,\n",
       "        0.01463693, -0.01944339, -0.0054905 , -0.02181065,  0.01819975,\n",
       "        0.00744954, -0.01200458, -0.0039357 ,  0.02864593,  0.02186472],\n",
       "      dtype=float32)"
      ]
     },
     "execution_count": 22,
     "metadata": {},
     "output_type": "execute_result"
    }
   ],
   "source": [
    "alien_vector"
   ]
  },
  {
   "cell_type": "code",
   "execution_count": 23,
   "id": "e50bb075",
   "metadata": {},
   "outputs": [
    {
     "data": {
      "text/plain": [
       "0.8012814"
      ]
     },
     "execution_count": 23,
     "metadata": {},
     "output_type": "execute_result"
    }
   ],
   "source": [
    "# me와 alien을 내적하는 코드\n",
    "np.dot(me_vector, alien_vector)"
   ]
  },
  {
   "cell_type": "markdown",
   "id": "2d88c9d2",
   "metadata": {},
   "source": [
    "선호도가 꽤 높게 나왔습니다. 잘 훈련된 것 같습니다.\n",
    "\n",
    "이렇게 학습된 모델을가지고 toy story에 대한 선호도를 어떻게 예측할지 한 번 보겠습니다.\n",
    "\n",
    "참고로 toy story는 이전에 제가 직접 별점5개를 준 영화입니다."
   ]
  },
  {
   "cell_type": "code",
   "execution_count": 24,
   "id": "6eb8016e",
   "metadata": {},
   "outputs": [
    {
     "data": {
      "text/plain": [
       "0.84533244"
      ]
     },
     "execution_count": 24,
     "metadata": {},
     "output_type": "execute_result"
    }
   ],
   "source": [
    "# movie_to_idx[1]은 toy story를 뜻합니다.\n",
    "toy_story = movie_to_idx[1]\n",
    "toy_vector = als_model.item_factors[toy_story]\n",
    "np.dot(me_vector, toy_vector)"
   ]
  },
  {
   "cell_type": "markdown",
   "id": "af962c01",
   "metadata": {},
   "source": [
    "역시나 선호도가 높게나왔네요."
   ]
  },
  {
   "cell_type": "markdown",
   "id": "038fd9a4",
   "metadata": {},
   "source": [
    "# 5. 내가 좋아하는 영화와 비슷한 영화를 추천받기\n",
    "ALS클래스에 구현되어 있는 similar_items메서드를 통하여 비슷한 영화를 찾습니다. 처음으로는 제가 좋아하는 alien으로 찾아보겠습니다."
   ]
  },
  {
   "cell_type": "code",
   "execution_count": 25,
   "id": "433df930",
   "metadata": {},
   "outputs": [
    {
     "data": {
      "text/plain": [
       "[(117, 1.0),\n",
       " (44, 0.46208465),\n",
       " (64, 0.36175212),\n",
       " (651, 0.30493712),\n",
       " (1993, 0.2635562),\n",
       " (3487, 0.26317015),\n",
       " (2763, 0.25828785),\n",
       " (2038, 0.25726062),\n",
       " (3458, 0.25486493),\n",
       " (120, 0.25449628),\n",
       " (3619, 0.25411862),\n",
       " (3493, 0.25293067),\n",
       " (3600, 0.25205463),\n",
       " (2779, 0.25106364),\n",
       " (3499, 0.25103754)]"
      ]
     },
     "execution_count": 25,
     "metadata": {},
     "output_type": "execute_result"
    }
   ],
   "source": [
    "favorite_movie_idx = 1196 # alien 인덱스\n",
    "movie_id = movie_to_idx[favorite_movie_idx]\n",
    "similar_movie = als_model.similar_items(movie_id, N=15)\n",
    "similar_movie"
   ]
  },
  {
   "cell_type": "markdown",
   "id": "100f8f7d",
   "metadata": {},
   "source": [
    "(movie의 id, 유사도)Tuple을 반환하고있습니다. 하지만 가장 유사한 영화의 유사도가 0.4정도밖에 안되네요. 그래도 일단 movie의 id를 다시 movie의 title로 매핑 시켜주겠습니다."
   ]
  },
  {
   "cell_type": "code",
   "execution_count": 26,
   "id": "805b636a",
   "metadata": {},
   "outputs": [
    {
     "data": {
      "text/plain": [
       "[1196,\n",
       " 260,\n",
       " 1210,\n",
       " 1200,\n",
       " 885,\n",
       " 3374,\n",
       " 1471,\n",
       " 84,\n",
       " 2127,\n",
       " 1198,\n",
       " 3530,\n",
       " 3595,\n",
       " 3748,\n",
       " 1134,\n",
       " 2887]"
      ]
     },
     "execution_count": 26,
     "metadata": {},
     "output_type": "execute_result"
    }
   ],
   "source": [
    "# movie_to_idx를 뒤집어, index로부터 movie이름을 얻는 dict를 생성합니다.\n",
    "idx_to_movie = {v:k for k,v in movie_to_idx.items()}\n",
    "mv_id = [idx_to_movie[i[0]] for i in similar_movie]\n",
    "mv_id"
   ]
  },
  {
   "cell_type": "code",
   "execution_count": 27,
   "id": "7bbe55ac",
   "metadata": {},
   "outputs": [
    {
     "data": {
      "text/plain": [
       "1196                                         alien (1979)\n",
       "260                              ladybird ladybird (1994)\n",
       "1210                                   raging bull (1980)\n",
       "1200            killer, the (die xue shuang xiong) (1989)\n",
       "885                        for whom the bell tolls (1943)\n",
       "3374                                 born american (1986)\n",
       "1471                       8 heads in a duffel bag (1997)\n",
       "84                              angels and insects (1995)\n",
       "2127                                     knock off (1998)\n",
       "1198                 big blue, the (le grand bleu) (1988)\n",
       "3530                                anchors aweigh (1945)\n",
       "3595            puppet master 5: the final chapter (1994)\n",
       "3748                                   pot o' gold (1941)\n",
       "1134    return of martin guerre, the (retour de martin...\n",
       "2887                      someone to watch over me (1987)\n",
       "Name: title, dtype: object"
      ]
     },
     "execution_count": 27,
     "metadata": {},
     "output_type": "execute_result"
    }
   ],
   "source": [
    "movies['title'][mv_id]"
   ]
  },
  {
   "cell_type": "markdown",
   "id": "17021a5a",
   "metadata": {},
   "source": [
    "# 6. 내가 가장 좋아할 만한 영화들을 추천받기\n",
    "ALS클래스에 구현되어 있는 recommend메서드를 통하여 제가 좋아할 만한 영화를 추천받습니다.\\ filter_already_liked_items는 유저가 이미 평가한 아이템은 제외하는 Argument입니다."
   ]
  },
  {
   "cell_type": "code",
   "execution_count": 28,
   "id": "579b9bee",
   "metadata": {},
   "outputs": [
    {
     "data": {
      "text/plain": [
       "[(44, 0.36736852),\n",
       " (64, 0.32716677),\n",
       " (50, 0.23906273),\n",
       " (92, 0.21503773),\n",
       " (269, 0.18486807),\n",
       " (48, 0.18479452),\n",
       " (233, 0.16532359),\n",
       " (289, 0.16502778),\n",
       " (651, 0.1627573),\n",
       " (157, 0.1606977),\n",
       " (22, 0.14397359),\n",
       " (613, 0.14009213),\n",
       " (120, 0.13541587),\n",
       " (154, 0.13197236),\n",
       " (369, 0.13080077),\n",
       " (5, 0.13028231),\n",
       " (51, 0.13000374),\n",
       " (255, 0.1293566),\n",
       " (1088, 0.12745462),\n",
       " (33, 0.12722047)]"
      ]
     },
     "execution_count": 28,
     "metadata": {},
     "output_type": "execute_result"
    }
   ],
   "source": [
    "user = user_to_idx[9999]\n",
    "\n",
    "#recommend에서는 user*item CSR Matrix를 받습니다.\n",
    "movie_recommended = als_model.recommend(user, csr_ratings, N=20, filter_already_liked_items=True)\n",
    "movie_recommended"
   ]
  },
  {
   "cell_type": "markdown",
   "id": "30f8d82a",
   "metadata": {},
   "source": [
    "해당 인덱스들을 영화id로 바꿔봅시다."
   ]
  },
  {
   "cell_type": "code",
   "execution_count": 29,
   "id": "90dd05a1",
   "metadata": {},
   "outputs": [
    {
     "data": {
      "text/plain": [
       "[260,\n",
       " 1210,\n",
       " 3114,\n",
       " 589,\n",
       " 1213,\n",
       " 2028,\n",
       " 50,\n",
       " 1089,\n",
       " 1200,\n",
       " 318,\n",
       " 1270,\n",
       " 357,\n",
       " 1198,\n",
       " 1784,\n",
       " 1674,\n",
       " 1197,\n",
       " 608,\n",
       " 1923,\n",
       " 708,\n",
       " 588]"
      ]
     },
     "execution_count": 29,
     "metadata": {},
     "output_type": "execute_result"
    }
   ],
   "source": [
    "[idx_to_movie[i[0]] for i in movie_recommended]"
   ]
  },
  {
   "cell_type": "markdown",
   "id": "36e6ded4",
   "metadata": {},
   "source": [
    "ladybird를 추천해주고있습니다. 모델은 왜 ladybird를 추천해줬을까요? als클래스에 구현된 explain메서드를 사용해 제가 기록을 남긴 데이터중 이 추천에 기여한 정도를 확인할 수 있습니다."
   ]
  },
  {
   "cell_type": "code",
   "execution_count": 30,
   "id": "574e6d6a",
   "metadata": {},
   "outputs": [],
   "source": [
    "ladybird = movie_to_idx[1]\n",
    "explain = als_model.explain(user, csr_ratings, itemid=ladybird)"
   ]
  },
  {
   "cell_type": "markdown",
   "id": "2d162d68",
   "metadata": {},
   "source": [
    "이 method는 추천한 콘텐츠의 점수에 기여한 다른 콘텐츠와 기여도(합이 콘텐츠의 점수가 됩니다.)를 반환합니다. 어떤 영화들이 이 추천에 얼마나 기여하고 있는걸까요?"
   ]
  },
  {
   "cell_type": "code",
   "execution_count": 31,
   "id": "d5e27a82",
   "metadata": {},
   "outputs": [
    {
     "data": {
      "text/plain": [
       "[(1, 0.7885233911207443),\n",
       " (2571, 0.028235225189519826),\n",
       " (1265, 0.024135607584047772),\n",
       " (296, 0.0011379710420549203),\n",
       " (1196, -0.0062046114495955965)]"
      ]
     },
     "execution_count": 31,
     "metadata": {},
     "output_type": "execute_result"
    }
   ],
   "source": [
    "[(idx_to_movie[i[0]], i[1]) for i in explain[1]]"
   ]
  },
  {
   "cell_type": "markdown",
   "id": "b0cf9986",
   "metadata": {},
   "source": [
    "토이스토리의 기여가 0.78로 대부분입니다.(index:1) 그런데 결과가 조금 이상합니다. filter_already_liked_items=True로 했는데 이미 평가한 아이템이 나왔습니다. 이것은 implicit 버전 0.4.2에서 생긴 버그라고합니다."
   ]
  },
  {
   "cell_type": "markdown",
   "id": "c5cae5a1",
   "metadata": {},
   "source": [
    "# 출처\n",
    "https://github.com/seyoung0218/Exploration-AIFFEL/blob/main/Exploration13/Exploration13.ipynb\n",
    "\n"
   ]
  },
  {
   "cell_type": "markdown",
   "id": "89232ce3",
   "metadata": {},
   "source": [
    "# 회고\n",
    "- recommand system이 쉽지 않음을 깨달았다.\n",
    "- csr matrix를 이해하기 쉽지 않았다.\n",
    "- csr matrix를 방학 때 csr matrix를 이해해봐야겠다."
   ]
  }
 ],
 "metadata": {
  "kernelspec": {
   "display_name": "Python 3 (ipykernel)",
   "language": "python",
   "name": "python3"
  },
  "language_info": {
   "codemirror_mode": {
    "name": "ipython",
    "version": 3
   },
   "file_extension": ".py",
   "mimetype": "text/x-python",
   "name": "python",
   "nbconvert_exporter": "python",
   "pygments_lexer": "ipython3",
   "version": "3.9.7"
  }
 },
 "nbformat": 4,
 "nbformat_minor": 5
}
